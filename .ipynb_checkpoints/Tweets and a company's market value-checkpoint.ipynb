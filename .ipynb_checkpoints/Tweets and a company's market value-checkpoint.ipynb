{
 "cells": [
  {
   "cell_type": "code",
   "execution_count": 190,
   "metadata": {},
   "outputs": [],
   "source": [
    "%matplotlib inline"
   ]
  },
  {
   "cell_type": "code",
   "execution_count": 137,
   "metadata": {},
   "outputs": [],
   "source": [
    "from skimage.io import collection, imread\n",
    "import numpy as np\n",
    "import pandas as pd\n",
    "import matplotlib.pyplot as plt\n",
    "\n",
    "import os\n",
    "import re\n",
    "import glob\n",
    "\n",
    "from datetime import datetime\n",
    "import nltk"
   ]
  },
  {
   "cell_type": "markdown",
   "metadata": {},
   "source": [
    "# How is the public opinion about a company correlated to it's market value?"
   ]
  },
  {
   "cell_type": "markdown",
   "metadata": {},
   "source": [
    "A company's market value is variable and depends on a lot of factors. The price is a reflection of the company's perceived value - what the public is willing to pay for a piece of the company. It can and will rise and fall, based on a variety of factors in the global landscape and within the company itself. One of which is becoming more influential than ever - people's opinion on social media."
   ]
  },
  {
   "cell_type": "markdown",
   "metadata": {},
   "source": [
    "To analyze this correlation we'll look at two datasets. The first one contains over 3 million unique tweets with their information such as tweet id, author of the tweet, post date, the text body of the tweet, and the number of comments, likes, and retweets of tweets matched with the related company.\n",
    "\n",
    "The second one will just have daily stock price records (from the Forbes2000) for us to make a reference with."
   ]
  },
  {
   "cell_type": "markdown",
   "metadata": {},
   "source": [
    "### 1. Data Acquisition "
   ]
  },
  {
   "cell_type": "markdown",
   "metadata": {},
   "source": [
    "So first let's read the tweets dataset into pandas and inspect a small sample from the two dataframes."
   ]
  },
  {
   "cell_type": "code",
   "execution_count": 138,
   "metadata": {},
   "outputs": [
    {
     "data": {
      "text/html": [
       "<div>\n",
       "<style scoped>\n",
       "    .dataframe tbody tr th:only-of-type {\n",
       "        vertical-align: middle;\n",
       "    }\n",
       "\n",
       "    .dataframe tbody tr th {\n",
       "        vertical-align: top;\n",
       "    }\n",
       "\n",
       "    .dataframe thead th {\n",
       "        text-align: right;\n",
       "    }\n",
       "</style>\n",
       "<table border=\"1\" class=\"dataframe\">\n",
       "  <thead>\n",
       "    <tr style=\"text-align: right;\">\n",
       "      <th></th>\n",
       "      <th>tweet_id</th>\n",
       "      <th>writer</th>\n",
       "      <th>post_date</th>\n",
       "      <th>body</th>\n",
       "      <th>comment_num</th>\n",
       "      <th>retweet_num</th>\n",
       "      <th>like_num</th>\n",
       "    </tr>\n",
       "  </thead>\n",
       "  <tbody>\n",
       "    <tr>\n",
       "      <th>64725</th>\n",
       "      <td>562666962820804608</td>\n",
       "      <td>duttasanjib</td>\n",
       "      <td>1422985232</td>\n",
       "      <td>#LendingClub Adds #Tech-Firm #Cred With #Aliba...</td>\n",
       "      <td>0</td>\n",
       "      <td>0</td>\n",
       "      <td>1</td>\n",
       "    </tr>\n",
       "    <tr>\n",
       "      <th>1352758</th>\n",
       "      <td>779023777136992256</td>\n",
       "      <td>App_sw_</td>\n",
       "      <td>1474568716</td>\n",
       "      <td>#Microsoft cuts jobs locally and abroad. Read ...</td>\n",
       "      <td>0</td>\n",
       "      <td>0</td>\n",
       "      <td>0</td>\n",
       "    </tr>\n",
       "    <tr>\n",
       "      <th>1057006</th>\n",
       "      <td>735137926053400577</td>\n",
       "      <td>It_c0nsulting</td>\n",
       "      <td>1464105514</td>\n",
       "      <td>MarTech Today: Adobe's Marketing Cloud goes VR...</td>\n",
       "      <td>0</td>\n",
       "      <td>0</td>\n",
       "      <td>0</td>\n",
       "    </tr>\n",
       "    <tr>\n",
       "      <th>1712462</th>\n",
       "      <td>841314950438092802</td>\n",
       "      <td>zerofiltertruth</td>\n",
       "      <td>1489420089</td>\n",
       "      <td>- I love product &amp; see incred fit of $P with $...</td>\n",
       "      <td>2</td>\n",
       "      <td>0</td>\n",
       "      <td>0</td>\n",
       "    </tr>\n",
       "    <tr>\n",
       "      <th>1570402</th>\n",
       "      <td>815474913951641600</td>\n",
       "      <td>It_c0nsulting</td>\n",
       "      <td>1483259344</td>\n",
       "      <td>#Google Assistant vs. Siri: Which is the Best ...</td>\n",
       "      <td>0</td>\n",
       "      <td>0</td>\n",
       "      <td>0</td>\n",
       "    </tr>\n",
       "  </tbody>\n",
       "</table>\n",
       "</div>"
      ],
      "text/plain": [
       "                   tweet_id           writer   post_date  \\\n",
       "64725    562666962820804608      duttasanjib  1422985232   \n",
       "1352758  779023777136992256          App_sw_  1474568716   \n",
       "1057006  735137926053400577    It_c0nsulting  1464105514   \n",
       "1712462  841314950438092802  zerofiltertruth  1489420089   \n",
       "1570402  815474913951641600    It_c0nsulting  1483259344   \n",
       "\n",
       "                                                      body  comment_num  \\\n",
       "64725    #LendingClub Adds #Tech-Firm #Cred With #Aliba...            0   \n",
       "1352758  #Microsoft cuts jobs locally and abroad. Read ...            0   \n",
       "1057006  MarTech Today: Adobe's Marketing Cloud goes VR...            0   \n",
       "1712462  - I love product & see incred fit of $P with $...            2   \n",
       "1570402  #Google Assistant vs. Siri: Which is the Best ...            0   \n",
       "\n",
       "         retweet_num  like_num  \n",
       "64725              0         1  \n",
       "1352758            0         0  \n",
       "1057006            0         0  \n",
       "1712462            0         0  \n",
       "1570402            0         0  "
      ]
     },
     "execution_count": 138,
     "metadata": {},
     "output_type": "execute_result"
    }
   ],
   "source": [
    "tweets = pd.read_csv('./top-companies-tweets/Tweet.csv')\n",
    "tweets.sample(5)"
   ]
  },
  {
   "cell_type": "code",
   "execution_count": 139,
   "metadata": {},
   "outputs": [
    {
     "data": {
      "text/html": [
       "<div>\n",
       "<style scoped>\n",
       "    .dataframe tbody tr th:only-of-type {\n",
       "        vertical-align: middle;\n",
       "    }\n",
       "\n",
       "    .dataframe tbody tr th {\n",
       "        vertical-align: top;\n",
       "    }\n",
       "\n",
       "    .dataframe thead th {\n",
       "        text-align: right;\n",
       "    }\n",
       "</style>\n",
       "<table border=\"1\" class=\"dataframe\">\n",
       "  <thead>\n",
       "    <tr style=\"text-align: right;\">\n",
       "      <th></th>\n",
       "      <th>tweet_id</th>\n",
       "      <th>ticker_symbol</th>\n",
       "    </tr>\n",
       "  </thead>\n",
       "  <tbody>\n",
       "    <tr>\n",
       "      <th>399994</th>\n",
       "      <td>697766652960755712</td>\n",
       "      <td>AAPL</td>\n",
       "    </tr>\n",
       "    <tr>\n",
       "      <th>1859856</th>\n",
       "      <td>621771236289474560</td>\n",
       "      <td>GOOGL</td>\n",
       "    </tr>\n",
       "    <tr>\n",
       "      <th>2025143</th>\n",
       "      <td>968127871008075776</td>\n",
       "      <td>GOOGL</td>\n",
       "    </tr>\n",
       "    <tr>\n",
       "      <th>4236311</th>\n",
       "      <td>1173944494275911680</td>\n",
       "      <td>TSLA</td>\n",
       "    </tr>\n",
       "    <tr>\n",
       "      <th>3522153</th>\n",
       "      <td>875834102926245888</td>\n",
       "      <td>TSLA</td>\n",
       "    </tr>\n",
       "  </tbody>\n",
       "</table>\n",
       "</div>"
      ],
      "text/plain": [
       "                    tweet_id ticker_symbol\n",
       "399994    697766652960755712          AAPL\n",
       "1859856   621771236289474560         GOOGL\n",
       "2025143   968127871008075776         GOOGL\n",
       "4236311  1173944494275911680          TSLA\n",
       "3522153   875834102926245888          TSLA"
      ]
     },
     "execution_count": 139,
     "metadata": {},
     "output_type": "execute_result"
    }
   ],
   "source": [
    "tweets_company = pd.read_csv('./top-companies-tweets/Company_Tweet.csv')\n",
    "tweets_company.sample(5)"
   ]
  },
  {
   "cell_type": "markdown",
   "metadata": {},
   "source": [
    "So next up let's read the datasets for each of the stocks, which we are monitoring. We will save them in a dictionary with the key, being the company's tick name and the value - it's stock prices over time dataset."
   ]
  },
  {
   "cell_type": "code",
   "execution_count": 140,
   "metadata": {},
   "outputs": [
    {
     "data": {
      "text/html": [
       "<div>\n",
       "<style scoped>\n",
       "    .dataframe tbody tr th:only-of-type {\n",
       "        vertical-align: middle;\n",
       "    }\n",
       "\n",
       "    .dataframe tbody tr th {\n",
       "        vertical-align: top;\n",
       "    }\n",
       "\n",
       "    .dataframe thead th {\n",
       "        text-align: right;\n",
       "    }\n",
       "</style>\n",
       "<table border=\"1\" class=\"dataframe\">\n",
       "  <thead>\n",
       "    <tr style=\"text-align: right;\">\n",
       "      <th></th>\n",
       "      <th></th>\n",
       "      <th>Date</th>\n",
       "      <th>Low</th>\n",
       "      <th>Open</th>\n",
       "      <th>Volume</th>\n",
       "      <th>High</th>\n",
       "      <th>Close</th>\n",
       "      <th>Adjusted Close</th>\n",
       "    </tr>\n",
       "  </thead>\n",
       "  <tbody>\n",
       "    <tr>\n",
       "      <th rowspan=\"3\" valign=\"top\">AAPL</th>\n",
       "      <th>7830</th>\n",
       "      <td>23-12-2011</td>\n",
       "      <td>14.267500</td>\n",
       "      <td>14.274643</td>\n",
       "      <td>269399200</td>\n",
       "      <td>14.413929</td>\n",
       "      <td>14.404643</td>\n",
       "      <td>12.386595</td>\n",
       "    </tr>\n",
       "    <tr>\n",
       "      <th>6379</th>\n",
       "      <td>23-03-2006</td>\n",
       "      <td>2.128929</td>\n",
       "      <td>2.207857</td>\n",
       "      <td>1427826400</td>\n",
       "      <td>2.210714</td>\n",
       "      <td>2.148571</td>\n",
       "      <td>1.847562</td>\n",
       "    </tr>\n",
       "    <tr>\n",
       "      <th>9254</th>\n",
       "      <td>23-08-2017</td>\n",
       "      <td>39.720001</td>\n",
       "      <td>39.767502</td>\n",
       "      <td>77596400</td>\n",
       "      <td>40.117500</td>\n",
       "      <td>39.994999</td>\n",
       "      <td>38.227753</td>\n",
       "    </tr>\n",
       "    <tr>\n",
       "      <th>GOOG</th>\n",
       "      <th>2160</th>\n",
       "      <td>20-03-2013</td>\n",
       "      <td>404.204956</td>\n",
       "      <td>406.889862</td>\n",
       "      <td>2938573</td>\n",
       "      <td>407.228607</td>\n",
       "      <td>405.833832</td>\n",
       "      <td>405.833832</td>\n",
       "    </tr>\n",
       "    <tr>\n",
       "      <th>TSLA</th>\n",
       "      <th>231</th>\n",
       "      <td>27-05-2011</td>\n",
       "      <td>5.764000</td>\n",
       "      <td>5.908000</td>\n",
       "      <td>8435500</td>\n",
       "      <td>5.934000</td>\n",
       "      <td>5.910000</td>\n",
       "      <td>5.910000</td>\n",
       "    </tr>\n",
       "    <tr>\n",
       "      <th>AAPL</th>\n",
       "      <th>3608</th>\n",
       "      <td>22-03-1995</td>\n",
       "      <td>0.323661</td>\n",
       "      <td>0.323661</td>\n",
       "      <td>479147200</td>\n",
       "      <td>0.352679</td>\n",
       "      <td>0.339844</td>\n",
       "      <td>0.289729</td>\n",
       "    </tr>\n",
       "    <tr>\n",
       "      <th>GOOG</th>\n",
       "      <th>99</th>\n",
       "      <td>10-01-2005</td>\n",
       "      <td>95.556831</td>\n",
       "      <td>96.886841</td>\n",
       "      <td>15135721</td>\n",
       "      <td>98.680122</td>\n",
       "      <td>97.165802</td>\n",
       "      <td>97.165802</td>\n",
       "    </tr>\n",
       "    <tr>\n",
       "      <th>AAPL</th>\n",
       "      <th>8038</th>\n",
       "      <td>22-10-2012</td>\n",
       "      <td>21.812857</td>\n",
       "      <td>21.872143</td>\n",
       "      <td>546730800</td>\n",
       "      <td>22.692142</td>\n",
       "      <td>22.643929</td>\n",
       "      <td>19.555180</td>\n",
       "    </tr>\n",
       "    <tr>\n",
       "      <th rowspan=\"2\" valign=\"top\">TSLA</th>\n",
       "      <th>1663</th>\n",
       "      <td>06-02-2017</td>\n",
       "      <td>50.125999</td>\n",
       "      <td>50.200001</td>\n",
       "      <td>17812500</td>\n",
       "      <td>51.563999</td>\n",
       "      <td>51.554001</td>\n",
       "      <td>51.554001</td>\n",
       "    </tr>\n",
       "    <tr>\n",
       "      <th>755</th>\n",
       "      <td>28-06-2013</td>\n",
       "      <td>21.341999</td>\n",
       "      <td>21.714001</td>\n",
       "      <td>28743000</td>\n",
       "      <td>21.888000</td>\n",
       "      <td>21.472000</td>\n",
       "      <td>21.472000</td>\n",
       "    </tr>\n",
       "  </tbody>\n",
       "</table>\n",
       "</div>"
      ],
      "text/plain": [
       "                 Date         Low        Open      Volume        High  \\\n",
       "AAPL 7830  23-12-2011   14.267500   14.274643   269399200   14.413929   \n",
       "     6379  23-03-2006    2.128929    2.207857  1427826400    2.210714   \n",
       "     9254  23-08-2017   39.720001   39.767502    77596400   40.117500   \n",
       "GOOG 2160  20-03-2013  404.204956  406.889862     2938573  407.228607   \n",
       "TSLA 231   27-05-2011    5.764000    5.908000     8435500    5.934000   \n",
       "AAPL 3608  22-03-1995    0.323661    0.323661   479147200    0.352679   \n",
       "GOOG 99    10-01-2005   95.556831   96.886841    15135721   98.680122   \n",
       "AAPL 8038  22-10-2012   21.812857   21.872143   546730800   22.692142   \n",
       "TSLA 1663  06-02-2017   50.125999   50.200001    17812500   51.563999   \n",
       "     755   28-06-2013   21.341999   21.714001    28743000   21.888000   \n",
       "\n",
       "                Close  Adjusted Close  \n",
       "AAPL 7830   14.404643       12.386595  \n",
       "     6379    2.148571        1.847562  \n",
       "     9254   39.994999       38.227753  \n",
       "GOOG 2160  405.833832      405.833832  \n",
       "TSLA 231     5.910000        5.910000  \n",
       "AAPL 3608    0.339844        0.289729  \n",
       "GOOG 99     97.165802       97.165802  \n",
       "AAPL 8038   22.643929       19.555180  \n",
       "TSLA 1663   51.554001       51.554001  \n",
       "     755    21.472000       21.472000  "
      ]
     },
     "execution_count": 140,
     "metadata": {},
     "output_type": "execute_result"
    }
   ],
   "source": [
    "stocks_df = {}\n",
    "for name in glob.glob('./stocks/*'):\n",
    "    stocks_df[name.split('\\\\')[-1].split('.')[0]] = pd.read_csv(name)\n",
    "stocks = pd.concat(stocks_df)\n",
    "stocks.sample(10)"
   ]
  },
  {
   "cell_type": "markdown",
   "metadata": {},
   "source": [
    "### 2. Data Tidying and Cleaning"
   ]
  },
  {
   "cell_type": "markdown",
   "metadata": {},
   "source": [
    "First let's combine the two tables from the twitter dataset, convert the dates to a datetime object and rename the column."
   ]
  },
  {
   "cell_type": "code",
   "execution_count": 141,
   "metadata": {},
   "outputs": [],
   "source": [
    "tweets = pd.merge(tweets, tweets_company, on = \"tweet_id\")"
   ]
  },
  {
   "cell_type": "code",
   "execution_count": 142,
   "metadata": {},
   "outputs": [
    {
     "data": {
      "text/html": [
       "<div>\n",
       "<style scoped>\n",
       "    .dataframe tbody tr th:only-of-type {\n",
       "        vertical-align: middle;\n",
       "    }\n",
       "\n",
       "    .dataframe tbody tr th {\n",
       "        vertical-align: top;\n",
       "    }\n",
       "\n",
       "    .dataframe thead th {\n",
       "        text-align: right;\n",
       "    }\n",
       "</style>\n",
       "<table border=\"1\" class=\"dataframe\">\n",
       "  <thead>\n",
       "    <tr style=\"text-align: right;\">\n",
       "      <th></th>\n",
       "      <th>tweet_id</th>\n",
       "      <th>writer</th>\n",
       "      <th>body</th>\n",
       "      <th>comment_num</th>\n",
       "      <th>retweet_num</th>\n",
       "      <th>like_num</th>\n",
       "      <th>ticker_symbol</th>\n",
       "      <th>date</th>\n",
       "    </tr>\n",
       "  </thead>\n",
       "  <tbody>\n",
       "    <tr>\n",
       "      <th>137788</th>\n",
       "      <td>571312245981868032</td>\n",
       "      <td>FalconGlobalLLC</td>\n",
       "      <td>2/27/2015 Today’s Day Trade Zones Posted #Emin...</td>\n",
       "      <td>0</td>\n",
       "      <td>0</td>\n",
       "      <td>0</td>\n",
       "      <td>AMZN</td>\n",
       "      <td>2015-02-27 14:13:48</td>\n",
       "    </tr>\n",
       "    <tr>\n",
       "      <th>541269</th>\n",
       "      <td>629300712615317504</td>\n",
       "      <td>stockwire24</td>\n",
       "      <td>http://Amazon.com Prime Now Available In Birmi...</td>\n",
       "      <td>0</td>\n",
       "      <td>0</td>\n",
       "      <td>0</td>\n",
       "      <td>AMZN</td>\n",
       "      <td>2015-08-06 14:39:16</td>\n",
       "    </tr>\n",
       "    <tr>\n",
       "      <th>22039</th>\n",
       "      <td>555043538380271616</td>\n",
       "      <td>_abhayshah</td>\n",
       "      <td>.@delray -Aren't all big boxes guilty of this?...</td>\n",
       "      <td>0</td>\n",
       "      <td>0</td>\n",
       "      <td>0</td>\n",
       "      <td>AMZN</td>\n",
       "      <td>2015-01-13 16:47:46</td>\n",
       "    </tr>\n",
       "    <tr>\n",
       "      <th>381354</th>\n",
       "      <td>606951194536361985</td>\n",
       "      <td>stockprincess</td>\n",
       "      <td>Learn from your trading mistakes $GOOG $PCLN $...</td>\n",
       "      <td>0</td>\n",
       "      <td>0</td>\n",
       "      <td>0</td>\n",
       "      <td>AAPL</td>\n",
       "      <td>2015-06-05 22:30:16</td>\n",
       "    </tr>\n",
       "    <tr>\n",
       "      <th>4084088</th>\n",
       "      <td>1171031304986603522</td>\n",
       "      <td>sbalatan</td>\n",
       "      <td>$TSLA - Tesla’s brand is deteriorating really ...</td>\n",
       "      <td>0</td>\n",
       "      <td>0</td>\n",
       "      <td>3</td>\n",
       "      <td>TSLA</td>\n",
       "      <td>2019-09-09 12:03:14</td>\n",
       "    </tr>\n",
       "  </tbody>\n",
       "</table>\n",
       "</div>"
      ],
      "text/plain": [
       "                    tweet_id           writer  \\\n",
       "137788    571312245981868032  FalconGlobalLLC   \n",
       "541269    629300712615317504      stockwire24   \n",
       "22039     555043538380271616       _abhayshah   \n",
       "381354    606951194536361985    stockprincess   \n",
       "4084088  1171031304986603522         sbalatan   \n",
       "\n",
       "                                                      body  comment_num  \\\n",
       "137788   2/27/2015 Today’s Day Trade Zones Posted #Emin...            0   \n",
       "541269   http://Amazon.com Prime Now Available In Birmi...            0   \n",
       "22039    .@delray -Aren't all big boxes guilty of this?...            0   \n",
       "381354   Learn from your trading mistakes $GOOG $PCLN $...            0   \n",
       "4084088  $TSLA - Tesla’s brand is deteriorating really ...            0   \n",
       "\n",
       "         retweet_num  like_num ticker_symbol                date  \n",
       "137788             0         0          AMZN 2015-02-27 14:13:48  \n",
       "541269             0         0          AMZN 2015-08-06 14:39:16  \n",
       "22039              0         0          AMZN 2015-01-13 16:47:46  \n",
       "381354             0         0          AAPL 2015-06-05 22:30:16  \n",
       "4084088            0         3          TSLA 2019-09-09 12:03:14  "
      ]
     },
     "execution_count": 142,
     "metadata": {},
     "output_type": "execute_result"
    }
   ],
   "source": [
    "tweets[\"date\"] = pd.to_datetime(tweets.post_date, unit='s')\n",
    "tweets = tweets.drop(columns=\"post_date\")\n",
    "tweets.sample(5)\n"
   ]
  },
  {
   "cell_type": "markdown",
   "metadata": {},
   "source": [
    "We will see what timeframe does our dataset cover, by getting the data of the earliest and latest tweets."
   ]
  },
  {
   "cell_type": "code",
   "execution_count": 143,
   "metadata": {},
   "outputs": [
    {
     "data": {
      "text/plain": [
       "(Timestamp('2015-01-01 00:00:57'), Timestamp('2019-12-31 23:55:53'))"
      ]
     },
     "execution_count": 143,
     "metadata": {},
     "output_type": "execute_result"
    }
   ],
   "source": [
    "tweets.date.min(), tweets.date.max()"
   ]
  },
  {
   "cell_type": "markdown",
   "metadata": {},
   "source": [
    "So it has data from 01.01.2015 to 31.12.2019, so basically from 2015 to the beginning of 2020. Knowing this we can filter out the stock prices to be only in this period of time. But first we have to covert the \"Date\" column to datetime."
   ]
  },
  {
   "cell_type": "code",
   "execution_count": 144,
   "metadata": {},
   "outputs": [],
   "source": [
    "def string_to_date(date_string):\n",
    "    return datetime.strptime(date_string, \"%d-%m-%Y\")\n",
    "stocks.Date = pd.to_datetime(stocks.Date.apply(string_to_date))"
   ]
  },
  {
   "cell_type": "code",
   "execution_count": 145,
   "metadata": {
    "scrolled": true
   },
   "outputs": [
    {
     "data": {
      "text/html": [
       "<div>\n",
       "<style scoped>\n",
       "    .dataframe tbody tr th:only-of-type {\n",
       "        vertical-align: middle;\n",
       "    }\n",
       "\n",
       "    .dataframe tbody tr th {\n",
       "        vertical-align: top;\n",
       "    }\n",
       "\n",
       "    .dataframe thead th {\n",
       "        text-align: right;\n",
       "    }\n",
       "</style>\n",
       "<table border=\"1\" class=\"dataframe\">\n",
       "  <thead>\n",
       "    <tr style=\"text-align: right;\">\n",
       "      <th></th>\n",
       "      <th></th>\n",
       "      <th>Date</th>\n",
       "      <th>Low</th>\n",
       "      <th>Open</th>\n",
       "      <th>Volume</th>\n",
       "      <th>High</th>\n",
       "      <th>Close</th>\n",
       "      <th>Adjusted Close</th>\n",
       "    </tr>\n",
       "  </thead>\n",
       "  <tbody>\n",
       "    <tr>\n",
       "      <th>AAPL</th>\n",
       "      <th>9698</th>\n",
       "      <td>2019-05-31</td>\n",
       "      <td>43.747501</td>\n",
       "      <td>44.057499</td>\n",
       "      <td>108174400</td>\n",
       "      <td>44.497501</td>\n",
       "      <td>43.767502</td>\n",
       "      <td>42.961842</td>\n",
       "    </tr>\n",
       "    <tr>\n",
       "      <th>MSFT</th>\n",
       "      <th>7958</th>\n",
       "      <td>2017-10-05</td>\n",
       "      <td>74.959999</td>\n",
       "      <td>75.220001</td>\n",
       "      <td>21195300</td>\n",
       "      <td>76.120003</td>\n",
       "      <td>75.970001</td>\n",
       "      <td>72.120842</td>\n",
       "    </tr>\n",
       "    <tr>\n",
       "      <th>TSLA</th>\n",
       "      <th>1248</th>\n",
       "      <td>2015-06-15</td>\n",
       "      <td>49.202000</td>\n",
       "      <td>49.939999</td>\n",
       "      <td>10931000</td>\n",
       "      <td>50.256001</td>\n",
       "      <td>50.076000</td>\n",
       "      <td>50.076000</td>\n",
       "    </tr>\n",
       "    <tr>\n",
       "      <th>AMZN</th>\n",
       "      <th>5173</th>\n",
       "      <td>2017-12-04</td>\n",
       "      <td>1128.000000</td>\n",
       "      <td>1173.849976</td>\n",
       "      <td>5931900</td>\n",
       "      <td>1175.199951</td>\n",
       "      <td>1133.949951</td>\n",
       "      <td>1133.949951</td>\n",
       "    </tr>\n",
       "    <tr>\n",
       "      <th rowspan=\"2\" valign=\"top\">GOOG</th>\n",
       "      <th>3120</th>\n",
       "      <td>2017-01-10</td>\n",
       "      <td>803.510010</td>\n",
       "      <td>807.859985</td>\n",
       "      <td>1176800</td>\n",
       "      <td>809.130005</td>\n",
       "      <td>804.789978</td>\n",
       "      <td>804.789978</td>\n",
       "    </tr>\n",
       "    <tr>\n",
       "      <th>3036</th>\n",
       "      <td>2016-09-09</td>\n",
       "      <td>759.659973</td>\n",
       "      <td>770.099976</td>\n",
       "      <td>1885500</td>\n",
       "      <td>773.244995</td>\n",
       "      <td>759.659973</td>\n",
       "      <td>759.659973</td>\n",
       "    </tr>\n",
       "    <tr>\n",
       "      <th>TSLA</th>\n",
       "      <th>2167</th>\n",
       "      <td>2019-02-07</td>\n",
       "      <td>60.599998</td>\n",
       "      <td>62.660000</td>\n",
       "      <td>32603000</td>\n",
       "      <td>62.939999</td>\n",
       "      <td>61.501999</td>\n",
       "      <td>61.501999</td>\n",
       "    </tr>\n",
       "    <tr>\n",
       "      <th rowspan=\"2\" valign=\"top\">MSFT</th>\n",
       "      <th>7365</th>\n",
       "      <td>2015-06-01</td>\n",
       "      <td>46.619999</td>\n",
       "      <td>47.060001</td>\n",
       "      <td>28837300</td>\n",
       "      <td>47.770000</td>\n",
       "      <td>47.230000</td>\n",
       "      <td>42.334373</td>\n",
       "    </tr>\n",
       "    <tr>\n",
       "      <th>7770</th>\n",
       "      <td>2017-01-06</td>\n",
       "      <td>62.040001</td>\n",
       "      <td>62.299999</td>\n",
       "      <td>19922900</td>\n",
       "      <td>63.150002</td>\n",
       "      <td>62.840000</td>\n",
       "      <td>58.646210</td>\n",
       "    </tr>\n",
       "    <tr>\n",
       "      <th>GOOG</th>\n",
       "      <th>3220</th>\n",
       "      <td>2017-06-05</td>\n",
       "      <td>975.099976</td>\n",
       "      <td>976.549988</td>\n",
       "      <td>1252100</td>\n",
       "      <td>986.909973</td>\n",
       "      <td>983.679993</td>\n",
       "      <td>983.679993</td>\n",
       "    </tr>\n",
       "  </tbody>\n",
       "</table>\n",
       "</div>"
      ],
      "text/plain": [
       "                Date          Low         Open     Volume         High  \\\n",
       "AAPL 9698 2019-05-31    43.747501    44.057499  108174400    44.497501   \n",
       "MSFT 7958 2017-10-05    74.959999    75.220001   21195300    76.120003   \n",
       "TSLA 1248 2015-06-15    49.202000    49.939999   10931000    50.256001   \n",
       "AMZN 5173 2017-12-04  1128.000000  1173.849976    5931900  1175.199951   \n",
       "GOOG 3120 2017-01-10   803.510010   807.859985    1176800   809.130005   \n",
       "     3036 2016-09-09   759.659973   770.099976    1885500   773.244995   \n",
       "TSLA 2167 2019-02-07    60.599998    62.660000   32603000    62.939999   \n",
       "MSFT 7365 2015-06-01    46.619999    47.060001   28837300    47.770000   \n",
       "     7770 2017-01-06    62.040001    62.299999   19922900    63.150002   \n",
       "GOOG 3220 2017-06-05   975.099976   976.549988    1252100   986.909973   \n",
       "\n",
       "                 Close  Adjusted Close  \n",
       "AAPL 9698    43.767502       42.961842  \n",
       "MSFT 7958    75.970001       72.120842  \n",
       "TSLA 1248    50.076000       50.076000  \n",
       "AMZN 5173  1133.949951     1133.949951  \n",
       "GOOG 3120   804.789978      804.789978  \n",
       "     3036   759.659973      759.659973  \n",
       "TSLA 2167    61.501999       61.501999  \n",
       "MSFT 7365    47.230000       42.334373  \n",
       "     7770    62.840000       58.646210  \n",
       "GOOG 3220   983.679993      983.679993  "
      ]
     },
     "execution_count": 145,
     "metadata": {},
     "output_type": "execute_result"
    }
   ],
   "source": [
    "stocks = stocks[(stocks.Date >= '01-01-2015') & (stocks.Date < '01-01-2020')]\n",
    "stocks.sample(10)"
   ]
  },
  {
   "cell_type": "markdown",
   "metadata": {},
   "source": [
    "As we can see we don't have data for every day, because the stock market functions only on workdays, unlike twitter.  We will find a way to work around this later."
   ]
  },
  {
   "cell_type": "markdown",
   "metadata": {},
   "source": [
    "Now lets strip the data down to just one column - the value, which we will calculate by getting the mean of the Open and Close prices. "
   ]
  },
  {
   "cell_type": "code",
   "execution_count": 146,
   "metadata": {},
   "outputs": [
    {
     "data": {
      "text/html": [
       "<div>\n",
       "<style scoped>\n",
       "    .dataframe tbody tr th:only-of-type {\n",
       "        vertical-align: middle;\n",
       "    }\n",
       "\n",
       "    .dataframe tbody tr th {\n",
       "        vertical-align: top;\n",
       "    }\n",
       "\n",
       "    .dataframe thead th {\n",
       "        text-align: right;\n",
       "    }\n",
       "</style>\n",
       "<table border=\"1\" class=\"dataframe\">\n",
       "  <thead>\n",
       "    <tr style=\"text-align: right;\">\n",
       "      <th></th>\n",
       "      <th></th>\n",
       "      <th>Date</th>\n",
       "      <th>Volume</th>\n",
       "      <th>Value</th>\n",
       "    </tr>\n",
       "  </thead>\n",
       "  <tbody>\n",
       "    <tr>\n",
       "      <th>AMZN</th>\n",
       "      <th>4550</th>\n",
       "      <td>2015-06-16</td>\n",
       "      <td>2296400</td>\n",
       "      <td>425.705002</td>\n",
       "    </tr>\n",
       "    <tr>\n",
       "      <th>AAPL</th>\n",
       "      <th>9172</th>\n",
       "      <td>2017-04-27</td>\n",
       "      <td>56985200</td>\n",
       "      <td>35.963749</td>\n",
       "    </tr>\n",
       "    <tr>\n",
       "      <th rowspan=\"2\" valign=\"top\">GOOG</th>\n",
       "      <th>3803</th>\n",
       "      <td>2019-09-27</td>\n",
       "      <td>1353900</td>\n",
       "      <td>1234.049988</td>\n",
       "    </tr>\n",
       "    <tr>\n",
       "      <th>2863</th>\n",
       "      <td>2016-01-04</td>\n",
       "      <td>3272800</td>\n",
       "      <td>742.420013</td>\n",
       "    </tr>\n",
       "    <tr>\n",
       "      <th>MSFT</th>\n",
       "      <th>8514</th>\n",
       "      <td>2019-12-20</td>\n",
       "      <td>53477500</td>\n",
       "      <td>157.380005</td>\n",
       "    </tr>\n",
       "    <tr>\n",
       "      <th rowspan=\"3\" valign=\"top\">TSLA</th>\n",
       "      <th>1740</th>\n",
       "      <td>2017-05-26</td>\n",
       "      <td>39011000</td>\n",
       "      <td>64.242001</td>\n",
       "    </tr>\n",
       "    <tr>\n",
       "      <th>1371</th>\n",
       "      <td>2015-12-08</td>\n",
       "      <td>13438000</td>\n",
       "      <td>45.424002</td>\n",
       "    </tr>\n",
       "    <tr>\n",
       "      <th>2016</th>\n",
       "      <td>2018-07-02</td>\n",
       "      <td>93799000</td>\n",
       "      <td>69.514000</td>\n",
       "    </tr>\n",
       "    <tr>\n",
       "      <th>AMZN</th>\n",
       "      <th>4656</th>\n",
       "      <td>2015-11-13</td>\n",
       "      <td>6261100</td>\n",
       "      <td>652.959991</td>\n",
       "    </tr>\n",
       "    <tr>\n",
       "      <th>MSFT</th>\n",
       "      <th>7728</th>\n",
       "      <td>2016-11-04</td>\n",
       "      <td>28697000</td>\n",
       "      <td>58.680000</td>\n",
       "    </tr>\n",
       "  </tbody>\n",
       "</table>\n",
       "</div>"
      ],
      "text/plain": [
       "                Date    Volume        Value\n",
       "AMZN 4550 2015-06-16   2296400   425.705002\n",
       "AAPL 9172 2017-04-27  56985200    35.963749\n",
       "GOOG 3803 2019-09-27   1353900  1234.049988\n",
       "     2863 2016-01-04   3272800   742.420013\n",
       "MSFT 8514 2019-12-20  53477500   157.380005\n",
       "TSLA 1740 2017-05-26  39011000    64.242001\n",
       "     1371 2015-12-08  13438000    45.424002\n",
       "     2016 2018-07-02  93799000    69.514000\n",
       "AMZN 4656 2015-11-13   6261100   652.959991\n",
       "MSFT 7728 2016-11-04  28697000    58.680000"
      ]
     },
     "execution_count": 146,
     "metadata": {},
     "output_type": "execute_result"
    }
   ],
   "source": [
    "stocks[\"Value\"] = (stocks.Open + stocks.Close) / 2\n",
    "stocks = stocks.drop(columns=['Low', 'Open', 'High', 'Close', 'Adjusted Close'])\n",
    "stocks.sample(10)"
   ]
  },
  {
   "cell_type": "markdown",
   "metadata": {},
   "source": [
    "It is a little inconvenient to have the stock name as an index instead of it being a regular column. We will fix that and also change the column names to match the twitter dataset."
   ]
  },
  {
   "cell_type": "code",
   "execution_count": 147,
   "metadata": {},
   "outputs": [],
   "source": [
    "stocks = stocks.reset_index(level=0)"
   ]
  },
  {
   "cell_type": "code",
   "execution_count": 148,
   "metadata": {},
   "outputs": [
    {
     "name": "stdout",
     "output_type": "stream",
     "text": [
      "<class 'pandas.core.frame.DataFrame'>\n",
      "Int64Index: 6290 entries, 8589 to 2393\n",
      "Data columns (total 4 columns):\n",
      "ticker_symbol    6290 non-null object\n",
      "date             6290 non-null datetime64[ns]\n",
      "volume           6290 non-null int64\n",
      "value            6290 non-null float64\n",
      "dtypes: datetime64[ns](1), float64(1), int64(1), object(1)\n",
      "memory usage: 245.7+ KB\n"
     ]
    }
   ],
   "source": [
    "stocks.columns = [\"ticker_symbol\", \"date\", \"volume\", \"value\"]\n",
    "stocks.sample(10)\n",
    "stocks.info()"
   ]
  },
  {
   "cell_type": "markdown",
   "metadata": {},
   "source": [
    " So next up lets take a look at the datatypes and null values for the twitter dataset."
   ]
  },
  {
   "cell_type": "code",
   "execution_count": 149,
   "metadata": {},
   "outputs": [
    {
     "name": "stdout",
     "output_type": "stream",
     "text": [
      "<class 'pandas.core.frame.DataFrame'>\n",
      "Int64Index: 4336445 entries, 0 to 4336444\n",
      "Data columns (total 8 columns):\n",
      "tweet_id         4336445 non-null int64\n",
      "writer           4280526 non-null object\n",
      "body             4336445 non-null object\n",
      "comment_num      4336445 non-null int64\n",
      "retweet_num      4336445 non-null int64\n",
      "like_num         4336445 non-null int64\n",
      "ticker_symbol    4336445 non-null object\n",
      "date             4336445 non-null datetime64[ns]\n",
      "dtypes: datetime64[ns](1), int64(4), object(3)\n",
      "memory usage: 297.8+ MB\n"
     ]
    }
   ],
   "source": [
    "tweets.info(null_counts = True)"
   ]
  },
  {
   "cell_type": "markdown",
   "metadata": {},
   "source": [
    "Everything looks good, except the ticker_symbol which should be a category. Also the writer column has quite a few missing records, but we won't be using it for our model and analysis, so we can discard it altogether."
   ]
  },
  {
   "cell_type": "code",
   "execution_count": 150,
   "metadata": {},
   "outputs": [
    {
     "data": {
      "text/html": [
       "<div>\n",
       "<style scoped>\n",
       "    .dataframe tbody tr th:only-of-type {\n",
       "        vertical-align: middle;\n",
       "    }\n",
       "\n",
       "    .dataframe tbody tr th {\n",
       "        vertical-align: top;\n",
       "    }\n",
       "\n",
       "    .dataframe thead th {\n",
       "        text-align: right;\n",
       "    }\n",
       "</style>\n",
       "<table border=\"1\" class=\"dataframe\">\n",
       "  <thead>\n",
       "    <tr style=\"text-align: right;\">\n",
       "      <th></th>\n",
       "      <th>tweet_id</th>\n",
       "      <th>body</th>\n",
       "      <th>comment_num</th>\n",
       "      <th>retweet_num</th>\n",
       "      <th>like_num</th>\n",
       "      <th>ticker_symbol</th>\n",
       "      <th>date</th>\n",
       "    </tr>\n",
       "  </thead>\n",
       "  <tbody>\n",
       "    <tr>\n",
       "      <th>0</th>\n",
       "      <td>550441509175443456</td>\n",
       "      <td>lx21 made $10,008  on $AAPL -Check it out! htt...</td>\n",
       "      <td>0</td>\n",
       "      <td>0</td>\n",
       "      <td>1</td>\n",
       "      <td>AAPL</td>\n",
       "      <td>2015-01-01 00:00:57</td>\n",
       "    </tr>\n",
       "    <tr>\n",
       "      <th>1</th>\n",
       "      <td>550441672312512512</td>\n",
       "      <td>Insanity of today weirdo massive selling. $aap...</td>\n",
       "      <td>0</td>\n",
       "      <td>0</td>\n",
       "      <td>0</td>\n",
       "      <td>AAPL</td>\n",
       "      <td>2015-01-01 00:01:36</td>\n",
       "    </tr>\n",
       "    <tr>\n",
       "      <th>2</th>\n",
       "      <td>550441732014223360</td>\n",
       "      <td>S&amp;P100 #Stocks Performance $HD $LOW $SBUX $TGT...</td>\n",
       "      <td>0</td>\n",
       "      <td>0</td>\n",
       "      <td>0</td>\n",
       "      <td>AMZN</td>\n",
       "      <td>2015-01-01 00:01:50</td>\n",
       "    </tr>\n",
       "    <tr>\n",
       "      <th>3</th>\n",
       "      <td>550442977802207232</td>\n",
       "      <td>$GM $TSLA: Volkswagen Pushes 2014 Record Recal...</td>\n",
       "      <td>0</td>\n",
       "      <td>0</td>\n",
       "      <td>1</td>\n",
       "      <td>TSLA</td>\n",
       "      <td>2015-01-01 00:06:47</td>\n",
       "    </tr>\n",
       "    <tr>\n",
       "      <th>4</th>\n",
       "      <td>550443807834402816</td>\n",
       "      <td>Swing Trading: Up To 8.91% Return In 14 Days h...</td>\n",
       "      <td>0</td>\n",
       "      <td>0</td>\n",
       "      <td>1</td>\n",
       "      <td>AAPL</td>\n",
       "      <td>2015-01-01 00:10:05</td>\n",
       "    </tr>\n",
       "    <tr>\n",
       "      <th>5</th>\n",
       "      <td>550443807834402816</td>\n",
       "      <td>Swing Trading: Up To 8.91% Return In 14 Days h...</td>\n",
       "      <td>0</td>\n",
       "      <td>0</td>\n",
       "      <td>1</td>\n",
       "      <td>TSLA</td>\n",
       "      <td>2015-01-01 00:10:05</td>\n",
       "    </tr>\n",
       "    <tr>\n",
       "      <th>6</th>\n",
       "      <td>550443808606126081</td>\n",
       "      <td>Swing Trading: Up To 8.91% Return In 14 Days h...</td>\n",
       "      <td>0</td>\n",
       "      <td>0</td>\n",
       "      <td>1</td>\n",
       "      <td>AAPL</td>\n",
       "      <td>2015-01-01 00:10:05</td>\n",
       "    </tr>\n",
       "  </tbody>\n",
       "</table>\n",
       "</div>"
      ],
      "text/plain": [
       "             tweet_id                                               body  \\\n",
       "0  550441509175443456  lx21 made $10,008  on $AAPL -Check it out! htt...   \n",
       "1  550441672312512512  Insanity of today weirdo massive selling. $aap...   \n",
       "2  550441732014223360  S&P100 #Stocks Performance $HD $LOW $SBUX $TGT...   \n",
       "3  550442977802207232  $GM $TSLA: Volkswagen Pushes 2014 Record Recal...   \n",
       "4  550443807834402816  Swing Trading: Up To 8.91% Return In 14 Days h...   \n",
       "5  550443807834402816  Swing Trading: Up To 8.91% Return In 14 Days h...   \n",
       "6  550443808606126081  Swing Trading: Up To 8.91% Return In 14 Days h...   \n",
       "\n",
       "   comment_num  retweet_num  like_num ticker_symbol                date  \n",
       "0            0            0         1          AAPL 2015-01-01 00:00:57  \n",
       "1            0            0         0          AAPL 2015-01-01 00:01:36  \n",
       "2            0            0         0          AMZN 2015-01-01 00:01:50  \n",
       "3            0            0         1          TSLA 2015-01-01 00:06:47  \n",
       "4            0            0         1          AAPL 2015-01-01 00:10:05  \n",
       "5            0            0         1          TSLA 2015-01-01 00:10:05  \n",
       "6            0            0         1          AAPL 2015-01-01 00:10:05  "
      ]
     },
     "execution_count": 150,
     "metadata": {},
     "output_type": "execute_result"
    }
   ],
   "source": [
    "tweets.ticker_symbol = tweets.ticker_symbol.astype('category')\n",
    "tweets = tweets.drop(columns=[\"writer\"])\n",
    "tweets.head(7)"
   ]
  },
  {
   "cell_type": "markdown",
   "metadata": {},
   "source": [
    "As we can see there seem to be a lot of duplicate bodies in our dataset. We want to remove them and this is exactly what the following code does. "
   ]
  },
  {
   "cell_type": "code",
   "execution_count": 151,
   "metadata": {},
   "outputs": [],
   "source": [
    "tweets = tweets.drop_duplicates(subset=[\"body\"])"
   ]
  },
  {
   "cell_type": "markdown",
   "metadata": {},
   "source": [
    "### 3. Text Preparation and Exploration"
   ]
  },
  {
   "cell_type": "markdown",
   "metadata": {},
   "source": [
    "Before we start working with the text, we have to prepare it and take a quick look at some statistics about it. First let's convert all the tweets' bodies into lowercase."
   ]
  },
  {
   "cell_type": "code",
   "execution_count": 152,
   "metadata": {},
   "outputs": [],
   "source": [
    "tweets.body = tweets.body.str.lower()"
   ]
  },
  {
   "cell_type": "markdown",
   "metadata": {},
   "source": [
    "Before we separate the tweets into words, we want to remove any urls from them."
   ]
  },
  {
   "cell_type": "code",
   "execution_count": 160,
   "metadata": {},
   "outputs": [],
   "source": [
    "url_regex = r'https?:\\/\\/(www\\.)?[-a-zA-Z0-9@:%._\\+~#=]{1,256}\\.[a-zA-Z0-9()]{1,6}\\b([-a-zA-Z0-9()@:%_\\+.~#?&//=]*)'\n",
    "def remove_url_from_string(str):\n",
    "    return re.sub(url_regex, '', str)\n",
    "tweets.body = tweets.body.apply(remove_url_from_string)"
   ]
  },
  {
   "cell_type": "markdown",
   "metadata": {},
   "source": [
    "NLTK provides a small corpus of stop words that we will load into a list, based on which we'll later filter them out from the tweets."
   ]
  },
  {
   "cell_type": "code",
   "execution_count": 161,
   "metadata": {},
   "outputs": [],
   "source": [
    "stopwords = nltk.corpus.stopwords.words(\"english\")\n",
    "stopwords.append(\"\")"
   ]
  },
  {
   "cell_type": "markdown",
   "metadata": {},
   "source": [
    "Now let's split the text into single words and remove all the stopwords from it."
   ]
  },
  {
   "cell_type": "code",
   "execution_count": 162,
   "metadata": {},
   "outputs": [
    {
     "data": {
      "text/html": [
       "<div>\n",
       "<style scoped>\n",
       "    .dataframe tbody tr th:only-of-type {\n",
       "        vertical-align: middle;\n",
       "    }\n",
       "\n",
       "    .dataframe tbody tr th {\n",
       "        vertical-align: top;\n",
       "    }\n",
       "\n",
       "    .dataframe thead th {\n",
       "        text-align: right;\n",
       "    }\n",
       "</style>\n",
       "<table border=\"1\" class=\"dataframe\">\n",
       "  <thead>\n",
       "    <tr style=\"text-align: right;\">\n",
       "      <th></th>\n",
       "      <th>tweet_id</th>\n",
       "      <th>body</th>\n",
       "      <th>comment_num</th>\n",
       "      <th>retweet_num</th>\n",
       "      <th>like_num</th>\n",
       "      <th>ticker_symbol</th>\n",
       "      <th>date</th>\n",
       "    </tr>\n",
       "  </thead>\n",
       "  <tbody>\n",
       "    <tr>\n",
       "      <th>3067424</th>\n",
       "      <td>1031980763913363457</td>\n",
       "      <td>[aapl, goes, neg]</td>\n",
       "      <td>4</td>\n",
       "      <td>0</td>\n",
       "      <td>10</td>\n",
       "      <td>AAPL</td>\n",
       "      <td>2018-08-21 19:06:02</td>\n",
       "    </tr>\n",
       "    <tr>\n",
       "      <th>1532442</th>\n",
       "      <td>778249621701353473</td>\n",
       "      <td>[ipo, preview, trade, desk, amzn, goog, msft, ...</td>\n",
       "      <td>0</td>\n",
       "      <td>0</td>\n",
       "      <td>0</td>\n",
       "      <td>GOOG</td>\n",
       "      <td>2016-09-20 15:09:03</td>\n",
       "    </tr>\n",
       "    <tr>\n",
       "      <th>505023</th>\n",
       "      <td>624618089468968960</td>\n",
       "      <td>[biib, amzn, barbets]</td>\n",
       "      <td>0</td>\n",
       "      <td>1</td>\n",
       "      <td>1</td>\n",
       "      <td>AMZN</td>\n",
       "      <td>2015-07-24 16:32:12</td>\n",
       "    </tr>\n",
       "    <tr>\n",
       "      <th>3234265</th>\n",
       "      <td>1052200082815295488</td>\n",
       "      <td>[long, enron, musk, violates, agreement, one, ...</td>\n",
       "      <td>1</td>\n",
       "      <td>0</td>\n",
       "      <td>4</td>\n",
       "      <td>TSLA</td>\n",
       "      <td>2018-10-16 14:10:23</td>\n",
       "    </tr>\n",
       "    <tr>\n",
       "      <th>727479</th>\n",
       "      <td>659209174858006528</td>\n",
       "      <td>[nypostbiz, apple, faces, wall, street, worrie...</td>\n",
       "      <td>0</td>\n",
       "      <td>0</td>\n",
       "      <td>0</td>\n",
       "      <td>AAPL</td>\n",
       "      <td>2015-10-28 03:24:49</td>\n",
       "    </tr>\n",
       "  </tbody>\n",
       "</table>\n",
       "</div>"
      ],
      "text/plain": [
       "                    tweet_id  \\\n",
       "3067424  1031980763913363457   \n",
       "1532442   778249621701353473   \n",
       "505023    624618089468968960   \n",
       "3234265  1052200082815295488   \n",
       "727479    659209174858006528   \n",
       "\n",
       "                                                      body  comment_num  \\\n",
       "3067424                                  [aapl, goes, neg]            4   \n",
       "1532442  [ipo, preview, trade, desk, amzn, goog, msft, ...            0   \n",
       "505023                               [biib, amzn, barbets]            0   \n",
       "3234265  [long, enron, musk, violates, agreement, one, ...            1   \n",
       "727479   [nypostbiz, apple, faces, wall, street, worrie...            0   \n",
       "\n",
       "         retweet_num  like_num ticker_symbol                date  \n",
       "3067424            0        10          AAPL 2018-08-21 19:06:02  \n",
       "1532442            0         0          GOOG 2016-09-20 15:09:03  \n",
       "505023             1         1          AMZN 2015-07-24 16:32:12  \n",
       "3234265            0         4          TSLA 2018-10-16 14:10:23  \n",
       "727479             0         0          AAPL 2015-10-28 03:24:49  "
      ]
     },
     "execution_count": 162,
     "metadata": {},
     "output_type": "execute_result"
    }
   ],
   "source": [
    "def string_into_words(str): \n",
    "    return [w for w in re.split(\"\\W+\", str) if w not in stopwords]\n",
    "tweets.body = tweets.body.apply(string_into_words)\n",
    "tweets.sample(5)"
   ]
  },
  {
   "cell_type": "markdown",
   "metadata": {},
   "source": [
    "Now we can look at the frequency distribution of the words (how many times is each word appears in the tweets). Just because the dataset is too large to analyze every observation. To combat this we will take a smaller sample of the data."
   ]
  },
  {
   "cell_type": "code",
   "execution_count": 163,
   "metadata": {},
   "outputs": [
    {
     "data": {
      "text/html": [
       "<div>\n",
       "<style scoped>\n",
       "    .dataframe tbody tr th:only-of-type {\n",
       "        vertical-align: middle;\n",
       "    }\n",
       "\n",
       "    .dataframe tbody tr th {\n",
       "        vertical-align: top;\n",
       "    }\n",
       "\n",
       "    .dataframe thead th {\n",
       "        text-align: right;\n",
       "    }\n",
       "</style>\n",
       "<table border=\"1\" class=\"dataframe\">\n",
       "  <thead>\n",
       "    <tr style=\"text-align: right;\">\n",
       "      <th></th>\n",
       "      <th>tweet_id</th>\n",
       "      <th>body</th>\n",
       "      <th>comment_num</th>\n",
       "      <th>retweet_num</th>\n",
       "      <th>like_num</th>\n",
       "      <th>ticker_symbol</th>\n",
       "      <th>date</th>\n",
       "    </tr>\n",
       "  </thead>\n",
       "  <tbody>\n",
       "    <tr>\n",
       "      <th>1362011</th>\n",
       "      <td>757926087368269824</td>\n",
       "      <td>[mobileye, drops, 10, ends, tesla, relationshi...</td>\n",
       "      <td>0</td>\n",
       "      <td>2</td>\n",
       "      <td>0</td>\n",
       "      <td>TSLA</td>\n",
       "      <td>2016-07-26 13:10:35</td>\n",
       "    </tr>\n",
       "    <tr>\n",
       "      <th>3439937</th>\n",
       "      <td>1080839775161077760</td>\n",
       "      <td>[50, dma, resistance, today, kiq, vips, ntes, ...</td>\n",
       "      <td>0</td>\n",
       "      <td>0</td>\n",
       "      <td>0</td>\n",
       "      <td>GOOG</td>\n",
       "      <td>2019-01-03 14:54:18</td>\n",
       "    </tr>\n",
       "    <tr>\n",
       "      <th>2974882</th>\n",
       "      <td>1022534616014643200</td>\n",
       "      <td>[active, traders, try, one, free, trading, gui...</td>\n",
       "      <td>0</td>\n",
       "      <td>0</td>\n",
       "      <td>0</td>\n",
       "      <td>GOOGL</td>\n",
       "      <td>2018-07-26 17:30:24</td>\n",
       "    </tr>\n",
       "  </tbody>\n",
       "</table>\n",
       "</div>"
      ],
      "text/plain": [
       "                    tweet_id  \\\n",
       "1362011   757926087368269824   \n",
       "3439937  1080839775161077760   \n",
       "2974882  1022534616014643200   \n",
       "\n",
       "                                                      body  comment_num  \\\n",
       "1362011  [mobileye, drops, 10, ends, tesla, relationshi...            0   \n",
       "3439937  [50, dma, resistance, today, kiq, vips, ntes, ...            0   \n",
       "2974882  [active, traders, try, one, free, trading, gui...            0   \n",
       "\n",
       "         retweet_num  like_num ticker_symbol                date  \n",
       "1362011            2         0          TSLA 2016-07-26 13:10:35  \n",
       "3439937            0         0          GOOG 2019-01-03 14:54:18  \n",
       "2974882            0         0         GOOGL 2018-07-26 17:30:24  "
      ]
     },
     "execution_count": 163,
     "metadata": {},
     "output_type": "execute_result"
    }
   ],
   "source": [
    "tweets_sample = tweets.sample(10000, random_state=10)\n",
    "tweets_sample.head(3)"
   ]
  },
  {
   "cell_type": "code",
   "execution_count": 164,
   "metadata": {},
   "outputs": [],
   "source": [
    "all_words = tweets_sample.body.sum()"
   ]
  },
  {
   "cell_type": "code",
   "execution_count": 165,
   "metadata": {},
   "outputs": [],
   "source": [
    "fd = nltk.FreqDist(all_words)"
   ]
  },
  {
   "cell_type": "code",
   "execution_count": 224,
   "metadata": {},
   "outputs": [
    {
     "data": {
      "text/plain": [
       "array([['aapl', '4063'],\n",
       "       ['tsla', '3131'],\n",
       "       ['amzn', '2239'],\n",
       "       ['apple', '1487'],\n",
       "       ['read', '1257'],\n",
       "       ['goog', '1116'],\n",
       "       ['msft', '1059'],\n",
       "       ['googl', '985'],\n",
       "       ['fb', '806'],\n",
       "       ['stock', '708'],\n",
       "       ['tesla', '707'],\n",
       "       ['stocks', '560'],\n",
       "       ['google', '545'],\n",
       "       ['nflx', '536'],\n",
       "       ['microsoft', '510'],\n",
       "       ['new', '497'],\n",
       "       ['inc', '491'],\n",
       "       ['amazon', '486'],\n",
       "       ['spy', '473'],\n",
       "       ['like', '459'],\n",
       "       ['1', '458'],\n",
       "       ['market', '390'],\n",
       "       ['today', '381'],\n",
       "       ['3', '378'],\n",
       "       ['buy', '358'],\n",
       "       ['iphone', '351'],\n",
       "       ['get', '350'],\n",
       "       ['day', '336'],\n",
       "       ['trading', '335'],\n",
       "       ['2', '328']], dtype='<U9')"
      ]
     },
     "execution_count": 224,
     "metadata": {},
     "output_type": "execute_result"
    }
   ],
   "source": [
    "common_words = np.array(fd.most_common(30))\n",
    "common_words"
   ]
  },
  {
   "cell_type": "markdown",
   "metadata": {},
   "source": [
    "We can plot this data with a bar chart."
   ]
  },
  {
   "cell_type": "code",
   "execution_count": 230,
   "metadata": {},
   "outputs": [
    {
     "data": {
      "image/png": "[encoded data removed]",
      "text/plain": [
       "<Figure size 1080x720 with 1 Axes>"
      ]
     },
     "metadata": {
      "needs_background": "light"
     },
     "output_type": "display_data"
    }
   ],
   "source": [
    "common_words = np.flip(common_words, axis=0)\n",
    "bar_words = common_words[:, 0]\n",
    "bar_occu = common_words[:, 1].astype(int)\n",
    "bar_x = [i for i, _ in enumerate(bar_words)]\n",
    "\n",
    "plt.figure(figsize=(15, 10))\n",
    "plt.barh(bar_x, bar_occu, color='green')\n",
    "plt.xlabel(\"# of occurences\")\n",
    "plt.ylabel(\"Words\")\n",
    "plt.title(\"Frequency distribution from a sample of the tweets\")\n",
    "\n",
    "plt.yticks(bar_x, bar_words)\n",
    "\n",
    "plt.show()"
   ]
  },
  {
   "cell_type": "markdown",
   "metadata": {},
   "source": [
    "The first 30 words consist mainly of companies' names and stock ticks as we can expect. But at the bottom there we can see words like \\\"like\\\" and \"buy\". This is very important, because they express some sort of sentiment."
   ]
  },
  {
   "cell_type": "markdown",
   "metadata": {},
   "source": [
    "### 4. Hypotheses"
   ]
  },
  {
   "cell_type": "markdown",
   "metadata": {},
   "source": [
    "There are two main ways that social media could affect the market.\n",
    "   1. The overall **amount of tweets** about a company raises the interest in its stocks, which results into more transactions being made (positions being closed and opened). The metric which tracks how much a stock is being traded is called **\"Trading Volume\"**. We can look for a correlation between the traded volume of a stock and how much people \"talked\" about it the previous day. \n",
    "       * The **null hypothesis** here is: There is *no correlation* between the amount of tweets about a company with the volume of its stock traded the following day.\n",
    "       * And the **alternate hypothesis**: The *is a correlation* between the amount of tweets about a company with the volume of its stock traded the following day.\n",
    "\n",
    "\n",
    "   2. Another important detail is what actually we're the people saying. In other words we would like to know if the general public opinion correlates in some way with the price's fluctuation. And what I mean by public opinion is whether the majority of the statements about a company made *online* are **positive or negative**. We will look at the correlation of the **average sentiment** of all tweets about a company and its **stock price** the following day.\n",
    "       * **Null hypothesis**: There is *no correlation* between the ratio of positive/negative tweets about a company with the price of its stock on the same day.\n",
    "       * And the **alternate hypothesis**: There *is a correlation* between the ratio of positive/negative tweets about a company with the price of its stock on the same day."
   ]
  },
  {
   "cell_type": "markdown",
   "metadata": {},
   "source": [
    "To test the our hypotheses we can use a correlation coefficient. The most common of these are the *Pearson correlation coefficient* and the *Spearman's rank correlation*. The first one is sensitive only to a linear relationship between two variables, which is not what we are looking for. The *Spearman's rank correlation coefficient* however is a lot more robust (sensitive to *non-linear relationships*) than Pearson's. That is why we will use it for this project."
   ]
  },
  {
   "cell_type": "code",
   "execution_count": null,
   "metadata": {},
   "outputs": [],
   "source": []
  }
 ],
 "metadata": {
  "interpreter": {
   "hash": "a6c8b04f14d242a79d2f2c97ca18fbe5de19a6e318158e3ea606ce00f4b7f1f1"
  },
  "kernelspec": {
   "display_name": "Python 3",
   "language": "python",
   "name": "python3"
  },
  "language_info": {
   "codemirror_mode": {
    "name": "ipython",
    "version": 3
   },
   "file_extension": ".py",
   "mimetype": "text/x-python",
   "name": "python",
   "nbconvert_exporter": "python",
   "pygments_lexer": "ipython3",
   "version": "3.7.3"
  }
 },
 "nbformat": 4,
 "nbformat_minor": 2
}
