{
 "cells": [
  {
   "cell_type": "code",
   "execution_count": 71,
   "metadata": {},
   "outputs": [],
   "source": [
    "%matplotlib inline"
   ]
  },
  {
   "cell_type": "code",
   "execution_count": 72,
   "metadata": {},
   "outputs": [],
   "source": [
    "from skimage.io import collection, imread\n",
    "import numpy as np\n",
    "import pandas as pd\n",
    "import matplotlib.pyplot as plt\n",
    "\n",
    "import os\n",
    "import re\n",
    "import glob\n",
    "\n",
    "from datetime import datetime\n",
    "import nltk\n",
    "\n",
    "import yfinance as yf"
   ]
  },
  {
   "cell_type": "markdown",
   "metadata": {},
   "source": [
    "# How is the public opinion about a company correlated to it's market value?"
   ]
  },
  {
   "cell_type": "markdown",
   "metadata": {},
   "source": [
    "A company's market value is variable and depends on a lot of factors. The price is a reflection of the company's perceived value - what the public is willing to pay for a piece of the company. It can and will rise and fall, based on a variety of factors in the global landscape and within the company itself. One of which is becoming more influential than ever - people's opinion on social media."
   ]
  },
  {
   "cell_type": "markdown",
   "metadata": {},
   "source": [
    "To analyze this correlation we'll look at two datasets. The first one contains over 3 million unique tweets with their information such as tweet id, author of the tweet, post date, the text body of the tweet, and the number of comments, likes, and retweets of tweets matched with the related company.\n",
    "\n",
    "The second one will just have daily stock price records (from the Forbes2000) for us to make a reference with."
   ]
  },
  {
   "cell_type": "markdown",
   "metadata": {},
   "source": [
    "### 1. Data Acquisition "
   ]
  },
  {
   "cell_type": "markdown",
   "metadata": {},
   "source": [
    "So first let's read the tweets dataset into pandas and inspect a small sample from the two dataframes."
   ]
  },
  {
   "cell_type": "code",
   "execution_count": 73,
   "metadata": {},
   "outputs": [
    {
     "data": {
      "text/html": [
       "<div>\n",
       "<style scoped>\n",
       "    .dataframe tbody tr th:only-of-type {\n",
       "        vertical-align: middle;\n",
       "    }\n",
       "\n",
       "    .dataframe tbody tr th {\n",
       "        vertical-align: top;\n",
       "    }\n",
       "\n",
       "    .dataframe thead th {\n",
       "        text-align: right;\n",
       "    }\n",
       "</style>\n",
       "<table border=\"1\" class=\"dataframe\">\n",
       "  <thead>\n",
       "    <tr style=\"text-align: right;\">\n",
       "      <th></th>\n",
       "      <th>tweet_id</th>\n",
       "      <th>writer</th>\n",
       "      <th>post_date</th>\n",
       "      <th>body</th>\n",
       "      <th>comment_num</th>\n",
       "      <th>retweet_num</th>\n",
       "      <th>like_num</th>\n",
       "    </tr>\n",
       "  </thead>\n",
       "  <tbody>\n",
       "    <tr>\n",
       "      <th>1136277</th>\n",
       "      <td>748141834057068544</td>\n",
       "      <td>tradingnube</td>\n",
       "      <td>1467205887</td>\n",
       "      <td>$TSLA Almost there - wait for it!!!</td>\n",
       "      <td>0</td>\n",
       "      <td>0</td>\n",
       "      <td>0</td>\n",
       "    </tr>\n",
       "    <tr>\n",
       "      <th>687900</th>\n",
       "      <td>672079248996229120</td>\n",
       "      <td>jfhksar88</td>\n",
       "      <td>1449071154</td>\n",
       "      <td>@barronstechblog I wonder how that Credit Suis...</td>\n",
       "      <td>0</td>\n",
       "      <td>0</td>\n",
       "      <td>0</td>\n",
       "    </tr>\n",
       "    <tr>\n",
       "      <th>2552999</th>\n",
       "      <td>1020379943019171840</td>\n",
       "      <td>everytimeicash</td>\n",
       "      <td>1532112510</td>\n",
       "      <td>Earnings Pack Week Ending 7/27/18  http://ever...</td>\n",
       "      <td>0</td>\n",
       "      <td>0</td>\n",
       "      <td>0</td>\n",
       "    </tr>\n",
       "    <tr>\n",
       "      <th>429494</th>\n",
       "      <td>623601553698480128</td>\n",
       "      <td>ZacksResearch</td>\n",
       "      <td>1437513171</td>\n",
       "      <td>How did Apple, Yahoo, and Microsoft do in toni...</td>\n",
       "      <td>0</td>\n",
       "      <td>1</td>\n",
       "      <td>0</td>\n",
       "    </tr>\n",
       "    <tr>\n",
       "      <th>2377830</th>\n",
       "      <td>988512264239108096</td>\n",
       "      <td>livetradepro</td>\n",
       "      <td>1524514664</td>\n",
       "      <td>$GOOGL Tricky part about determining direction...</td>\n",
       "      <td>0</td>\n",
       "      <td>0</td>\n",
       "      <td>1</td>\n",
       "    </tr>\n",
       "  </tbody>\n",
       "</table>\n",
       "</div>"
      ],
      "text/plain": [
       "                    tweet_id          writer   post_date  \\\n",
       "1136277   748141834057068544     tradingnube  1467205887   \n",
       "687900    672079248996229120       jfhksar88  1449071154   \n",
       "2552999  1020379943019171840  everytimeicash  1532112510   \n",
       "429494    623601553698480128   ZacksResearch  1437513171   \n",
       "2377830   988512264239108096    livetradepro  1524514664   \n",
       "\n",
       "                                                      body  comment_num  \\\n",
       "1136277                $TSLA Almost there - wait for it!!!            0   \n",
       "687900   @barronstechblog I wonder how that Credit Suis...            0   \n",
       "2552999  Earnings Pack Week Ending 7/27/18  http://ever...            0   \n",
       "429494   How did Apple, Yahoo, and Microsoft do in toni...            0   \n",
       "2377830  $GOOGL Tricky part about determining direction...            0   \n",
       "\n",
       "         retweet_num  like_num  \n",
       "1136277            0         0  \n",
       "687900             0         0  \n",
       "2552999            0         0  \n",
       "429494             1         0  \n",
       "2377830            0         1  "
      ]
     },
     "execution_count": 73,
     "metadata": {},
     "output_type": "execute_result"
    }
   ],
   "source": [
    "tweets = pd.read_csv('./top-companies-tweets/Tweet.csv')\n",
    "tweets.sample(5)"
   ]
  },
  {
   "cell_type": "code",
   "execution_count": 74,
   "metadata": {},
   "outputs": [
    {
     "data": {
      "text/html": [
       "<div>\n",
       "<style scoped>\n",
       "    .dataframe tbody tr th:only-of-type {\n",
       "        vertical-align: middle;\n",
       "    }\n",
       "\n",
       "    .dataframe tbody tr th {\n",
       "        vertical-align: top;\n",
       "    }\n",
       "\n",
       "    .dataframe thead th {\n",
       "        text-align: right;\n",
       "    }\n",
       "</style>\n",
       "<table border=\"1\" class=\"dataframe\">\n",
       "  <thead>\n",
       "    <tr style=\"text-align: right;\">\n",
       "      <th></th>\n",
       "      <th>tweet_id</th>\n",
       "      <th>ticker_symbol</th>\n",
       "    </tr>\n",
       "  </thead>\n",
       "  <tbody>\n",
       "    <tr>\n",
       "      <th>4049203</th>\n",
       "      <td>1109853528812650498</td>\n",
       "      <td>TSLA</td>\n",
       "    </tr>\n",
       "    <tr>\n",
       "      <th>1563238</th>\n",
       "      <td>711038040404131841</td>\n",
       "      <td>GOOG</td>\n",
       "    </tr>\n",
       "    <tr>\n",
       "      <th>1740518</th>\n",
       "      <td>974980037815480320</td>\n",
       "      <td>GOOG</td>\n",
       "    </tr>\n",
       "    <tr>\n",
       "      <th>1669293</th>\n",
       "      <td>810711651313926144</td>\n",
       "      <td>GOOG</td>\n",
       "    </tr>\n",
       "    <tr>\n",
       "      <th>2588843</th>\n",
       "      <td>974295692918353927</td>\n",
       "      <td>AMZN</td>\n",
       "    </tr>\n",
       "  </tbody>\n",
       "</table>\n",
       "</div>"
      ],
      "text/plain": [
       "                    tweet_id ticker_symbol\n",
       "4049203  1109853528812650498          TSLA\n",
       "1563238   711038040404131841          GOOG\n",
       "1740518   974980037815480320          GOOG\n",
       "1669293   810711651313926144          GOOG\n",
       "2588843   974295692918353927          AMZN"
      ]
     },
     "execution_count": 74,
     "metadata": {},
     "output_type": "execute_result"
    }
   ],
   "source": [
    "tweets_company = pd.read_csv('./top-companies-tweets/Company_Tweet.csv')\n",
    "tweets_company.sample(5)"
   ]
  },
  {
   "cell_type": "markdown",
   "metadata": {},
   "source": [
    "So next up let's read the datasets for each of the stocks, which we are monitoring. We will save them in a dictionary with the key, being the company's tick name and the value - it's stock prices over time dataset."
   ]
  },
  {
   "cell_type": "code",
   "execution_count": 75,
   "metadata": {},
   "outputs": [
    {
     "name": "stdout",
     "output_type": "stream",
     "text": [
      "AAPL\n",
      "         Date       Low      Open     Volume      High     Close  \\\n",
      "0  12-12-1980  0.128348  0.128348  469033600  0.128906  0.128348   \n",
      "1  15-12-1980  0.121652  0.122210  175884800  0.122210  0.121652   \n",
      "2  16-12-1980  0.112723  0.113281  105728000  0.113281  0.112723   \n",
      "\n",
      "   Adjusted Close  \n",
      "0        0.100751  \n",
      "1        0.095495  \n",
      "2        0.088485  \n",
      "AMZN\n",
      "         Date       Low      Open    Volume      High     Close  \\\n",
      "0  15-05-1997  1.927083  2.437500  72156000  2.500000  1.958333   \n",
      "1  16-05-1997  1.708333  1.968750  14700000  1.979167  1.729167   \n",
      "2  19-05-1997  1.625000  1.760417   6106800  1.770833  1.708333   \n",
      "\n",
      "   Adjusted Close  \n",
      "0        1.958333  \n",
      "1        1.729167  \n",
      "2        1.708333  \n",
      "GOOG\n",
      "         Date        Low       Open    Volume       High      Close  \\\n",
      "0  19-08-2004  47.800831  49.813290  44871361  51.835709  49.982655   \n",
      "1  20-08-2004  50.062355  50.316402  22942874  54.336334  53.952770   \n",
      "2  23-08-2004  54.321388  55.168217  18342897  56.528118  54.495735   \n",
      "\n",
      "   Adjusted Close  \n",
      "0       49.982655  \n",
      "1       53.952770  \n",
      "2       54.495735  \n",
      "MSFT\n",
      "         Date       Low      Open      Volume      High     Close  \\\n",
      "0  13-03-1986  0.088542  0.088542  1031788800  0.101563  0.097222   \n",
      "1  14-03-1986  0.097222  0.097222   308160000  0.102431  0.100694   \n",
      "2  17-03-1986  0.100694  0.100694   133171200  0.103299  0.102431   \n",
      "\n",
      "   Adjusted Close  \n",
      "0        0.061608  \n",
      "1        0.063809  \n",
      "2        0.064909  \n",
      "TSLA\n",
      "         Date    Low   Open    Volume   High  Close  Adjusted Close\n",
      "0  29-06-2010  3.508  3.800  93831500  5.000  4.778           4.778\n",
      "1  30-06-2010  4.660  5.158  85935500  6.084  4.766           4.766\n",
      "2  01-07-2010  4.054  5.000  41094000  5.184  4.392           4.392\n"
     ]
    }
   ],
   "source": [
    "stocks_df = {}\n",
    "for name in glob.glob('./stocks/*'):\n",
    "    stocks_df[name.split('\\\\')[-1].split('.')[0]] = pd.read_csv(name)\n",
    "\n",
    "stock_keys = list(stocks_df.keys())\n",
    "for key in stock_keys:\n",
    "    print(key)\n",
    "    print(stocks_df[key].head(3))"
   ]
  },
  {
   "cell_type": "markdown",
   "metadata": {},
   "source": [
    "Let's take a look at all the unique stocks we have data on."
   ]
  },
  {
   "cell_type": "code",
   "execution_count": 76,
   "metadata": {},
   "outputs": [
    {
     "data": {
      "text/plain": [
       "['AAPL', 'AMZN', 'GOOG', 'MSFT', 'TSLA']"
      ]
     },
     "execution_count": 76,
     "metadata": {},
     "output_type": "execute_result"
    }
   ],
   "source": [
    "stock_keys"
   ]
  },
  {
   "cell_type": "markdown",
   "metadata": {},
   "source": [
    "And now let's do the same for the tweets."
   ]
  },
  {
   "cell_type": "code",
   "execution_count": 77,
   "metadata": {},
   "outputs": [
    {
     "data": {
      "text/plain": [
       "['AAPL', 'GOOG', 'GOOGL', 'AMZN', 'MSFT', 'TSLA']"
      ]
     },
     "execution_count": 77,
     "metadata": {},
     "output_type": "execute_result"
    }
   ],
   "source": [
    "tweets_company.ticker_symbol.unique().tolist()"
   ]
  },
  {
   "cell_type": "markdown",
   "metadata": {},
   "source": [
    "As we can see twitter dataset we have contains data about both GOOG and GOOGL (with stockholder's voting rights) stocks, but the datasets on the stock prices don't. That's why we have to get GOOGL stock data from somewhere else. The *yfinance* library contains historical market data."
   ]
  },
  {
   "cell_type": "code",
   "execution_count": 78,
   "metadata": {},
   "outputs": [
    {
     "data": {
      "text/html": [
       "<div>\n",
       "<style scoped>\n",
       "    .dataframe tbody tr th:only-of-type {\n",
       "        vertical-align: middle;\n",
       "    }\n",
       "\n",
       "    .dataframe tbody tr th {\n",
       "        vertical-align: top;\n",
       "    }\n",
       "\n",
       "    .dataframe thead th {\n",
       "        text-align: right;\n",
       "    }\n",
       "</style>\n",
       "<table border=\"1\" class=\"dataframe\">\n",
       "  <thead>\n",
       "    <tr style=\"text-align: right;\">\n",
       "      <th></th>\n",
       "      <th>Date</th>\n",
       "      <th>Open</th>\n",
       "      <th>High</th>\n",
       "      <th>Low</th>\n",
       "      <th>Close</th>\n",
       "      <th>Volume</th>\n",
       "      <th>Dividends</th>\n",
       "      <th>Stock Splits</th>\n",
       "    </tr>\n",
       "  </thead>\n",
       "  <tbody>\n",
       "    <tr>\n",
       "      <th>2240</th>\n",
       "      <td>2013-07-15</td>\n",
       "      <td>462.612610</td>\n",
       "      <td>464.464478</td>\n",
       "      <td>458.638641</td>\n",
       "      <td>462.807800</td>\n",
       "      <td>3917079</td>\n",
       "      <td>0</td>\n",
       "      <td>0.0</td>\n",
       "    </tr>\n",
       "    <tr>\n",
       "      <th>3919</th>\n",
       "      <td>2020-03-16</td>\n",
       "      <td>1089.609985</td>\n",
       "      <td>1145.469971</td>\n",
       "      <td>1067.079956</td>\n",
       "      <td>1073.000000</td>\n",
       "      <td>4826000</td>\n",
       "      <td>0</td>\n",
       "      <td>0.0</td>\n",
       "    </tr>\n",
       "    <tr>\n",
       "      <th>735</th>\n",
       "      <td>2007-07-23</td>\n",
       "      <td>259.764771</td>\n",
       "      <td>260.260254</td>\n",
       "      <td>256.331329</td>\n",
       "      <td>256.511505</td>\n",
       "      <td>12700687</td>\n",
       "      <td>0</td>\n",
       "      <td>0.0</td>\n",
       "    </tr>\n",
       "    <tr>\n",
       "      <th>3597</th>\n",
       "      <td>2018-11-30</td>\n",
       "      <td>1095.630005</td>\n",
       "      <td>1109.650024</td>\n",
       "      <td>1083.180054</td>\n",
       "      <td>1109.650024</td>\n",
       "      <td>2983400</td>\n",
       "      <td>0</td>\n",
       "      <td>0.0</td>\n",
       "    </tr>\n",
       "    <tr>\n",
       "      <th>2875</th>\n",
       "      <td>2016-01-21</td>\n",
       "      <td>720.169983</td>\n",
       "      <td>737.669983</td>\n",
       "      <td>711.109985</td>\n",
       "      <td>726.669983</td>\n",
       "      <td>2596900</td>\n",
       "      <td>0</td>\n",
       "      <td>0.0</td>\n",
       "    </tr>\n",
       "  </tbody>\n",
       "</table>\n",
       "</div>"
      ],
      "text/plain": [
       "           Date         Open         High          Low        Close    Volume  \\\n",
       "2240 2013-07-15   462.612610   464.464478   458.638641   462.807800   3917079   \n",
       "3919 2020-03-16  1089.609985  1145.469971  1067.079956  1073.000000   4826000   \n",
       "735  2007-07-23   259.764771   260.260254   256.331329   256.511505  12700687   \n",
       "3597 2018-11-30  1095.630005  1109.650024  1083.180054  1109.650024   2983400   \n",
       "2875 2016-01-21   720.169983   737.669983   711.109985   726.669983   2596900   \n",
       "\n",
       "      Dividends  Stock Splits  \n",
       "2240          0           0.0  \n",
       "3919          0           0.0  \n",
       "735           0           0.0  \n",
       "3597          0           0.0  \n",
       "2875          0           0.0  "
      ]
     },
     "execution_count": 78,
     "metadata": {},
     "output_type": "execute_result"
    }
   ],
   "source": [
    "googl_stock = yf.Ticker('GOOGL')\n",
    "\n",
    "googl_stock = googl_stock.history(period=\"max\")\n",
    "\n",
    "# Reset the index and combine the dataframe with our existing dataset.\n",
    "googl_stock = googl_stock.reset_index()\n",
    "googl_stock.sample(5)"
   ]
  },
  {
   "cell_type": "markdown",
   "metadata": {},
   "source": [
    "We would like the columns here to perfectly match our other dataframes' columns, so that we can combine them all easily."
   ]
  },
  {
   "cell_type": "code",
   "execution_count": 79,
   "metadata": {},
   "outputs": [
    {
     "data": {
      "text/plain": [
       "['Date', 'Low', 'Open', 'Volume', 'High', 'Close', 'Adjusted Close']"
      ]
     },
     "execution_count": 79,
     "metadata": {},
     "output_type": "execute_result"
    }
   ],
   "source": [
    "column_names = list(stocks_df[stock_keys[0]].columns)\n",
    "column_names"
   ]
  },
  {
   "cell_type": "markdown",
   "metadata": {},
   "source": [
    "We don't have the Adjusted Close column in our yfinance dataset. But won't be using it, so we can simply remove it."
   ]
  },
  {
   "cell_type": "code",
   "execution_count": 80,
   "metadata": {},
   "outputs": [
    {
     "data": {
      "text/html": [
       "<div>\n",
       "<style scoped>\n",
       "    .dataframe tbody tr th:only-of-type {\n",
       "        vertical-align: middle;\n",
       "    }\n",
       "\n",
       "    .dataframe tbody tr th {\n",
       "        vertical-align: top;\n",
       "    }\n",
       "\n",
       "    .dataframe thead th {\n",
       "        text-align: right;\n",
       "    }\n",
       "</style>\n",
       "<table border=\"1\" class=\"dataframe\">\n",
       "  <thead>\n",
       "    <tr style=\"text-align: right;\">\n",
       "      <th></th>\n",
       "      <th>Date</th>\n",
       "      <th>Low</th>\n",
       "      <th>Open</th>\n",
       "      <th>Volume</th>\n",
       "      <th>High</th>\n",
       "      <th>Close</th>\n",
       "    </tr>\n",
       "  </thead>\n",
       "  <tbody>\n",
       "    <tr>\n",
       "      <th>2532</th>\n",
       "      <td>2014-09-10</td>\n",
       "      <td>587.140015</td>\n",
       "      <td>591.739990</td>\n",
       "      <td>1160100</td>\n",
       "      <td>593.719971</td>\n",
       "      <td>593.419983</td>\n",
       "    </tr>\n",
       "    <tr>\n",
       "      <th>3426</th>\n",
       "      <td>2018-03-29</td>\n",
       "      <td>1004.039978</td>\n",
       "      <td>1011.210022</td>\n",
       "      <td>3466900</td>\n",
       "      <td>1048.050049</td>\n",
       "      <td>1037.140015</td>\n",
       "    </tr>\n",
       "    <tr>\n",
       "      <th>1315</th>\n",
       "      <td>2009-11-06</td>\n",
       "      <td>273.023010</td>\n",
       "      <td>274.134125</td>\n",
       "      <td>3649747</td>\n",
       "      <td>276.166168</td>\n",
       "      <td>275.825836</td>\n",
       "    </tr>\n",
       "    <tr>\n",
       "      <th>2569</th>\n",
       "      <td>2014-10-31</td>\n",
       "      <td>564.809998</td>\n",
       "      <td>568.299988</td>\n",
       "      <td>2340500</td>\n",
       "      <td>568.729980</td>\n",
       "      <td>567.869995</td>\n",
       "    </tr>\n",
       "    <tr>\n",
       "      <th>4257</th>\n",
       "      <td>2021-07-19</td>\n",
       "      <td>2470.100098</td>\n",
       "      <td>2521.790039</td>\n",
       "      <td>1398400</td>\n",
       "      <td>2524.100098</td>\n",
       "      <td>2491.560059</td>\n",
       "    </tr>\n",
       "  </tbody>\n",
       "</table>\n",
       "</div>"
      ],
      "text/plain": [
       "           Date          Low         Open   Volume         High        Close\n",
       "2532 2014-09-10   587.140015   591.739990  1160100   593.719971   593.419983\n",
       "3426 2018-03-29  1004.039978  1011.210022  3466900  1048.050049  1037.140015\n",
       "1315 2009-11-06   273.023010   274.134125  3649747   276.166168   275.825836\n",
       "2569 2014-10-31   564.809998   568.299988  2340500   568.729980   567.869995\n",
       "4257 2021-07-19  2470.100098  2521.790039  1398400  2524.100098  2491.560059"
      ]
     },
     "execution_count": 80,
     "metadata": {},
     "output_type": "execute_result"
    }
   ],
   "source": [
    "column_names = column_names[:-1]\n",
    "\n",
    "googl_stock = googl_stock[column_names]\n",
    "googl_stock.sample(5)"
   ]
  },
  {
   "cell_type": "markdown",
   "metadata": {},
   "source": [
    "### 2. Data Tidying and Cleaning"
   ]
  },
  {
   "cell_type": "markdown",
   "metadata": {},
   "source": [
    "First let's combine the two tables from the twitter dataset, convert the dates to a datetime object and rename the column."
   ]
  },
  {
   "cell_type": "code",
   "execution_count": 81,
   "metadata": {},
   "outputs": [],
   "source": [
    "tweets = pd.merge(tweets, tweets_company, on = \"tweet_id\")"
   ]
  },
  {
   "cell_type": "code",
   "execution_count": 82,
   "metadata": {},
   "outputs": [
    {
     "data": {
      "text/html": [
       "<div>\n",
       "<style scoped>\n",
       "    .dataframe tbody tr th:only-of-type {\n",
       "        vertical-align: middle;\n",
       "    }\n",
       "\n",
       "    .dataframe tbody tr th {\n",
       "        vertical-align: top;\n",
       "    }\n",
       "\n",
       "    .dataframe thead th {\n",
       "        text-align: right;\n",
       "    }\n",
       "</style>\n",
       "<table border=\"1\" class=\"dataframe\">\n",
       "  <thead>\n",
       "    <tr style=\"text-align: right;\">\n",
       "      <th></th>\n",
       "      <th>tweet_id</th>\n",
       "      <th>writer</th>\n",
       "      <th>body</th>\n",
       "      <th>comment_num</th>\n",
       "      <th>retweet_num</th>\n",
       "      <th>like_num</th>\n",
       "      <th>ticker_symbol</th>\n",
       "      <th>date</th>\n",
       "    </tr>\n",
       "  </thead>\n",
       "  <tbody>\n",
       "    <tr>\n",
       "      <th>3697416</th>\n",
       "      <td>1113906256677429251</td>\n",
       "      <td>boardtownblast</td>\n",
       "      <td>https://boardtownblast.com/google-researcher-f...</td>\n",
       "      <td>0</td>\n",
       "      <td>0</td>\n",
       "      <td>0</td>\n",
       "      <td>GOOG</td>\n",
       "      <td>2019-04-04 20:48:41</td>\n",
       "    </tr>\n",
       "    <tr>\n",
       "      <th>4105579</th>\n",
       "      <td>1174468906699898880</td>\n",
       "      <td>TrueBubbleHead</td>\n",
       "      <td>$AMZN... they need to make all their streaming...</td>\n",
       "      <td>1</td>\n",
       "      <td>0</td>\n",
       "      <td>3</td>\n",
       "      <td>AMZN</td>\n",
       "      <td>2019-09-18 23:43:02</td>\n",
       "    </tr>\n",
       "    <tr>\n",
       "      <th>1205052</th>\n",
       "      <td>733443815227281409</td>\n",
       "      <td>_peripherals</td>\n",
       "      <td>#Apple reveals refreshed retail design in new ...</td>\n",
       "      <td>0</td>\n",
       "      <td>0</td>\n",
       "      <td>0</td>\n",
       "      <td>AAPL</td>\n",
       "      <td>2016-05-19 23:46:46</td>\n",
       "    </tr>\n",
       "    <tr>\n",
       "      <th>560264</th>\n",
       "      <td>631980653656023040</td>\n",
       "      <td>PortfolioBuzz</td>\n",
       "      <td>Track crowd curated news &amp; tweets for multiple...</td>\n",
       "      <td>0</td>\n",
       "      <td>0</td>\n",
       "      <td>0</td>\n",
       "      <td>TSLA</td>\n",
       "      <td>2015-08-14 00:08:24</td>\n",
       "    </tr>\n",
       "    <tr>\n",
       "      <th>3734021</th>\n",
       "      <td>1118908567740919808</td>\n",
       "      <td>CHItraders</td>\n",
       "      <td>$GOOG, $AMZN Video Services to Appear on Each ...</td>\n",
       "      <td>0</td>\n",
       "      <td>0</td>\n",
       "      <td>0</td>\n",
       "      <td>AMZN</td>\n",
       "      <td>2019-04-18 16:06:05</td>\n",
       "    </tr>\n",
       "  </tbody>\n",
       "</table>\n",
       "</div>"
      ],
      "text/plain": [
       "                    tweet_id          writer  \\\n",
       "3697416  1113906256677429251  boardtownblast   \n",
       "4105579  1174468906699898880  TrueBubbleHead   \n",
       "1205052   733443815227281409    _peripherals   \n",
       "560264    631980653656023040   PortfolioBuzz   \n",
       "3734021  1118908567740919808      CHItraders   \n",
       "\n",
       "                                                      body  comment_num  \\\n",
       "3697416  https://boardtownblast.com/google-researcher-f...            0   \n",
       "4105579  $AMZN... they need to make all their streaming...            1   \n",
       "1205052  #Apple reveals refreshed retail design in new ...            0   \n",
       "560264   Track crowd curated news & tweets for multiple...            0   \n",
       "3734021  $GOOG, $AMZN Video Services to Appear on Each ...            0   \n",
       "\n",
       "         retweet_num  like_num ticker_symbol                date  \n",
       "3697416            0         0          GOOG 2019-04-04 20:48:41  \n",
       "4105579            0         3          AMZN 2019-09-18 23:43:02  \n",
       "1205052            0         0          AAPL 2016-05-19 23:46:46  \n",
       "560264             0         0          TSLA 2015-08-14 00:08:24  \n",
       "3734021            0         0          AMZN 2019-04-18 16:06:05  "
      ]
     },
     "execution_count": 82,
     "metadata": {},
     "output_type": "execute_result"
    }
   ],
   "source": [
    "tweets[\"date\"] = pd.to_datetime(tweets.post_date, unit='s')\n",
    "tweets = tweets.drop(columns=\"post_date\")\n",
    "tweets.sample(5)"
   ]
  },
  {
   "cell_type": "markdown",
   "metadata": {},
   "source": [
    "We will see what timeframe does our dataset cover, by getting the data of the earliest and latest tweets."
   ]
  },
  {
   "cell_type": "code",
   "execution_count": 83,
   "metadata": {},
   "outputs": [
    {
     "data": {
      "text/plain": [
       "(Timestamp('2015-01-01 00:00:57'), Timestamp('2019-12-31 23:55:53'))"
      ]
     },
     "execution_count": 83,
     "metadata": {},
     "output_type": "execute_result"
    }
   ],
   "source": [
    "tweets.date.min(), tweets.date.max()"
   ]
  },
  {
   "cell_type": "markdown",
   "metadata": {},
   "source": [
    "Before we start working with the stocks dataset, we want to combine the individual dataframes, that we have. We got the GOOGL stock data from a different data source so let's check its dtypes compared to the other ones."
   ]
  },
  {
   "cell_type": "code",
   "execution_count": 84,
   "metadata": {},
   "outputs": [
    {
     "data": {
      "text/plain": [
       "(Date      datetime64[ns]\n",
       " Low              float64\n",
       " Open             float64\n",
       " Volume             int64\n",
       " High             float64\n",
       " Close            float64\n",
       " dtype: object, Date               object\n",
       " Low               float64\n",
       " Open              float64\n",
       " Volume              int64\n",
       " High              float64\n",
       " Close             float64\n",
       " Adjusted Close    float64\n",
       " dtype: object)"
      ]
     },
     "execution_count": 84,
     "metadata": {},
     "output_type": "execute_result"
    }
   ],
   "source": [
    "googl_stock.dtypes, stocks_df['AAPL'].dtypes"
   ]
  },
  {
   "cell_type": "markdown",
   "metadata": {},
   "source": [
    "The GOOGL dataset has different data type for the \"Date\" column compared to the AAPL one. To combat this, we will convert it temporarily to a similarly formated string. And let's also remove the \"Adjusted Close\" from all the other datasets, because we are not going to use it."
   ]
  },
  {
   "cell_type": "code",
   "execution_count": 85,
   "metadata": {},
   "outputs": [],
   "source": [
    "for key in stock_keys:\n",
    "    stocks_df[key] = stocks_df[key].drop(columns=[\"Adjusted Close\"])"
   ]
  },
  {
   "cell_type": "code",
   "execution_count": 86,
   "metadata": {},
   "outputs": [],
   "source": [
    "def date_to_string(date):\n",
    "    return date.strftime('%d-%m-%Y')\n",
    "\n",
    "googl_stock.Date = googl_stock.Date.apply(date_to_string)"
   ]
  },
  {
   "cell_type": "markdown",
   "metadata": {},
   "source": [
    "Now we can finally add the GOOGL market history dataset to our list and combine the list into one large dataframe, which will be easier to work with."
   ]
  },
  {
   "cell_type": "code",
   "execution_count": 88,
   "metadata": {},
   "outputs": [
    {
     "data": {
      "text/html": [
       "<div>\n",
       "<style scoped>\n",
       "    .dataframe tbody tr th:only-of-type {\n",
       "        vertical-align: middle;\n",
       "    }\n",
       "\n",
       "    .dataframe tbody tr th {\n",
       "        vertical-align: top;\n",
       "    }\n",
       "\n",
       "    .dataframe thead th {\n",
       "        text-align: right;\n",
       "    }\n",
       "</style>\n",
       "<table border=\"1\" class=\"dataframe\">\n",
       "  <thead>\n",
       "    <tr style=\"text-align: right;\">\n",
       "      <th></th>\n",
       "      <th></th>\n",
       "      <th>Date</th>\n",
       "      <th>Low</th>\n",
       "      <th>Open</th>\n",
       "      <th>Volume</th>\n",
       "      <th>High</th>\n",
       "      <th>Close</th>\n",
       "    </tr>\n",
       "  </thead>\n",
       "  <tbody>\n",
       "    <tr>\n",
       "      <th>AMZN</th>\n",
       "      <th>4507</th>\n",
       "      <td>15-04-2015</td>\n",
       "      <td>381.640015</td>\n",
       "      <td>384.649994</td>\n",
       "      <td>1933200</td>\n",
       "      <td>385.779999</td>\n",
       "      <td>383.450012</td>\n",
       "    </tr>\n",
       "    <tr>\n",
       "      <th>GOOG</th>\n",
       "      <th>425</th>\n",
       "      <td>27-04-2006</td>\n",
       "      <td>208.911942</td>\n",
       "      <td>210.665375</td>\n",
       "      <td>16738305</td>\n",
       "      <td>212.657913</td>\n",
       "      <td>209.230759</td>\n",
       "    </tr>\n",
       "    <tr>\n",
       "      <th rowspan=\"3\" valign=\"top\">AAPL</th>\n",
       "      <th>10150</th>\n",
       "      <td>17-03-2021</td>\n",
       "      <td>122.339996</td>\n",
       "      <td>124.050003</td>\n",
       "      <td>111932600</td>\n",
       "      <td>125.860001</td>\n",
       "      <td>124.760002</td>\n",
       "    </tr>\n",
       "    <tr>\n",
       "      <th>5463</th>\n",
       "      <td>02-08-2002</td>\n",
       "      <td>0.254464</td>\n",
       "      <td>0.263214</td>\n",
       "      <td>179060000</td>\n",
       "      <td>0.267857</td>\n",
       "      <td>0.258036</td>\n",
       "    </tr>\n",
       "    <tr>\n",
       "      <th>2443</th>\n",
       "      <td>13-08-1990</td>\n",
       "      <td>0.338170</td>\n",
       "      <td>0.339286</td>\n",
       "      <td>156116800</td>\n",
       "      <td>0.357143</td>\n",
       "      <td>0.356027</td>\n",
       "    </tr>\n",
       "    <tr>\n",
       "      <th>TSLA</th>\n",
       "      <th>875</th>\n",
       "      <td>18-12-2013</td>\n",
       "      <td>29.190001</td>\n",
       "      <td>30.448000</td>\n",
       "      <td>57909500</td>\n",
       "      <td>30.980000</td>\n",
       "      <td>29.596001</td>\n",
       "    </tr>\n",
       "    <tr>\n",
       "      <th rowspan=\"2\" valign=\"top\">MSFT</th>\n",
       "      <th>3654</th>\n",
       "      <td>25-08-2000</td>\n",
       "      <td>35.281250</td>\n",
       "      <td>35.343750</td>\n",
       "      <td>52729400</td>\n",
       "      <td>35.843750</td>\n",
       "      <td>35.312500</td>\n",
       "    </tr>\n",
       "    <tr>\n",
       "      <th>7226</th>\n",
       "      <td>07-11-2014</td>\n",
       "      <td>48.290001</td>\n",
       "      <td>48.919998</td>\n",
       "      <td>28000600</td>\n",
       "      <td>48.919998</td>\n",
       "      <td>48.680000</td>\n",
       "    </tr>\n",
       "    <tr>\n",
       "      <th>AAPL</th>\n",
       "      <th>4376</th>\n",
       "      <td>06-04-1998</td>\n",
       "      <td>0.233817</td>\n",
       "      <td>0.241071</td>\n",
       "      <td>347592000</td>\n",
       "      <td>0.241071</td>\n",
       "      <td>0.234375</td>\n",
       "    </tr>\n",
       "    <tr>\n",
       "      <th>GOOGL</th>\n",
       "      <th>2905</th>\n",
       "      <td>04-03-2016</td>\n",
       "      <td>725.619995</td>\n",
       "      <td>734.799988</td>\n",
       "      <td>2425800</td>\n",
       "      <td>735.000000</td>\n",
       "      <td>730.219971</td>\n",
       "    </tr>\n",
       "  </tbody>\n",
       "</table>\n",
       "</div>"
      ],
      "text/plain": [
       "                   Date         Low        Open     Volume        High  \\\n",
       "AMZN  4507   15-04-2015  381.640015  384.649994    1933200  385.779999   \n",
       "GOOG  425    27-04-2006  208.911942  210.665375   16738305  212.657913   \n",
       "AAPL  10150  17-03-2021  122.339996  124.050003  111932600  125.860001   \n",
       "      5463   02-08-2002    0.254464    0.263214  179060000    0.267857   \n",
       "      2443   13-08-1990    0.338170    0.339286  156116800    0.357143   \n",
       "TSLA  875    18-12-2013   29.190001   30.448000   57909500   30.980000   \n",
       "MSFT  3654   25-08-2000   35.281250   35.343750   52729400   35.843750   \n",
       "      7226   07-11-2014   48.290001   48.919998   28000600   48.919998   \n",
       "AAPL  4376   06-04-1998    0.233817    0.241071  347592000    0.241071   \n",
       "GOOGL 2905   04-03-2016  725.619995  734.799988    2425800  735.000000   \n",
       "\n",
       "                  Close  \n",
       "AMZN  4507   383.450012  \n",
       "GOOG  425    209.230759  \n",
       "AAPL  10150  124.760002  \n",
       "      5463     0.258036  \n",
       "      2443     0.356027  \n",
       "TSLA  875     29.596001  \n",
       "MSFT  3654    35.312500  \n",
       "      7226    48.680000  \n",
       "AAPL  4376     0.234375  \n",
       "GOOGL 2905   730.219971  "
      ]
     },
     "execution_count": 88,
     "metadata": {},
     "output_type": "execute_result"
    }
   ],
   "source": [
    "stocks_df['GOOGL'] = googl_stock\n",
    "\n",
    "stocks = pd.concat(stocks_df)\n",
    "stocks.sample(10)"
   ]
  },
  {
   "cell_type": "markdown",
   "metadata": {},
   "source": [
    "We saw earlier, that our twitter dataset has data from 01.01.2015 to 31.12.2019, so basically from 2015 to the beginning of 2020. Knowing this we can filter out the stock prices to be only in this period of time. But first we have to covert the \"Date\" column to datetime."
   ]
  },
  {
   "cell_type": "code",
   "execution_count": 89,
   "metadata": {},
   "outputs": [],
   "source": [
    "def string_to_date(date_string):\n",
    "    return datetime.strptime(date_string, \"%d-%m-%Y\")\n",
    "stocks.Date = pd.to_datetime(stocks.Date.apply(string_to_date))"
   ]
  },
  {
   "cell_type": "code",
   "execution_count": 92,
   "metadata": {
    "scrolled": true
   },
   "outputs": [
    {
     "data": {
      "text/html": [
       "<div>\n",
       "<style scoped>\n",
       "    .dataframe tbody tr th:only-of-type {\n",
       "        vertical-align: middle;\n",
       "    }\n",
       "\n",
       "    .dataframe tbody tr th {\n",
       "        vertical-align: top;\n",
       "    }\n",
       "\n",
       "    .dataframe thead th {\n",
       "        text-align: right;\n",
       "    }\n",
       "</style>\n",
       "<table border=\"1\" class=\"dataframe\">\n",
       "  <thead>\n",
       "    <tr style=\"text-align: right;\">\n",
       "      <th></th>\n",
       "      <th></th>\n",
       "      <th>Date</th>\n",
       "      <th>Low</th>\n",
       "      <th>Open</th>\n",
       "      <th>Volume</th>\n",
       "      <th>High</th>\n",
       "      <th>Close</th>\n",
       "    </tr>\n",
       "  </thead>\n",
       "  <tbody>\n",
       "    <tr>\n",
       "      <th>TSLA</th>\n",
       "      <th>2199</th>\n",
       "      <td>2019-03-26</td>\n",
       "      <td>52.886002</td>\n",
       "      <td>52.888000</td>\n",
       "      <td>36754500</td>\n",
       "      <td>54.051998</td>\n",
       "      <td>53.554001</td>\n",
       "    </tr>\n",
       "    <tr>\n",
       "      <th rowspan=\"2\" valign=\"top\">GOOG</th>\n",
       "      <th>3364</th>\n",
       "      <td>2017-12-28</td>\n",
       "      <td>1044.770020</td>\n",
       "      <td>1051.599976</td>\n",
       "      <td>837100</td>\n",
       "      <td>1054.750000</td>\n",
       "      <td>1048.140015</td>\n",
       "    </tr>\n",
       "    <tr>\n",
       "      <th>3052</th>\n",
       "      <td>2016-10-03</td>\n",
       "      <td>769.500000</td>\n",
       "      <td>774.250000</td>\n",
       "      <td>1278800</td>\n",
       "      <td>776.065002</td>\n",
       "      <td>772.559998</td>\n",
       "    </tr>\n",
       "    <tr>\n",
       "      <th>AMZN</th>\n",
       "      <th>5464</th>\n",
       "      <td>2019-02-01</td>\n",
       "      <td>1622.010010</td>\n",
       "      <td>1638.880005</td>\n",
       "      <td>11506200</td>\n",
       "      <td>1673.060059</td>\n",
       "      <td>1626.229980</td>\n",
       "    </tr>\n",
       "    <tr>\n",
       "      <th>TSLA</th>\n",
       "      <th>1140</th>\n",
       "      <td>2015-01-08</td>\n",
       "      <td>42.001999</td>\n",
       "      <td>42.562000</td>\n",
       "      <td>17212500</td>\n",
       "      <td>42.759998</td>\n",
       "      <td>42.124001</td>\n",
       "    </tr>\n",
       "    <tr>\n",
       "      <th rowspan=\"2\" valign=\"top\">GOOGL</th>\n",
       "      <th>3427</th>\n",
       "      <td>2018-04-02</td>\n",
       "      <td>994.250000</td>\n",
       "      <td>1027.619995</td>\n",
       "      <td>3253400</td>\n",
       "      <td>1039.530029</td>\n",
       "      <td>1012.630005</td>\n",
       "    </tr>\n",
       "    <tr>\n",
       "      <th>2980</th>\n",
       "      <td>2016-06-21</td>\n",
       "      <td>704.659973</td>\n",
       "      <td>710.049988</td>\n",
       "      <td>1515900</td>\n",
       "      <td>715.380005</td>\n",
       "      <td>708.880005</td>\n",
       "    </tr>\n",
       "    <tr>\n",
       "      <th>MSFT</th>\n",
       "      <th>8427</th>\n",
       "      <td>2019-08-19</td>\n",
       "      <td>136.889999</td>\n",
       "      <td>137.850006</td>\n",
       "      <td>24355700</td>\n",
       "      <td>138.550003</td>\n",
       "      <td>138.410004</td>\n",
       "    </tr>\n",
       "    <tr>\n",
       "      <th>AAPL</th>\n",
       "      <th>9487</th>\n",
       "      <td>2018-07-27</td>\n",
       "      <td>47.525002</td>\n",
       "      <td>48.747501</td>\n",
       "      <td>96096000</td>\n",
       "      <td>48.797501</td>\n",
       "      <td>47.744999</td>\n",
       "    </tr>\n",
       "    <tr>\n",
       "      <th>MSFT</th>\n",
       "      <th>7272</th>\n",
       "      <td>2015-01-15</td>\n",
       "      <td>45.410000</td>\n",
       "      <td>46.220001</td>\n",
       "      <td>32750800</td>\n",
       "      <td>46.380001</td>\n",
       "      <td>45.480000</td>\n",
       "    </tr>\n",
       "  </tbody>\n",
       "</table>\n",
       "</div>"
      ],
      "text/plain": [
       "                 Date          Low         Open    Volume         High  \\\n",
       "TSLA  2199 2019-03-26    52.886002    52.888000  36754500    54.051998   \n",
       "GOOG  3364 2017-12-28  1044.770020  1051.599976    837100  1054.750000   \n",
       "      3052 2016-10-03   769.500000   774.250000   1278800   776.065002   \n",
       "AMZN  5464 2019-02-01  1622.010010  1638.880005  11506200  1673.060059   \n",
       "TSLA  1140 2015-01-08    42.001999    42.562000  17212500    42.759998   \n",
       "GOOGL 3427 2018-04-02   994.250000  1027.619995   3253400  1039.530029   \n",
       "      2980 2016-06-21   704.659973   710.049988   1515900   715.380005   \n",
       "MSFT  8427 2019-08-19   136.889999   137.850006  24355700   138.550003   \n",
       "AAPL  9487 2018-07-27    47.525002    48.747501  96096000    48.797501   \n",
       "MSFT  7272 2015-01-15    45.410000    46.220001  32750800    46.380001   \n",
       "\n",
       "                  Close  \n",
       "TSLA  2199    53.554001  \n",
       "GOOG  3364  1048.140015  \n",
       "      3052   772.559998  \n",
       "AMZN  5464  1626.229980  \n",
       "TSLA  1140    42.124001  \n",
       "GOOGL 3427  1012.630005  \n",
       "      2980   708.880005  \n",
       "MSFT  8427   138.410004  \n",
       "AAPL  9487    47.744999  \n",
       "MSFT  7272    45.480000  "
      ]
     },
     "execution_count": 92,
     "metadata": {},
     "output_type": "execute_result"
    }
   ],
   "source": [
    "stocks = stocks[(stocks.Date >= tweets.date.min()) & (stocks.Date < tweets.date.max())]\n",
    "stocks.sample(10)"
   ]
  },
  {
   "cell_type": "markdown",
   "metadata": {},
   "source": [
    "As we can see we don't have data for every day, because the stock market functions only on workdays, unlike twitter.  We will find a way to work around this later."
   ]
  },
  {
   "cell_type": "markdown",
   "metadata": {},
   "source": [
    "Now lets strip the data down to just two columns \n",
    "   * the value, which we will calculate by getting the mean of the Open and Close prices\n",
    "   * the volume, which we have already"
   ]
  },
  {
   "cell_type": "code",
   "execution_count": 94,
   "metadata": {},
   "outputs": [
    {
     "data": {
      "text/html": [
       "<div>\n",
       "<style scoped>\n",
       "    .dataframe tbody tr th:only-of-type {\n",
       "        vertical-align: middle;\n",
       "    }\n",
       "\n",
       "    .dataframe tbody tr th {\n",
       "        vertical-align: top;\n",
       "    }\n",
       "\n",
       "    .dataframe thead th {\n",
       "        text-align: right;\n",
       "    }\n",
       "</style>\n",
       "<table border=\"1\" class=\"dataframe\">\n",
       "  <thead>\n",
       "    <tr style=\"text-align: right;\">\n",
       "      <th></th>\n",
       "      <th></th>\n",
       "      <th>Date</th>\n",
       "      <th>Volume</th>\n",
       "      <th>Value</th>\n",
       "    </tr>\n",
       "  </thead>\n",
       "  <tbody>\n",
       "    <tr>\n",
       "      <th>AMZN</th>\n",
       "      <th>5164</th>\n",
       "      <td>2017-11-20</td>\n",
       "      <td>2163900</td>\n",
       "      <td>1128.040039</td>\n",
       "    </tr>\n",
       "    <tr>\n",
       "      <th rowspan=\"2\" valign=\"top\">TSLA</th>\n",
       "      <th>1785</th>\n",
       "      <td>2017-08-01</td>\n",
       "      <td>41515500</td>\n",
       "      <td>64.257000</td>\n",
       "    </tr>\n",
       "    <tr>\n",
       "      <th>1319</th>\n",
       "      <td>2015-09-24</td>\n",
       "      <td>17241000</td>\n",
       "      <td>52.264999</td>\n",
       "    </tr>\n",
       "    <tr>\n",
       "      <th>GOOGL</th>\n",
       "      <th>3753</th>\n",
       "      <td>2019-07-18</td>\n",
       "      <td>1272500</td>\n",
       "      <td>1144.619995</td>\n",
       "    </tr>\n",
       "    <tr>\n",
       "      <th>TSLA</th>\n",
       "      <th>1729</th>\n",
       "      <td>2017-05-11</td>\n",
       "      <td>23769000</td>\n",
       "      <td>64.650002</td>\n",
       "    </tr>\n",
       "    <tr>\n",
       "      <th>GOOGL</th>\n",
       "      <th>3728</th>\n",
       "      <td>2019-06-12</td>\n",
       "      <td>1183500</td>\n",
       "      <td>1079.524963</td>\n",
       "    </tr>\n",
       "    <tr>\n",
       "      <th>TSLA</th>\n",
       "      <th>1909</th>\n",
       "      <td>2018-01-29</td>\n",
       "      <td>23735500</td>\n",
       "      <td>68.938000</td>\n",
       "    </tr>\n",
       "    <tr>\n",
       "      <th rowspan=\"3\" valign=\"top\">MSFT</th>\n",
       "      <th>8287</th>\n",
       "      <td>2019-01-29</td>\n",
       "      <td>31490500</td>\n",
       "      <td>103.910000</td>\n",
       "    </tr>\n",
       "    <tr>\n",
       "      <th>8112</th>\n",
       "      <td>2018-05-17</td>\n",
       "      <td>17246700</td>\n",
       "      <td>96.470001</td>\n",
       "    </tr>\n",
       "    <tr>\n",
       "      <th>7858</th>\n",
       "      <td>2017-05-15</td>\n",
       "      <td>31530300</td>\n",
       "      <td>68.285000</td>\n",
       "    </tr>\n",
       "  </tbody>\n",
       "</table>\n",
       "</div>"
      ],
      "text/plain": [
       "                 Date    Volume        Value\n",
       "AMZN  5164 2017-11-20   2163900  1128.040039\n",
       "TSLA  1785 2017-08-01  41515500    64.257000\n",
       "      1319 2015-09-24  17241000    52.264999\n",
       "GOOGL 3753 2019-07-18   1272500  1144.619995\n",
       "TSLA  1729 2017-05-11  23769000    64.650002\n",
       "GOOGL 3728 2019-06-12   1183500  1079.524963\n",
       "TSLA  1909 2018-01-29  23735500    68.938000\n",
       "MSFT  8287 2019-01-29  31490500   103.910000\n",
       "      8112 2018-05-17  17246700    96.470001\n",
       "      7858 2017-05-15  31530300    68.285000"
      ]
     },
     "execution_count": 94,
     "metadata": {},
     "output_type": "execute_result"
    }
   ],
   "source": [
    "stocks[\"Value\"] = (stocks.Open + stocks.Close) / 2\n",
    "stocks = stocks.drop(columns=['Low', 'Open', 'High', 'Close'])\n",
    "stocks.sample(10)"
   ]
  },
  {
   "cell_type": "markdown",
   "metadata": {},
   "source": [
    "It is a little inconvenient to have the stock name as an index instead of it being a regular column. We will fix that and also change the column names to match the twitter dataset."
   ]
  },
  {
   "cell_type": "code",
   "execution_count": 95,
   "metadata": {},
   "outputs": [],
   "source": [
    "stocks = stocks.reset_index(level=0)"
   ]
  },
  {
   "cell_type": "code",
   "execution_count": 96,
   "metadata": {},
   "outputs": [
    {
     "name": "stdout",
     "output_type": "stream",
     "text": [
      "<class 'pandas.core.frame.DataFrame'>\n",
      "Int64Index: 7548 entries, 8589 to 2393\n",
      "Data columns (total 4 columns):\n",
      "ticker_symbol    7548 non-null object\n",
      "date             7548 non-null datetime64[ns]\n",
      "volume           7548 non-null int64\n",
      "value            7548 non-null float64\n",
      "dtypes: datetime64[ns](1), float64(1), int64(1), object(1)\n",
      "memory usage: 294.8+ KB\n"
     ]
    }
   ],
   "source": [
    "stocks.columns = [\"ticker_symbol\", \"date\", \"volume\", \"value\"]\n",
    "stocks.sample(10)\n",
    "stocks.info()"
   ]
  },
  {
   "cell_type": "markdown",
   "metadata": {},
   "source": [
    " So next up lets take a look at the datatypes and null values for the twitter dataset."
   ]
  },
  {
   "cell_type": "code",
   "execution_count": 97,
   "metadata": {},
   "outputs": [
    {
     "name": "stdout",
     "output_type": "stream",
     "text": [
      "<class 'pandas.core.frame.DataFrame'>\n",
      "Int64Index: 4336445 entries, 0 to 4336444\n",
      "Data columns (total 8 columns):\n",
      "tweet_id         4336445 non-null int64\n",
      "writer           4280526 non-null object\n",
      "body             4336445 non-null object\n",
      "comment_num      4336445 non-null int64\n",
      "retweet_num      4336445 non-null int64\n",
      "like_num         4336445 non-null int64\n",
      "ticker_symbol    4336445 non-null object\n",
      "date             4336445 non-null datetime64[ns]\n",
      "dtypes: datetime64[ns](1), int64(4), object(3)\n",
      "memory usage: 297.8+ MB\n"
     ]
    }
   ],
   "source": [
    "tweets.info(null_counts = True)"
   ]
  },
  {
   "cell_type": "markdown",
   "metadata": {},
   "source": [
    "Everything looks good, except the ticker_symbol which should be a category. Also the writer column has quite a few missing records, but we won't be using it for our model and analysis, so we can discard it altogether."
   ]
  },
  {
   "cell_type": "code",
   "execution_count": 98,
   "metadata": {},
   "outputs": [
    {
     "data": {
      "text/html": [
       "<div>\n",
       "<style scoped>\n",
       "    .dataframe tbody tr th:only-of-type {\n",
       "        vertical-align: middle;\n",
       "    }\n",
       "\n",
       "    .dataframe tbody tr th {\n",
       "        vertical-align: top;\n",
       "    }\n",
       "\n",
       "    .dataframe thead th {\n",
       "        text-align: right;\n",
       "    }\n",
       "</style>\n",
       "<table border=\"1\" class=\"dataframe\">\n",
       "  <thead>\n",
       "    <tr style=\"text-align: right;\">\n",
       "      <th></th>\n",
       "      <th>tweet_id</th>\n",
       "      <th>body</th>\n",
       "      <th>comment_num</th>\n",
       "      <th>retweet_num</th>\n",
       "      <th>like_num</th>\n",
       "      <th>ticker_symbol</th>\n",
       "      <th>date</th>\n",
       "    </tr>\n",
       "  </thead>\n",
       "  <tbody>\n",
       "    <tr>\n",
       "      <th>0</th>\n",
       "      <td>550441509175443456</td>\n",
       "      <td>lx21 made $10,008  on $AAPL -Check it out! htt...</td>\n",
       "      <td>0</td>\n",
       "      <td>0</td>\n",
       "      <td>1</td>\n",
       "      <td>AAPL</td>\n",
       "      <td>2015-01-01 00:00:57</td>\n",
       "    </tr>\n",
       "    <tr>\n",
       "      <th>1</th>\n",
       "      <td>550441672312512512</td>\n",
       "      <td>Insanity of today weirdo massive selling. $aap...</td>\n",
       "      <td>0</td>\n",
       "      <td>0</td>\n",
       "      <td>0</td>\n",
       "      <td>AAPL</td>\n",
       "      <td>2015-01-01 00:01:36</td>\n",
       "    </tr>\n",
       "    <tr>\n",
       "      <th>2</th>\n",
       "      <td>550441732014223360</td>\n",
       "      <td>S&amp;P100 #Stocks Performance $HD $LOW $SBUX $TGT...</td>\n",
       "      <td>0</td>\n",
       "      <td>0</td>\n",
       "      <td>0</td>\n",
       "      <td>AMZN</td>\n",
       "      <td>2015-01-01 00:01:50</td>\n",
       "    </tr>\n",
       "    <tr>\n",
       "      <th>3</th>\n",
       "      <td>550442977802207232</td>\n",
       "      <td>$GM $TSLA: Volkswagen Pushes 2014 Record Recal...</td>\n",
       "      <td>0</td>\n",
       "      <td>0</td>\n",
       "      <td>1</td>\n",
       "      <td>TSLA</td>\n",
       "      <td>2015-01-01 00:06:47</td>\n",
       "    </tr>\n",
       "    <tr>\n",
       "      <th>4</th>\n",
       "      <td>550443807834402816</td>\n",
       "      <td>Swing Trading: Up To 8.91% Return In 14 Days h...</td>\n",
       "      <td>0</td>\n",
       "      <td>0</td>\n",
       "      <td>1</td>\n",
       "      <td>AAPL</td>\n",
       "      <td>2015-01-01 00:10:05</td>\n",
       "    </tr>\n",
       "    <tr>\n",
       "      <th>5</th>\n",
       "      <td>550443807834402816</td>\n",
       "      <td>Swing Trading: Up To 8.91% Return In 14 Days h...</td>\n",
       "      <td>0</td>\n",
       "      <td>0</td>\n",
       "      <td>1</td>\n",
       "      <td>TSLA</td>\n",
       "      <td>2015-01-01 00:10:05</td>\n",
       "    </tr>\n",
       "    <tr>\n",
       "      <th>6</th>\n",
       "      <td>550443808606126081</td>\n",
       "      <td>Swing Trading: Up To 8.91% Return In 14 Days h...</td>\n",
       "      <td>0</td>\n",
       "      <td>0</td>\n",
       "      <td>1</td>\n",
       "      <td>AAPL</td>\n",
       "      <td>2015-01-01 00:10:05</td>\n",
       "    </tr>\n",
       "  </tbody>\n",
       "</table>\n",
       "</div>"
      ],
      "text/plain": [
       "             tweet_id                                               body  \\\n",
       "0  550441509175443456  lx21 made $10,008  on $AAPL -Check it out! htt...   \n",
       "1  550441672312512512  Insanity of today weirdo massive selling. $aap...   \n",
       "2  550441732014223360  S&P100 #Stocks Performance $HD $LOW $SBUX $TGT...   \n",
       "3  550442977802207232  $GM $TSLA: Volkswagen Pushes 2014 Record Recal...   \n",
       "4  550443807834402816  Swing Trading: Up To 8.91% Return In 14 Days h...   \n",
       "5  550443807834402816  Swing Trading: Up To 8.91% Return In 14 Days h...   \n",
       "6  550443808606126081  Swing Trading: Up To 8.91% Return In 14 Days h...   \n",
       "\n",
       "   comment_num  retweet_num  like_num ticker_symbol                date  \n",
       "0            0            0         1          AAPL 2015-01-01 00:00:57  \n",
       "1            0            0         0          AAPL 2015-01-01 00:01:36  \n",
       "2            0            0         0          AMZN 2015-01-01 00:01:50  \n",
       "3            0            0         1          TSLA 2015-01-01 00:06:47  \n",
       "4            0            0         1          AAPL 2015-01-01 00:10:05  \n",
       "5            0            0         1          TSLA 2015-01-01 00:10:05  \n",
       "6            0            0         1          AAPL 2015-01-01 00:10:05  "
      ]
     },
     "execution_count": 98,
     "metadata": {},
     "output_type": "execute_result"
    }
   ],
   "source": [
    "tweets.ticker_symbol = tweets.ticker_symbol.astype('category')\n",
    "tweets = tweets.drop(columns=[\"writer\"])\n",
    "tweets.head(7)"
   ]
  },
  {
   "cell_type": "markdown",
   "metadata": {},
   "source": [
    "As we can see there seem to be a lot of duplicate bodies in our dataset. We want to remove them and this is exactly what the following code does. "
   ]
  },
  {
   "cell_type": "code",
   "execution_count": 99,
   "metadata": {},
   "outputs": [],
   "source": [
    "tweets = tweets.drop_duplicates(subset=[\"body\"])"
   ]
  },
  {
   "cell_type": "markdown",
   "metadata": {},
   "source": [
    "### 3. Text Preparation and Exploration"
   ]
  },
  {
   "cell_type": "markdown",
   "metadata": {},
   "source": [
    "Before we start working with the text, we have to prepare it and take a quick look at some statistics about it. First let's convert all the tweets' bodies into lowercase."
   ]
  },
  {
   "cell_type": "code",
   "execution_count": 248,
   "metadata": {},
   "outputs": [],
   "source": [
    "tweets.body = tweets.body.str.lower()"
   ]
  },
  {
   "cell_type": "markdown",
   "metadata": {},
   "source": [
    "Before we separate the tweets into words, we want to remove any urls from them."
   ]
  },
  {
   "cell_type": "code",
   "execution_count": 249,
   "metadata": {},
   "outputs": [],
   "source": [
    "url_regex = r'https?:\\/\\/(www\\.)?[-a-zA-Z0-9@:%._\\+~#=]{1,256}\\.[a-zA-Z0-9()]{1,6}\\b([-a-zA-Z0-9()@:%_\\+.~#?&//=]*)'\n",
    "def remove_url_from_string(str):\n",
    "    return re.sub(url_regex, '', str)\n",
    "tweets.body = tweets.body.apply(remove_url_from_string)"
   ]
  },
  {
   "cell_type": "markdown",
   "metadata": {},
   "source": [
    "NLTK provides a small corpus of stop words that we will load into a list, based on which we'll later filter them out from the tweets."
   ]
  },
  {
   "cell_type": "code",
   "execution_count": 250,
   "metadata": {},
   "outputs": [],
   "source": [
    "stopwords = nltk.corpus.stopwords.words(\"english\")\n",
    "stopwords.append(\"\")"
   ]
  },
  {
   "cell_type": "markdown",
   "metadata": {},
   "source": [
    "To properly analyze the text for starters we would like to split it into single words and remove all the stopwords from it. Later on we would like to apply some sort of sentiment analysis, which works on whole texts, not lists of words, so we will save the \"tokenized\" version into a new variable, which we can work with."
   ]
  },
  {
   "cell_type": "code",
   "execution_count": 252,
   "metadata": {},
   "outputs": [
    {
     "data": {
      "text/plain": [
       "1899292    [reasons, apple, hot, manufacture, india, asia...\n",
       "1195426    [apple, ceo, tim, cook, visit, india, meet, pm...\n",
       "4013811                                     [new, lod, aapl]\n",
       "4275747    [piper, jaffray, increases, price, target, tsl...\n",
       "1150121    [someone, sleep, sleeping, pill, tim, cook, co...\n",
       "Name: body, dtype: object"
      ]
     },
     "execution_count": 252,
     "metadata": {},
     "output_type": "execute_result"
    }
   ],
   "source": [
    "def string_into_words(string): \n",
    "    return [w for w in re.split(\"\\W+\", string) if w not in stopwords]\n",
    "\n",
    "tokenized_tweets = tweets.body.apply(string_into_words).copy()\n",
    "tokenized_tweets.sample(5)"
   ]
  },
  {
   "cell_type": "markdown",
   "metadata": {},
   "source": [
    "Now we can look at the frequency distribution of the words (how many times is each word appears in the tweets). Just because the dataset is too large to analyze every observation. To combat this we will take a smaller sample of the data."
   ]
  },
  {
   "cell_type": "code",
   "execution_count": 253,
   "metadata": {},
   "outputs": [
    {
     "data": {
      "text/plain": [
       "1362011    [mobileye, drops, 10, ends, tesla, relationshi...\n",
       "3439937    [50, dma, resistance, today, kiq, vips, ntes, ...\n",
       "2974882    [active, traders, try, one, free, trading, gui...\n",
       "Name: body, dtype: object"
      ]
     },
     "execution_count": 253,
     "metadata": {},
     "output_type": "execute_result"
    }
   ],
   "source": [
    "tweets_sample = tokenized_tweets.sample(10000, random_state=10)\n",
    "tweets_sample.head(3)"
   ]
  },
  {
   "cell_type": "code",
   "execution_count": 254,
   "metadata": {},
   "outputs": [],
   "source": [
    "all_words = tweets_sample.sum()"
   ]
  },
  {
   "cell_type": "code",
   "execution_count": 255,
   "metadata": {},
   "outputs": [],
   "source": [
    "fd = nltk.FreqDist(all_words)"
   ]
  },
  {
   "cell_type": "code",
   "execution_count": 256,
   "metadata": {},
   "outputs": [
    {
     "data": {
      "text/plain": [
       "array([['aapl', '4063'],\n",
       "       ['tsla', '3131'],\n",
       "       ['amzn', '2239'],\n",
       "       ['apple', '1487'],\n",
       "       ['read', '1257'],\n",
       "       ['goog', '1116'],\n",
       "       ['msft', '1059'],\n",
       "       ['googl', '985'],\n",
       "       ['fb', '806'],\n",
       "       ['stock', '708'],\n",
       "       ['tesla', '707'],\n",
       "       ['stocks', '560'],\n",
       "       ['google', '545'],\n",
       "       ['nflx', '536'],\n",
       "       ['microsoft', '510'],\n",
       "       ['new', '497'],\n",
       "       ['inc', '491'],\n",
       "       ['amazon', '486'],\n",
       "       ['spy', '473'],\n",
       "       ['like', '459'],\n",
       "       ['1', '458'],\n",
       "       ['market', '390'],\n",
       "       ['today', '381'],\n",
       "       ['3', '378'],\n",
       "       ['buy', '358'],\n",
       "       ['iphone', '351'],\n",
       "       ['get', '350'],\n",
       "       ['day', '336'],\n",
       "       ['trading', '335'],\n",
       "       ['2', '328']], dtype='<U9')"
      ]
     },
     "execution_count": 256,
     "metadata": {},
     "output_type": "execute_result"
    }
   ],
   "source": [
    "common_words = np.array(fd.most_common(30))\n",
    "common_words"
   ]
  },
  {
   "cell_type": "markdown",
   "metadata": {},
   "source": [
    "We can plot this data with a bar chart."
   ]
  },
  {
   "cell_type": "code",
   "execution_count": 257,
   "metadata": {},
   "outputs": [
    {
     "data": {
      "image/png": "[encoded data removed]",
      "text/plain": [
       "<Figure size 1080x720 with 1 Axes>"
      ]
     },
     "metadata": {
      "needs_background": "light"
     },
     "output_type": "display_data"
    }
   ],
   "source": [
    "common_words = np.flip(common_words, axis=0)\n",
    "bar_words = common_words[:, 0]\n",
    "bar_occu = common_words[:, 1].astype(int)\n",
    "bar_x = [i for i, _ in enumerate(bar_words)]\n",
    "\n",
    "plt.figure(figsize=(15, 10))\n",
    "plt.barh(bar_x, bar_occu, color='green')\n",
    "plt.xlabel(\"# of occurences\")\n",
    "plt.ylabel(\"Words\")\n",
    "plt.title(\"Frequency distribution from a sample of the tweets\")\n",
    "\n",
    "plt.yticks(bar_x, bar_words)\n",
    "\n",
    "plt.show()"
   ]
  },
  {
   "cell_type": "markdown",
   "metadata": {},
   "source": [
    "The first 30 words consist mainly of companies' names and stock ticks as we can expect. But at the bottom there we can see words like \\\"like\\\" and \"buy\". This is very important, because they express some sort of sentiment."
   ]
  },
  {
   "cell_type": "markdown",
   "metadata": {},
   "source": [
    "### 4. Hypotheses"
   ]
  },
  {
   "cell_type": "markdown",
   "metadata": {},
   "source": [
    "There are two main ways that social media could affect the market.\n",
    "   1. The overall **amount of tweets** about a company raises the interest in its stocks, which results into more transactions being made (positions being closed and opened). The metric which tracks how much a stock is being traded is called **\"Trading Volume\"**. We can look for a correlation between the traded volume of a stock and how much people \"talked\" about it the previous day. \n",
    "       * The **null hypothesis** here is: There is *no correlation* between the amount of tweets about a company with the volume of its stock traded the following day.\n",
    "       * And the **alternate hypothesis**: The *is a correlation* between the amount of tweets about a company with the volume of its stock traded the following day.\n",
    "\n",
    "\n",
    "   2. Another important detail is what actually we're the people saying. In other words we would like to know if the general public opinion correlates in some way with the price's fluctuation. And what I mean by public opinion is whether the majority of the statements about a company made *online* are **positive or negative**. We will look at the correlation of the **average sentiment** of all tweets about a company and its **stock price** the following day.\n",
    "       * **Null hypothesis**: There is *no correlation* between the ratio of positive/negative tweets about a company with the price of its stock on the same day.\n",
    "       * And the **alternate hypothesis**: There *is a correlation* between the ratio of positive/negative tweets about a company with the price of its stock on the same day."
   ]
  },
  {
   "cell_type": "markdown",
   "metadata": {},
   "source": [
    "To test the our hypotheses we can use a correlation coefficient. The most common of these are the *Pearson correlation coefficient* and the *Spearman's rank correlation*. The first one is sensitive only to a linear relationship between two variables, which is not what we are looking for. The *Spearman's rank correlation coefficient* however is a lot more robust (sensitive to *non-linear relationships*) than Pearson's. That is why we will use it for this project."
   ]
  },
  {
   "cell_type": "markdown",
   "metadata": {},
   "source": [
    "### 5. Trading Volume and Amount of tweets"
   ]
  },
  {
   "cell_type": "markdown",
   "metadata": {},
   "source": [
    "To look at the data for the individual stocks we first have to split the tweets dataset into different parts depending on what company they are about. We can create a function which does this for us, because will have to apply again later."
   ]
  },
  {
   "cell_type": "code",
   "execution_count": 104,
   "metadata": {},
   "outputs": [],
   "source": [
    "# Take the tickers which we have by looking at the unique values of the ticker_symbol column\n",
    "tickers = tweets.ticker_symbol.unique().categories.tolist()\n",
    "\n",
    "def split_by_ticker(df: pd.DataFrame):\n",
    "    \"\"\"  \n",
    "    Split the dataframe into a list of dataframes based on the ticker_symbol column\n",
    "    \"\"\"\n",
    "    return [df[df.ticker_symbol == ticker] for ticker in tickers]\n",
    "\n",
    "tweets_by_company = split_by_ticker(tweets)"
   ]
  },
  {
   "cell_type": "markdown",
   "metadata": {},
   "source": [
    "Now we want to group the tweet data based on the date of the tweet."
   ]
  },
  {
   "cell_type": "code",
   "execution_count": 105,
   "metadata": {},
   "outputs": [
    {
     "data": {
      "text/plain": [
       "date\n",
       "2015-01-01 00:00:57    1\n",
       "2015-01-01 00:01:36    1\n",
       "2015-01-01 00:10:05    3\n",
       "2015-01-01 00:10:16    1\n",
       "2015-01-01 00:10:17    3\n",
       "dtype: int64"
      ]
     },
     "execution_count": 105,
     "metadata": {},
     "output_type": "execute_result"
    }
   ],
   "source": [
    "tweets_by_date = [t_by_company.groupby('date').size() for t_by_company in tweets_by_company]\n",
    "tweets_by_date[0].head(5)"
   ]
  },
  {
   "cell_type": "markdown",
   "metadata": {},
   "source": [
    "As we can see if we just group by the date column it also takes the time of day into account. We don't want that. To group only by the day we have to use a pandas Grouper class."
   ]
  },
  {
   "cell_type": "code",
   "execution_count": 106,
   "metadata": {},
   "outputs": [
    {
     "data": {
      "text/plain": [
       "date\n",
       "2015-01-01    280\n",
       "2015-01-02    809\n",
       "2015-01-03    231\n",
       "2015-01-04    270\n",
       "2015-01-05    891\n",
       "Freq: D, dtype: int64"
      ]
     },
     "execution_count": 106,
     "metadata": {},
     "output_type": "execute_result"
    }
   ],
   "source": [
    "# The pandas Grouper class allows us to use a \"freq\" parameter which specifies\n",
    "# the interval by which we would like to group our datetime objects\n",
    "tweets_by_date = [t_by_company.groupby(pd.Grouper(key=\"date\", freq=\"D\")).size() for t_by_company in tweets_by_company]\n",
    "tweets_by_date[0].head(5)"
   ]
  },
  {
   "cell_type": "markdown",
   "metadata": {},
   "source": [
    "This gives us exactly what we want. We know which dataframe corresponds to which company by its index and the \"ticks\" list. Now we want to compare this data to the Volume of the given stock, again grouped by day."
   ]
  },
  {
   "cell_type": "markdown",
   "metadata": {},
   "source": [
    "Here after we split the data by ticker symbol just like we did for the tweets, we can simply remove all unnecessary columns, because the data is already given to us by date."
   ]
  },
  {
   "cell_type": "code",
   "execution_count": 311,
   "metadata": {},
   "outputs": [
    {
     "data": {
      "text/plain": [
       "['AAPL', 'AMZN', 'TSLA', 'GOOG', 'MSFT', 'GOOGL']"
      ]
     },
     "execution_count": 311,
     "metadata": {},
     "output_type": "execute_result"
    }
   ],
   "source": [
    "# stocks_by_company = [stocks[stocks.ticker_symbol == ticker] for ticker in tickers]\n",
    "tickers"
   ]
  }
 ],
 "metadata": {
  "interpreter": {
   "hash": "a6c8b04f14d242a79d2f2c97ca18fbe5de19a6e318158e3ea606ce00f4b7f1f1"
  },
  "kernelspec": {
   "display_name": "Python 3",
   "language": "python",
   "name": "python3"
  },
  "language_info": {
   "codemirror_mode": {
    "name": "ipython",
    "version": 3
   },
   "file_extension": ".py",
   "mimetype": "text/x-python",
   "name": "python",
   "nbconvert_exporter": "python",
   "pygments_lexer": "ipython3",
   "version": "3.7.3"
  }
 },
 "nbformat": 4,
 "nbformat_minor": 2
}
