{
 "cells": [
  {
   "cell_type": "code",
   "execution_count": 49,
   "metadata": {},
   "outputs": [],
   "source": [
    "%matplotlib inline\n",
    "# %matplotlib notebook"
   ]
  },
  {
   "cell_type": "code",
   "execution_count": 138,
   "metadata": {},
   "outputs": [],
   "source": [
    "from skimage.io import collection, imread\n",
    "import numpy as np\n",
    "import pandas as pd\n",
    "import matplotlib.pyplot as plt\n",
    "import matplotlib.dates as mdates\n",
    "plt.style.use('_classic_test_patch')\n",
    "\n",
    "from scipy import stats as stat\n",
    "\n",
    "import os\n",
    "import re\n",
    "import glob\n",
    "\n",
    "from datetime import datetime\n",
    "import nltk\n",
    "\n",
    "import yfinance as yf"
   ]
  },
  {
   "cell_type": "markdown",
   "metadata": {},
   "source": [
    "# How is the public opinion about a company correlated to it's market value?"
   ]
  },
  {
   "cell_type": "markdown",
   "metadata": {},
   "source": [
    "A company's market value is variable and depends on a lot of factors. The price is a reflection of the company's perceived value - what the public is willing to pay for a piece of the company. It can and will rise and fall, based on a variety of factors in the global landscape and within the company itself. One of which is becoming more influential than ever - people's opinion on social media."
   ]
  },
  {
   "cell_type": "markdown",
   "metadata": {},
   "source": [
    "To analyze this correlation we'll look at two datasets. The first one contains over 3 million unique tweets with their information such as tweet id, author of the tweet, post date, the text body of the tweet, and the number of comments, likes, and retweets of tweets matched with the related company.\n",
    "\n",
    "The second one will just have daily stock price records (from the Forbes2000) for us to make a reference with."
   ]
  },
  {
   "cell_type": "markdown",
   "metadata": {},
   "source": [
    "### 1. Data Acquisition "
   ]
  },
  {
   "cell_type": "markdown",
   "metadata": {},
   "source": [
    "So first let's read the tweets dataset into pandas and inspect a small sample from the two dataframes."
   ]
  },
  {
   "cell_type": "code",
   "execution_count": 3,
   "metadata": {},
   "outputs": [
    {
     "data": {
      "text/html": [
       "<div>\n",
       "<style scoped>\n",
       "    .dataframe tbody tr th:only-of-type {\n",
       "        vertical-align: middle;\n",
       "    }\n",
       "\n",
       "    .dataframe tbody tr th {\n",
       "        vertical-align: top;\n",
       "    }\n",
       "\n",
       "    .dataframe thead th {\n",
       "        text-align: right;\n",
       "    }\n",
       "</style>\n",
       "<table border=\"1\" class=\"dataframe\">\n",
       "  <thead>\n",
       "    <tr style=\"text-align: right;\">\n",
       "      <th></th>\n",
       "      <th>tweet_id</th>\n",
       "      <th>writer</th>\n",
       "      <th>post_date</th>\n",
       "      <th>body</th>\n",
       "      <th>comment_num</th>\n",
       "      <th>retweet_num</th>\n",
       "      <th>like_num</th>\n",
       "    </tr>\n",
       "  </thead>\n",
       "  <tbody>\n",
       "    <tr>\n",
       "      <th>3133786</th>\n",
       "      <td>1106205239403782144</td>\n",
       "      <td>mikeo188</td>\n",
       "      <td>1552574856</td>\n",
       "      <td>Healthy rotation into $XLF to make sure the s&amp;...</td>\n",
       "      <td>0</td>\n",
       "      <td>0</td>\n",
       "      <td>0</td>\n",
       "    </tr>\n",
       "    <tr>\n",
       "      <th>2663661</th>\n",
       "      <td>1034037571456827392</td>\n",
       "      <td>DanZanger</td>\n",
       "      <td>1535368743</td>\n",
       "      <td>$AAPL - Taking a rest and can still move higher</td>\n",
       "      <td>0</td>\n",
       "      <td>7</td>\n",
       "      <td>15</td>\n",
       "    </tr>\n",
       "    <tr>\n",
       "      <th>1208474</th>\n",
       "      <td>760173621058736128</td>\n",
       "      <td>computer_hware</td>\n",
       "      <td>1470074489</td>\n",
       "      <td>#Apple, legacy tech stocks still have room for...</td>\n",
       "      <td>0</td>\n",
       "      <td>1</td>\n",
       "      <td>0</td>\n",
       "    </tr>\n",
       "    <tr>\n",
       "      <th>3176009</th>\n",
       "      <td>1111711333077127176</td>\n",
       "      <td>MC_OptionTrades</td>\n",
       "      <td>1553887611</td>\n",
       "      <td>$GOOG 03-May-19 ATM Implied Volatility is down...</td>\n",
       "      <td>0</td>\n",
       "      <td>0</td>\n",
       "      <td>0</td>\n",
       "    </tr>\n",
       "    <tr>\n",
       "      <th>2674688</th>\n",
       "      <td>1035201081431584768</td>\n",
       "      <td>ELPfan</td>\n",
       "      <td>1535646145</td>\n",
       "      <td>Apple will announce new iPhones on Sept. 12......</td>\n",
       "      <td>0</td>\n",
       "      <td>0</td>\n",
       "      <td>0</td>\n",
       "    </tr>\n",
       "  </tbody>\n",
       "</table>\n",
       "</div>"
      ],
      "text/plain": [
       "                    tweet_id           writer   post_date  \\\n",
       "3133786  1106205239403782144         mikeo188  1552574856   \n",
       "2663661  1034037571456827392        DanZanger  1535368743   \n",
       "1208474   760173621058736128   computer_hware  1470074489   \n",
       "3176009  1111711333077127176  MC_OptionTrades  1553887611   \n",
       "2674688  1035201081431584768           ELPfan  1535646145   \n",
       "\n",
       "                                                      body  comment_num  \\\n",
       "3133786  Healthy rotation into $XLF to make sure the s&...            0   \n",
       "2663661    $AAPL - Taking a rest and can still move higher            0   \n",
       "1208474  #Apple, legacy tech stocks still have room for...            0   \n",
       "3176009  $GOOG 03-May-19 ATM Implied Volatility is down...            0   \n",
       "2674688  Apple will announce new iPhones on Sept. 12......            0   \n",
       "\n",
       "         retweet_num  like_num  \n",
       "3133786            0         0  \n",
       "2663661            7        15  \n",
       "1208474            1         0  \n",
       "3176009            0         0  \n",
       "2674688            0         0  "
      ]
     },
     "execution_count": 3,
     "metadata": {},
     "output_type": "execute_result"
    }
   ],
   "source": [
    "tweets = pd.read_csv('./top-companies-tweets/Tweet.csv')\n",
    "tweets.sample(5)"
   ]
  },
  {
   "cell_type": "code",
   "execution_count": 4,
   "metadata": {},
   "outputs": [
    {
     "data": {
      "text/html": [
       "<div>\n",
       "<style scoped>\n",
       "    .dataframe tbody tr th:only-of-type {\n",
       "        vertical-align: middle;\n",
       "    }\n",
       "\n",
       "    .dataframe tbody tr th {\n",
       "        vertical-align: top;\n",
       "    }\n",
       "\n",
       "    .dataframe thead th {\n",
       "        text-align: right;\n",
       "    }\n",
       "</style>\n",
       "<table border=\"1\" class=\"dataframe\">\n",
       "  <thead>\n",
       "    <tr style=\"text-align: right;\">\n",
       "      <th></th>\n",
       "      <th>tweet_id</th>\n",
       "      <th>ticker_symbol</th>\n",
       "    </tr>\n",
       "  </thead>\n",
       "  <tbody>\n",
       "    <tr>\n",
       "      <th>323265</th>\n",
       "      <td>661890270900957184</td>\n",
       "      <td>AAPL</td>\n",
       "    </tr>\n",
       "    <tr>\n",
       "      <th>703653</th>\n",
       "      <td>790625949066887168</td>\n",
       "      <td>AAPL</td>\n",
       "    </tr>\n",
       "    <tr>\n",
       "      <th>666374</th>\n",
       "      <td>776773898528436224</td>\n",
       "      <td>AAPL</td>\n",
       "    </tr>\n",
       "    <tr>\n",
       "      <th>1658775</th>\n",
       "      <td>799933788058832896</td>\n",
       "      <td>GOOG</td>\n",
       "    </tr>\n",
       "    <tr>\n",
       "      <th>1718439</th>\n",
       "      <td>915585397580812288</td>\n",
       "      <td>GOOG</td>\n",
       "    </tr>\n",
       "  </tbody>\n",
       "</table>\n",
       "</div>"
      ],
      "text/plain": [
       "                   tweet_id ticker_symbol\n",
       "323265   661890270900957184          AAPL\n",
       "703653   790625949066887168          AAPL\n",
       "666374   776773898528436224          AAPL\n",
       "1658775  799933788058832896          GOOG\n",
       "1718439  915585397580812288          GOOG"
      ]
     },
     "execution_count": 4,
     "metadata": {},
     "output_type": "execute_result"
    }
   ],
   "source": [
    "tweets_company = pd.read_csv('./top-companies-tweets/Company_Tweet.csv')\n",
    "tweets_company.sample(5)"
   ]
  },
  {
   "cell_type": "markdown",
   "metadata": {},
   "source": [
    "So next up let's read the datasets for each of the stocks, which we are monitoring. We will save them in a dictionary with the key, being the company's tick name and the value - it's stock prices over time dataset."
   ]
  },
  {
   "cell_type": "code",
   "execution_count": 5,
   "metadata": {},
   "outputs": [
    {
     "name": "stdout",
     "output_type": "stream",
     "text": [
      "AAPL\n",
      "         Date       Low      Open     Volume      High     Close  \\\n",
      "0  12-12-1980  0.128348  0.128348  469033600  0.128906  0.128348   \n",
      "1  15-12-1980  0.121652  0.122210  175884800  0.122210  0.121652   \n",
      "2  16-12-1980  0.112723  0.113281  105728000  0.113281  0.112723   \n",
      "\n",
      "   Adjusted Close  \n",
      "0        0.100751  \n",
      "1        0.095495  \n",
      "2        0.088485  \n",
      "AMZN\n",
      "         Date       Low      Open    Volume      High     Close  \\\n",
      "0  15-05-1997  1.927083  2.437500  72156000  2.500000  1.958333   \n",
      "1  16-05-1997  1.708333  1.968750  14700000  1.979167  1.729167   \n",
      "2  19-05-1997  1.625000  1.760417   6106800  1.770833  1.708333   \n",
      "\n",
      "   Adjusted Close  \n",
      "0        1.958333  \n",
      "1        1.729167  \n",
      "2        1.708333  \n",
      "GOOG\n",
      "         Date        Low       Open    Volume       High      Close  \\\n",
      "0  19-08-2004  47.800831  49.813290  44871361  51.835709  49.982655   \n",
      "1  20-08-2004  50.062355  50.316402  22942874  54.336334  53.952770   \n",
      "2  23-08-2004  54.321388  55.168217  18342897  56.528118  54.495735   \n",
      "\n",
      "   Adjusted Close  \n",
      "0       49.982655  \n",
      "1       53.952770  \n",
      "2       54.495735  \n",
      "MSFT\n",
      "         Date       Low      Open      Volume      High     Close  \\\n",
      "0  13-03-1986  0.088542  0.088542  1031788800  0.101563  0.097222   \n",
      "1  14-03-1986  0.097222  0.097222   308160000  0.102431  0.100694   \n",
      "2  17-03-1986  0.100694  0.100694   133171200  0.103299  0.102431   \n",
      "\n",
      "   Adjusted Close  \n",
      "0        0.061608  \n",
      "1        0.063809  \n",
      "2        0.064909  \n",
      "TSLA\n",
      "         Date    Low   Open    Volume   High  Close  Adjusted Close\n",
      "0  29-06-2010  3.508  3.800  93831500  5.000  4.778           4.778\n",
      "1  30-06-2010  4.660  5.158  85935500  6.084  4.766           4.766\n",
      "2  01-07-2010  4.054  5.000  41094000  5.184  4.392           4.392\n"
     ]
    }
   ],
   "source": [
    "stocks_df = {}\n",
    "for name in glob.glob('./stocks/*'):\n",
    "    stocks_df[name.split('\\\\')[-1].split('.')[0]] = pd.read_csv(name)\n",
    "\n",
    "stock_keys = list(stocks_df.keys())\n",
    "for key in stock_keys:\n",
    "    print(key)\n",
    "    print(stocks_df[key].head(3))"
   ]
  },
  {
   "cell_type": "markdown",
   "metadata": {},
   "source": [
    "Let's take a look at all the unique stocks we have data on."
   ]
  },
  {
   "cell_type": "code",
   "execution_count": 6,
   "metadata": {},
   "outputs": [
    {
     "data": {
      "text/plain": [
       "['AAPL', 'AMZN', 'GOOG', 'MSFT', 'TSLA']"
      ]
     },
     "execution_count": 6,
     "metadata": {},
     "output_type": "execute_result"
    }
   ],
   "source": [
    "stock_keys"
   ]
  },
  {
   "cell_type": "markdown",
   "metadata": {},
   "source": [
    "And now let's do the same for the tweets."
   ]
  },
  {
   "cell_type": "code",
   "execution_count": 7,
   "metadata": {},
   "outputs": [
    {
     "data": {
      "text/plain": [
       "['AAPL', 'GOOG', 'GOOGL', 'AMZN', 'MSFT', 'TSLA']"
      ]
     },
     "execution_count": 7,
     "metadata": {},
     "output_type": "execute_result"
    }
   ],
   "source": [
    "tweets_company.ticker_symbol.unique().tolist()"
   ]
  },
  {
   "cell_type": "markdown",
   "metadata": {},
   "source": [
    "As we can see twitter dataset we have contains data about both GOOG and GOOGL (with stockholder's voting rights) stocks, but the datasets on the stock prices don't. That's why we have to get GOOGL stock data from somewhere else. The *yfinance* library contains historical market data."
   ]
  },
  {
   "cell_type": "code",
   "execution_count": 8,
   "metadata": {},
   "outputs": [
    {
     "data": {
      "text/html": [
       "<div>\n",
       "<style scoped>\n",
       "    .dataframe tbody tr th:only-of-type {\n",
       "        vertical-align: middle;\n",
       "    }\n",
       "\n",
       "    .dataframe tbody tr th {\n",
       "        vertical-align: top;\n",
       "    }\n",
       "\n",
       "    .dataframe thead th {\n",
       "        text-align: right;\n",
       "    }\n",
       "</style>\n",
       "<table border=\"1\" class=\"dataframe\">\n",
       "  <thead>\n",
       "    <tr style=\"text-align: right;\">\n",
       "      <th></th>\n",
       "      <th>Date</th>\n",
       "      <th>Open</th>\n",
       "      <th>High</th>\n",
       "      <th>Low</th>\n",
       "      <th>Close</th>\n",
       "      <th>Volume</th>\n",
       "      <th>Dividends</th>\n",
       "      <th>Stock Splits</th>\n",
       "    </tr>\n",
       "  </thead>\n",
       "  <tbody>\n",
       "    <tr>\n",
       "      <th>1543</th>\n",
       "      <td>2010-10-05</td>\n",
       "      <td>264.454468</td>\n",
       "      <td>270.270264</td>\n",
       "      <td>263.538544</td>\n",
       "      <td>269.384369</td>\n",
       "      <td>7007186</td>\n",
       "      <td>0</td>\n",
       "      <td>0.0</td>\n",
       "    </tr>\n",
       "    <tr>\n",
       "      <th>3738</th>\n",
       "      <td>2019-06-26</td>\n",
       "      <td>1091.000000</td>\n",
       "      <td>1095.119995</td>\n",
       "      <td>1073.689941</td>\n",
       "      <td>1080.319946</td>\n",
       "      <td>1734900</td>\n",
       "      <td>0</td>\n",
       "      <td>0.0</td>\n",
       "    </tr>\n",
       "    <tr>\n",
       "      <th>2293</th>\n",
       "      <td>2013-09-27</td>\n",
       "      <td>437.847839</td>\n",
       "      <td>439.199188</td>\n",
       "      <td>436.091095</td>\n",
       "      <td>438.633636</td>\n",
       "      <td>2515082</td>\n",
       "      <td>0</td>\n",
       "      <td>0.0</td>\n",
       "    </tr>\n",
       "    <tr>\n",
       "      <th>1301</th>\n",
       "      <td>2009-10-19</td>\n",
       "      <td>276.621613</td>\n",
       "      <td>277.077087</td>\n",
       "      <td>274.639648</td>\n",
       "      <td>276.321320</td>\n",
       "      <td>6429364</td>\n",
       "      <td>0</td>\n",
       "      <td>0.0</td>\n",
       "    </tr>\n",
       "    <tr>\n",
       "      <th>2943</th>\n",
       "      <td>2016-04-28</td>\n",
       "      <td>723.289978</td>\n",
       "      <td>729.260010</td>\n",
       "      <td>703.200012</td>\n",
       "      <td>705.059998</td>\n",
       "      <td>3129500</td>\n",
       "      <td>0</td>\n",
       "      <td>0.0</td>\n",
       "    </tr>\n",
       "  </tbody>\n",
       "</table>\n",
       "</div>"
      ],
      "text/plain": [
       "           Date         Open         High          Low        Close   Volume  \\\n",
       "1543 2010-10-05   264.454468   270.270264   263.538544   269.384369  7007186   \n",
       "3738 2019-06-26  1091.000000  1095.119995  1073.689941  1080.319946  1734900   \n",
       "2293 2013-09-27   437.847839   439.199188   436.091095   438.633636  2515082   \n",
       "1301 2009-10-19   276.621613   277.077087   274.639648   276.321320  6429364   \n",
       "2943 2016-04-28   723.289978   729.260010   703.200012   705.059998  3129500   \n",
       "\n",
       "      Dividends  Stock Splits  \n",
       "1543          0           0.0  \n",
       "3738          0           0.0  \n",
       "2293          0           0.0  \n",
       "1301          0           0.0  \n",
       "2943          0           0.0  "
      ]
     },
     "execution_count": 8,
     "metadata": {},
     "output_type": "execute_result"
    }
   ],
   "source": [
    "googl_stock = yf.Ticker('GOOGL')\n",
    "\n",
    "googl_stock = googl_stock.history(period=\"max\")\n",
    "\n",
    "# Reset the index and combine the dataframe with our existing dataset.\n",
    "googl_stock = googl_stock.reset_index()\n",
    "googl_stock.sample(5)"
   ]
  },
  {
   "cell_type": "markdown",
   "metadata": {},
   "source": [
    "We would like the columns here to perfectly match our other dataframes' columns, so that we can combine them all easily."
   ]
  },
  {
   "cell_type": "code",
   "execution_count": 9,
   "metadata": {},
   "outputs": [
    {
     "data": {
      "text/plain": [
       "['Date', 'Low', 'Open', 'Volume', 'High', 'Close', 'Adjusted Close']"
      ]
     },
     "execution_count": 9,
     "metadata": {},
     "output_type": "execute_result"
    }
   ],
   "source": [
    "column_names = list(stocks_df[stock_keys[0]].columns)\n",
    "column_names"
   ]
  },
  {
   "cell_type": "markdown",
   "metadata": {},
   "source": [
    "We don't have the Adjusted Close column in our yfinance dataset. But won't be using it, so we can simply remove it."
   ]
  },
  {
   "cell_type": "code",
   "execution_count": 10,
   "metadata": {},
   "outputs": [
    {
     "data": {
      "text/html": [
       "<div>\n",
       "<style scoped>\n",
       "    .dataframe tbody tr th:only-of-type {\n",
       "        vertical-align: middle;\n",
       "    }\n",
       "\n",
       "    .dataframe tbody tr th {\n",
       "        vertical-align: top;\n",
       "    }\n",
       "\n",
       "    .dataframe thead th {\n",
       "        text-align: right;\n",
       "    }\n",
       "</style>\n",
       "<table border=\"1\" class=\"dataframe\">\n",
       "  <thead>\n",
       "    <tr style=\"text-align: right;\">\n",
       "      <th></th>\n",
       "      <th>Date</th>\n",
       "      <th>Low</th>\n",
       "      <th>Open</th>\n",
       "      <th>Volume</th>\n",
       "      <th>High</th>\n",
       "      <th>Close</th>\n",
       "    </tr>\n",
       "  </thead>\n",
       "  <tbody>\n",
       "    <tr>\n",
       "      <th>1124</th>\n",
       "      <td>2009-02-05</td>\n",
       "      <td>168.668671</td>\n",
       "      <td>170.625626</td>\n",
       "      <td>14514271</td>\n",
       "      <td>177.867874</td>\n",
       "      <td>177.037033</td>\n",
       "    </tr>\n",
       "    <tr>\n",
       "      <th>3695</th>\n",
       "      <td>2019-04-25</td>\n",
       "      <td>1258.000000</td>\n",
       "      <td>1270.300049</td>\n",
       "      <td>1567200</td>\n",
       "      <td>1272.800049</td>\n",
       "      <td>1267.339966</td>\n",
       "    </tr>\n",
       "    <tr>\n",
       "      <th>2249</th>\n",
       "      <td>2013-07-26</td>\n",
       "      <td>441.441437</td>\n",
       "      <td>443.938934</td>\n",
       "      <td>3551845</td>\n",
       "      <td>445.440430</td>\n",
       "      <td>443.118103</td>\n",
       "    </tr>\n",
       "    <tr>\n",
       "      <th>4026</th>\n",
       "      <td>2020-08-17</td>\n",
       "      <td>1505.000000</td>\n",
       "      <td>1515.969971</td>\n",
       "      <td>999500</td>\n",
       "      <td>1523.780029</td>\n",
       "      <td>1516.239990</td>\n",
       "    </tr>\n",
       "    <tr>\n",
       "      <th>3002</th>\n",
       "      <td>2016-07-22</td>\n",
       "      <td>752.659973</td>\n",
       "      <td>757.320007</td>\n",
       "      <td>1046000</td>\n",
       "      <td>759.450012</td>\n",
       "      <td>759.280029</td>\n",
       "    </tr>\n",
       "  </tbody>\n",
       "</table>\n",
       "</div>"
      ],
      "text/plain": [
       "           Date          Low         Open    Volume         High        Close\n",
       "1124 2009-02-05   168.668671   170.625626  14514271   177.867874   177.037033\n",
       "3695 2019-04-25  1258.000000  1270.300049   1567200  1272.800049  1267.339966\n",
       "2249 2013-07-26   441.441437   443.938934   3551845   445.440430   443.118103\n",
       "4026 2020-08-17  1505.000000  1515.969971    999500  1523.780029  1516.239990\n",
       "3002 2016-07-22   752.659973   757.320007   1046000   759.450012   759.280029"
      ]
     },
     "execution_count": 10,
     "metadata": {},
     "output_type": "execute_result"
    }
   ],
   "source": [
    "column_names = column_names[:-1]\n",
    "\n",
    "googl_stock = googl_stock[column_names]\n",
    "googl_stock.sample(5)"
   ]
  },
  {
   "cell_type": "markdown",
   "metadata": {},
   "source": [
    "### 2. Data Tidying and Cleaning"
   ]
  },
  {
   "cell_type": "markdown",
   "metadata": {},
   "source": [
    "First let's combine the two tables from the twitter dataset, convert the dates to a datetime object and rename the column."
   ]
  },
  {
   "cell_type": "code",
   "execution_count": 11,
   "metadata": {},
   "outputs": [],
   "source": [
    "tweets = pd.merge(tweets, tweets_company, on = \"tweet_id\")"
   ]
  },
  {
   "cell_type": "code",
   "execution_count": 12,
   "metadata": {},
   "outputs": [
    {
     "data": {
      "text/html": [
       "<div>\n",
       "<style scoped>\n",
       "    .dataframe tbody tr th:only-of-type {\n",
       "        vertical-align: middle;\n",
       "    }\n",
       "\n",
       "    .dataframe tbody tr th {\n",
       "        vertical-align: top;\n",
       "    }\n",
       "\n",
       "    .dataframe thead th {\n",
       "        text-align: right;\n",
       "    }\n",
       "</style>\n",
       "<table border=\"1\" class=\"dataframe\">\n",
       "  <thead>\n",
       "    <tr style=\"text-align: right;\">\n",
       "      <th></th>\n",
       "      <th>tweet_id</th>\n",
       "      <th>writer</th>\n",
       "      <th>body</th>\n",
       "      <th>comment_num</th>\n",
       "      <th>retweet_num</th>\n",
       "      <th>like_num</th>\n",
       "      <th>ticker_symbol</th>\n",
       "      <th>date</th>\n",
       "    </tr>\n",
       "  </thead>\n",
       "  <tbody>\n",
       "    <tr>\n",
       "      <th>2510758</th>\n",
       "      <td>946083400854540288</td>\n",
       "      <td>vliscony</td>\n",
       "      <td>Commented on $HMC $TM $TSLA</td>\n",
       "      <td>0</td>\n",
       "      <td>1</td>\n",
       "      <td>1</td>\n",
       "      <td>TSLA</td>\n",
       "      <td>2017-12-27 18:20:34</td>\n",
       "    </tr>\n",
       "    <tr>\n",
       "      <th>2029711</th>\n",
       "      <td>858089764637069313</td>\n",
       "      <td>AmyDaniel212</td>\n",
       "      <td>The #largest companies on #earth #inspire us -...</td>\n",
       "      <td>0</td>\n",
       "      <td>0</td>\n",
       "      <td>0</td>\n",
       "      <td>AAPL</td>\n",
       "      <td>2017-04-28 22:45:17</td>\n",
       "    </tr>\n",
       "    <tr>\n",
       "      <th>2727703</th>\n",
       "      <td>984492265820352514</td>\n",
       "      <td>askwarrenbuffet</td>\n",
       "      <td>To achieve true power and true greatness one m...</td>\n",
       "      <td>0</td>\n",
       "      <td>0</td>\n",
       "      <td>1</td>\n",
       "      <td>GOOG</td>\n",
       "      <td>2018-04-12 18:03:41</td>\n",
       "    </tr>\n",
       "    <tr>\n",
       "      <th>3551081</th>\n",
       "      <td>1095400346959138816</td>\n",
       "      <td>Elons420Fraud</td>\n",
       "      <td>7/10  9. Actual Q1 sales are bad (60-70k total...</td>\n",
       "      <td>1</td>\n",
       "      <td>0</td>\n",
       "      <td>3</td>\n",
       "      <td>TSLA</td>\n",
       "      <td>2019-02-12 19:12:48</td>\n",
       "    </tr>\n",
       "    <tr>\n",
       "      <th>2472802</th>\n",
       "      <td>937670859921207296</td>\n",
       "      <td>dellakwal</td>\n",
       "      <td>The next Time you Buy something for $AMZN or $...</td>\n",
       "      <td>0</td>\n",
       "      <td>0</td>\n",
       "      <td>0</td>\n",
       "      <td>AAPL</td>\n",
       "      <td>2017-12-04 13:12:08</td>\n",
       "    </tr>\n",
       "  </tbody>\n",
       "</table>\n",
       "</div>"
      ],
      "text/plain": [
       "                    tweet_id           writer  \\\n",
       "2510758   946083400854540288         vliscony   \n",
       "2029711   858089764637069313     AmyDaniel212   \n",
       "2727703   984492265820352514  askwarrenbuffet   \n",
       "3551081  1095400346959138816    Elons420Fraud   \n",
       "2472802   937670859921207296        dellakwal   \n",
       "\n",
       "                                                      body  comment_num  \\\n",
       "2510758                        Commented on $HMC $TM $TSLA            0   \n",
       "2029711  The #largest companies on #earth #inspire us -...            0   \n",
       "2727703  To achieve true power and true greatness one m...            0   \n",
       "3551081  7/10  9. Actual Q1 sales are bad (60-70k total...            1   \n",
       "2472802  The next Time you Buy something for $AMZN or $...            0   \n",
       "\n",
       "         retweet_num  like_num ticker_symbol                date  \n",
       "2510758            1         1          TSLA 2017-12-27 18:20:34  \n",
       "2029711            0         0          AAPL 2017-04-28 22:45:17  \n",
       "2727703            0         1          GOOG 2018-04-12 18:03:41  \n",
       "3551081            0         3          TSLA 2019-02-12 19:12:48  \n",
       "2472802            0         0          AAPL 2017-12-04 13:12:08  "
      ]
     },
     "execution_count": 12,
     "metadata": {},
     "output_type": "execute_result"
    }
   ],
   "source": [
    "tweets[\"date\"] = pd.to_datetime(tweets.post_date, unit='s')\n",
    "tweets = tweets.drop(columns=\"post_date\")\n",
    "tweets.sample(5)"
   ]
  },
  {
   "cell_type": "markdown",
   "metadata": {},
   "source": [
    "We will see what timeframe does our dataset cover, by getting the data of the earliest and latest tweets."
   ]
  },
  {
   "cell_type": "code",
   "execution_count": 13,
   "metadata": {},
   "outputs": [
    {
     "data": {
      "text/plain": [
       "(Timestamp('2015-01-01 00:00:57'), Timestamp('2019-12-31 23:55:53'))"
      ]
     },
     "execution_count": 13,
     "metadata": {},
     "output_type": "execute_result"
    }
   ],
   "source": [
    "tweets.date.min(), tweets.date.max()"
   ]
  },
  {
   "cell_type": "markdown",
   "metadata": {},
   "source": [
    "Before we start working with the stocks dataset, we want to combine the individual dataframes, that we have. We got the GOOGL stock data from a different data source so let's check its dtypes compared to the other ones."
   ]
  },
  {
   "cell_type": "code",
   "execution_count": 14,
   "metadata": {},
   "outputs": [
    {
     "data": {
      "text/plain": [
       "(Date      datetime64[ns]\n",
       " Low              float64\n",
       " Open             float64\n",
       " Volume             int64\n",
       " High             float64\n",
       " Close            float64\n",
       " dtype: object, Date               object\n",
       " Low               float64\n",
       " Open              float64\n",
       " Volume              int64\n",
       " High              float64\n",
       " Close             float64\n",
       " Adjusted Close    float64\n",
       " dtype: object)"
      ]
     },
     "execution_count": 14,
     "metadata": {},
     "output_type": "execute_result"
    }
   ],
   "source": [
    "googl_stock.dtypes, stocks_df['AAPL'].dtypes"
   ]
  },
  {
   "cell_type": "markdown",
   "metadata": {},
   "source": [
    "The GOOGL dataset has different data type for the \"Date\" column compared to the AAPL one. To combat this, we will convert it temporarily to a similarly formated string. And let's also remove the \"Adjusted Close\" from all the other datasets, because we are not going to use it."
   ]
  },
  {
   "cell_type": "code",
   "execution_count": 15,
   "metadata": {},
   "outputs": [],
   "source": [
    "for key in stock_keys:\n",
    "    stocks_df[key] = stocks_df[key].drop(columns=[\"Adjusted Close\"])"
   ]
  },
  {
   "cell_type": "code",
   "execution_count": 16,
   "metadata": {},
   "outputs": [],
   "source": [
    "def date_to_string(date):\n",
    "    return date.strftime('%d-%m-%Y')\n",
    "\n",
    "googl_stock.Date = googl_stock.Date.apply(date_to_string)"
   ]
  },
  {
   "cell_type": "markdown",
   "metadata": {},
   "source": [
    "Now we can finally add the GOOGL market history dataset to our list and combine the list into one large dataframe, which will be easier to work with."
   ]
  },
  {
   "cell_type": "code",
   "execution_count": 17,
   "metadata": {},
   "outputs": [
    {
     "data": {
      "text/html": [
       "<div>\n",
       "<style scoped>\n",
       "    .dataframe tbody tr th:only-of-type {\n",
       "        vertical-align: middle;\n",
       "    }\n",
       "\n",
       "    .dataframe tbody tr th {\n",
       "        vertical-align: top;\n",
       "    }\n",
       "\n",
       "    .dataframe thead th {\n",
       "        text-align: right;\n",
       "    }\n",
       "</style>\n",
       "<table border=\"1\" class=\"dataframe\">\n",
       "  <thead>\n",
       "    <tr style=\"text-align: right;\">\n",
       "      <th></th>\n",
       "      <th></th>\n",
       "      <th>Date</th>\n",
       "      <th>Low</th>\n",
       "      <th>Open</th>\n",
       "      <th>Volume</th>\n",
       "      <th>High</th>\n",
       "      <th>Close</th>\n",
       "    </tr>\n",
       "  </thead>\n",
       "  <tbody>\n",
       "    <tr>\n",
       "      <th rowspan=\"2\" valign=\"top\">MSFT</th>\n",
       "      <th>8053</th>\n",
       "      <td>22-02-2018</td>\n",
       "      <td>91.360001</td>\n",
       "      <td>92.050003</td>\n",
       "      <td>24392800</td>\n",
       "      <td>92.730003</td>\n",
       "      <td>91.730003</td>\n",
       "    </tr>\n",
       "    <tr>\n",
       "      <th>7889</th>\n",
       "      <td>28-06-2017</td>\n",
       "      <td>68.790001</td>\n",
       "      <td>69.209999</td>\n",
       "      <td>25806200</td>\n",
       "      <td>69.839996</td>\n",
       "      <td>69.800003</td>\n",
       "    </tr>\n",
       "    <tr>\n",
       "      <th>TSLA</th>\n",
       "      <th>1723</th>\n",
       "      <td>03-05-2017</td>\n",
       "      <td>62.090000</td>\n",
       "      <td>63.534000</td>\n",
       "      <td>35667000</td>\n",
       "      <td>64.306000</td>\n",
       "      <td>62.203999</td>\n",
       "    </tr>\n",
       "    <tr>\n",
       "      <th>MSFT</th>\n",
       "      <th>5243</th>\n",
       "      <td>21-12-2006</td>\n",
       "      <td>29.889999</td>\n",
       "      <td>30.129999</td>\n",
       "      <td>32270500</td>\n",
       "      <td>30.139999</td>\n",
       "      <td>29.980000</td>\n",
       "    </tr>\n",
       "    <tr>\n",
       "      <th>GOOG</th>\n",
       "      <th>3582</th>\n",
       "      <td>08-11-2018</td>\n",
       "      <td>1072.204956</td>\n",
       "      <td>1091.380005</td>\n",
       "      <td>1488200</td>\n",
       "      <td>1093.270020</td>\n",
       "      <td>1082.400024</td>\n",
       "    </tr>\n",
       "    <tr>\n",
       "      <th>GOOGL</th>\n",
       "      <th>3157</th>\n",
       "      <td>06-03-2017</td>\n",
       "      <td>841.169983</td>\n",
       "      <td>846.859985</td>\n",
       "      <td>1047900</td>\n",
       "      <td>848.940002</td>\n",
       "      <td>847.270020</td>\n",
       "    </tr>\n",
       "    <tr>\n",
       "      <th>MSFT</th>\n",
       "      <th>32</th>\n",
       "      <td>29-04-1986</td>\n",
       "      <td>0.113715</td>\n",
       "      <td>0.118056</td>\n",
       "      <td>30326400</td>\n",
       "      <td>0.118056</td>\n",
       "      <td>0.114583</td>\n",
       "    </tr>\n",
       "    <tr>\n",
       "      <th>AAPL</th>\n",
       "      <th>9242</th>\n",
       "      <td>07-08-2017</td>\n",
       "      <td>39.167500</td>\n",
       "      <td>39.264999</td>\n",
       "      <td>87481200</td>\n",
       "      <td>39.730000</td>\n",
       "      <td>39.702499</td>\n",
       "    </tr>\n",
       "    <tr>\n",
       "      <th rowspan=\"2\" valign=\"top\">MSFT</th>\n",
       "      <th>2140</th>\n",
       "      <td>29-08-1994</td>\n",
       "      <td>3.562500</td>\n",
       "      <td>3.585938</td>\n",
       "      <td>56625600</td>\n",
       "      <td>3.632813</td>\n",
       "      <td>3.566406</td>\n",
       "    </tr>\n",
       "    <tr>\n",
       "      <th>8124</th>\n",
       "      <td>05-06-2018</td>\n",
       "      <td>101.529999</td>\n",
       "      <td>102.000000</td>\n",
       "      <td>23514400</td>\n",
       "      <td>102.330002</td>\n",
       "      <td>102.190002</td>\n",
       "    </tr>\n",
       "  </tbody>\n",
       "</table>\n",
       "</div>"
      ],
      "text/plain": [
       "                  Date          Low         Open    Volume         High  \\\n",
       "MSFT  8053  22-02-2018    91.360001    92.050003  24392800    92.730003   \n",
       "      7889  28-06-2017    68.790001    69.209999  25806200    69.839996   \n",
       "TSLA  1723  03-05-2017    62.090000    63.534000  35667000    64.306000   \n",
       "MSFT  5243  21-12-2006    29.889999    30.129999  32270500    30.139999   \n",
       "GOOG  3582  08-11-2018  1072.204956  1091.380005   1488200  1093.270020   \n",
       "GOOGL 3157  06-03-2017   841.169983   846.859985   1047900   848.940002   \n",
       "MSFT  32    29-04-1986     0.113715     0.118056  30326400     0.118056   \n",
       "AAPL  9242  07-08-2017    39.167500    39.264999  87481200    39.730000   \n",
       "MSFT  2140  29-08-1994     3.562500     3.585938  56625600     3.632813   \n",
       "      8124  05-06-2018   101.529999   102.000000  23514400   102.330002   \n",
       "\n",
       "                  Close  \n",
       "MSFT  8053    91.730003  \n",
       "      7889    69.800003  \n",
       "TSLA  1723    62.203999  \n",
       "MSFT  5243    29.980000  \n",
       "GOOG  3582  1082.400024  \n",
       "GOOGL 3157   847.270020  \n",
       "MSFT  32       0.114583  \n",
       "AAPL  9242    39.702499  \n",
       "MSFT  2140     3.566406  \n",
       "      8124   102.190002  "
      ]
     },
     "execution_count": 17,
     "metadata": {},
     "output_type": "execute_result"
    }
   ],
   "source": [
    "stocks_df['GOOGL'] = googl_stock\n",
    "\n",
    "stocks = pd.concat(stocks_df)\n",
    "stocks.sample(10)"
   ]
  },
  {
   "cell_type": "markdown",
   "metadata": {},
   "source": [
    "We saw earlier, that our twitter dataset has data from 01.01.2015 to 31.12.2019, so basically from 2015 to the beginning of 2020. Knowing this we can filter out the stock prices to be only in this period of time. But first we have to covert the \"Date\" column to datetime."
   ]
  },
  {
   "cell_type": "code",
   "execution_count": 18,
   "metadata": {},
   "outputs": [],
   "source": [
    "def string_to_date(date_string):\n",
    "    return datetime.strptime(date_string, \"%d-%m-%Y\")\n",
    "stocks.Date = pd.to_datetime(stocks.Date.apply(string_to_date))"
   ]
  },
  {
   "cell_type": "code",
   "execution_count": 19,
   "metadata": {
    "scrolled": true
   },
   "outputs": [
    {
     "data": {
      "text/html": [
       "<div>\n",
       "<style scoped>\n",
       "    .dataframe tbody tr th:only-of-type {\n",
       "        vertical-align: middle;\n",
       "    }\n",
       "\n",
       "    .dataframe tbody tr th {\n",
       "        vertical-align: top;\n",
       "    }\n",
       "\n",
       "    .dataframe thead th {\n",
       "        text-align: right;\n",
       "    }\n",
       "</style>\n",
       "<table border=\"1\" class=\"dataframe\">\n",
       "  <thead>\n",
       "    <tr style=\"text-align: right;\">\n",
       "      <th></th>\n",
       "      <th></th>\n",
       "      <th>Date</th>\n",
       "      <th>Low</th>\n",
       "      <th>Open</th>\n",
       "      <th>Volume</th>\n",
       "      <th>High</th>\n",
       "      <th>Close</th>\n",
       "    </tr>\n",
       "  </thead>\n",
       "  <tbody>\n",
       "    <tr>\n",
       "      <th>GOOGL</th>\n",
       "      <th>3627</th>\n",
       "      <td>2019-01-16</td>\n",
       "      <td>1088.010010</td>\n",
       "      <td>1090.000000</td>\n",
       "      <td>1914000</td>\n",
       "      <td>1102.359985</td>\n",
       "      <td>1089.510010</td>\n",
       "    </tr>\n",
       "    <tr>\n",
       "      <th>AMZN</th>\n",
       "      <th>4559</th>\n",
       "      <td>2015-06-29</td>\n",
       "      <td>429.000000</td>\n",
       "      <td>434.980011</td>\n",
       "      <td>2753200</td>\n",
       "      <td>437.000000</td>\n",
       "      <td>429.859985</td>\n",
       "    </tr>\n",
       "    <tr>\n",
       "      <th>GOOG</th>\n",
       "      <th>2990</th>\n",
       "      <td>2016-07-06</td>\n",
       "      <td>689.090027</td>\n",
       "      <td>689.979980</td>\n",
       "      <td>1411900</td>\n",
       "      <td>701.679993</td>\n",
       "      <td>697.770020</td>\n",
       "    </tr>\n",
       "    <tr>\n",
       "      <th>TSLA</th>\n",
       "      <th>1413</th>\n",
       "      <td>2016-02-09</td>\n",
       "      <td>28.209999</td>\n",
       "      <td>28.464001</td>\n",
       "      <td>43258000</td>\n",
       "      <td>31.958000</td>\n",
       "      <td>29.650000</td>\n",
       "    </tr>\n",
       "    <tr>\n",
       "      <th>AAPL</th>\n",
       "      <th>8895</th>\n",
       "      <td>2016-03-22</td>\n",
       "      <td>26.302500</td>\n",
       "      <td>26.312500</td>\n",
       "      <td>129777600</td>\n",
       "      <td>26.822500</td>\n",
       "      <td>26.680000</td>\n",
       "    </tr>\n",
       "    <tr>\n",
       "      <th rowspan=\"3\" valign=\"top\">AMZN</th>\n",
       "      <th>5604</th>\n",
       "      <td>2019-08-22</td>\n",
       "      <td>1800.099976</td>\n",
       "      <td>1828.000000</td>\n",
       "      <td>2653500</td>\n",
       "      <td>1829.410034</td>\n",
       "      <td>1804.660034</td>\n",
       "    </tr>\n",
       "    <tr>\n",
       "      <th>4833</th>\n",
       "      <td>2016-07-29</td>\n",
       "      <td>755.000000</td>\n",
       "      <td>765.000000</td>\n",
       "      <td>6777100</td>\n",
       "      <td>766.000000</td>\n",
       "      <td>758.809998</td>\n",
       "    </tr>\n",
       "    <tr>\n",
       "      <th>4488</th>\n",
       "      <td>2015-03-18</td>\n",
       "      <td>366.700012</td>\n",
       "      <td>369.970001</td>\n",
       "      <td>2654100</td>\n",
       "      <td>375.989990</td>\n",
       "      <td>375.140015</td>\n",
       "    </tr>\n",
       "    <tr>\n",
       "      <th rowspan=\"2\" valign=\"top\">GOOG</th>\n",
       "      <th>2691</th>\n",
       "      <td>2015-04-29</td>\n",
       "      <td>546.905029</td>\n",
       "      <td>550.469971</td>\n",
       "      <td>1698800</td>\n",
       "      <td>553.679993</td>\n",
       "      <td>549.080017</td>\n",
       "    </tr>\n",
       "    <tr>\n",
       "      <th>3281</th>\n",
       "      <td>2017-08-30</td>\n",
       "      <td>919.650024</td>\n",
       "      <td>920.049988</td>\n",
       "      <td>1301200</td>\n",
       "      <td>930.818970</td>\n",
       "      <td>929.570007</td>\n",
       "    </tr>\n",
       "  </tbody>\n",
       "</table>\n",
       "</div>"
      ],
      "text/plain": [
       "                 Date          Low         Open     Volume         High  \\\n",
       "GOOGL 3627 2019-01-16  1088.010010  1090.000000    1914000  1102.359985   \n",
       "AMZN  4559 2015-06-29   429.000000   434.980011    2753200   437.000000   \n",
       "GOOG  2990 2016-07-06   689.090027   689.979980    1411900   701.679993   \n",
       "TSLA  1413 2016-02-09    28.209999    28.464001   43258000    31.958000   \n",
       "AAPL  8895 2016-03-22    26.302500    26.312500  129777600    26.822500   \n",
       "AMZN  5604 2019-08-22  1800.099976  1828.000000    2653500  1829.410034   \n",
       "      4833 2016-07-29   755.000000   765.000000    6777100   766.000000   \n",
       "      4488 2015-03-18   366.700012   369.970001    2654100   375.989990   \n",
       "GOOG  2691 2015-04-29   546.905029   550.469971    1698800   553.679993   \n",
       "      3281 2017-08-30   919.650024   920.049988    1301200   930.818970   \n",
       "\n",
       "                  Close  \n",
       "GOOGL 3627  1089.510010  \n",
       "AMZN  4559   429.859985  \n",
       "GOOG  2990   697.770020  \n",
       "TSLA  1413    29.650000  \n",
       "AAPL  8895    26.680000  \n",
       "AMZN  5604  1804.660034  \n",
       "      4833   758.809998  \n",
       "      4488   375.140015  \n",
       "GOOG  2691   549.080017  \n",
       "      3281   929.570007  "
      ]
     },
     "execution_count": 19,
     "metadata": {},
     "output_type": "execute_result"
    }
   ],
   "source": [
    "stocks = stocks[(stocks.Date >= tweets.date.min()) & (stocks.Date < tweets.date.max())]\n",
    "stocks.sample(10)"
   ]
  },
  {
   "cell_type": "markdown",
   "metadata": {},
   "source": [
    "As we can see we don't have data for every day, because the stock market functions only on workdays, unlike twitter.  We will find a way to work around this later."
   ]
  },
  {
   "cell_type": "markdown",
   "metadata": {},
   "source": [
    "Now lets strip the data down to just two columns \n",
    "   * the value, which we will calculate by getting the mean of the Open and Close prices\n",
    "   * the volume, which we have already"
   ]
  },
  {
   "cell_type": "code",
   "execution_count": 20,
   "metadata": {},
   "outputs": [
    {
     "data": {
      "text/html": [
       "<div>\n",
       "<style scoped>\n",
       "    .dataframe tbody tr th:only-of-type {\n",
       "        vertical-align: middle;\n",
       "    }\n",
       "\n",
       "    .dataframe tbody tr th {\n",
       "        vertical-align: top;\n",
       "    }\n",
       "\n",
       "    .dataframe thead th {\n",
       "        text-align: right;\n",
       "    }\n",
       "</style>\n",
       "<table border=\"1\" class=\"dataframe\">\n",
       "  <thead>\n",
       "    <tr style=\"text-align: right;\">\n",
       "      <th></th>\n",
       "      <th></th>\n",
       "      <th>Date</th>\n",
       "      <th>Volume</th>\n",
       "      <th>Value</th>\n",
       "    </tr>\n",
       "  </thead>\n",
       "  <tbody>\n",
       "    <tr>\n",
       "      <th>TSLA</th>\n",
       "      <th>2187</th>\n",
       "      <td>2019-03-08</td>\n",
       "      <td>44098000</td>\n",
       "      <td>56.105000</td>\n",
       "    </tr>\n",
       "    <tr>\n",
       "      <th>AAPL</th>\n",
       "      <th>9002</th>\n",
       "      <td>2016-08-23</td>\n",
       "      <td>85030800</td>\n",
       "      <td>27.179999</td>\n",
       "    </tr>\n",
       "    <tr>\n",
       "      <th>AMZN</th>\n",
       "      <th>5218</th>\n",
       "      <td>2018-02-08</td>\n",
       "      <td>8578600</td>\n",
       "      <td>1390.090027</td>\n",
       "    </tr>\n",
       "    <tr>\n",
       "      <th rowspan=\"2\" valign=\"top\">MSFT</th>\n",
       "      <th>7903</th>\n",
       "      <td>2017-07-19</td>\n",
       "      <td>22416200</td>\n",
       "      <td>73.680000</td>\n",
       "    </tr>\n",
       "    <tr>\n",
       "      <th>7644</th>\n",
       "      <td>2016-07-08</td>\n",
       "      <td>28391000</td>\n",
       "      <td>52.014999</td>\n",
       "    </tr>\n",
       "    <tr>\n",
       "      <th>GOOGL</th>\n",
       "      <th>2650</th>\n",
       "      <td>2015-03-02</td>\n",
       "      <td>2520300</td>\n",
       "      <td>571.010010</td>\n",
       "    </tr>\n",
       "    <tr>\n",
       "      <th>MSFT</th>\n",
       "      <th>8384</th>\n",
       "      <td>2019-06-18</td>\n",
       "      <td>25934500</td>\n",
       "      <td>134.675003</td>\n",
       "    </tr>\n",
       "    <tr>\n",
       "      <th>GOOG</th>\n",
       "      <th>3514</th>\n",
       "      <td>2018-08-03</td>\n",
       "      <td>1089600</td>\n",
       "      <td>1226.664978</td>\n",
       "    </tr>\n",
       "    <tr>\n",
       "      <th rowspan=\"2\" valign=\"top\">GOOGL</th>\n",
       "      <th>3427</th>\n",
       "      <td>2018-04-02</td>\n",
       "      <td>3253400</td>\n",
       "      <td>1020.125000</td>\n",
       "    </tr>\n",
       "    <tr>\n",
       "      <th>3245</th>\n",
       "      <td>2017-07-11</td>\n",
       "      <td>1461200</td>\n",
       "      <td>952.025024</td>\n",
       "    </tr>\n",
       "  </tbody>\n",
       "</table>\n",
       "</div>"
      ],
      "text/plain": [
       "                 Date    Volume        Value\n",
       "TSLA  2187 2019-03-08  44098000    56.105000\n",
       "AAPL  9002 2016-08-23  85030800    27.179999\n",
       "AMZN  5218 2018-02-08   8578600  1390.090027\n",
       "MSFT  7903 2017-07-19  22416200    73.680000\n",
       "      7644 2016-07-08  28391000    52.014999\n",
       "GOOGL 2650 2015-03-02   2520300   571.010010\n",
       "MSFT  8384 2019-06-18  25934500   134.675003\n",
       "GOOG  3514 2018-08-03   1089600  1226.664978\n",
       "GOOGL 3427 2018-04-02   3253400  1020.125000\n",
       "      3245 2017-07-11   1461200   952.025024"
      ]
     },
     "execution_count": 20,
     "metadata": {},
     "output_type": "execute_result"
    }
   ],
   "source": [
    "stocks[\"Value\"] = (stocks.Open + stocks.Close) / 2\n",
    "stocks = stocks.drop(columns=['Low', 'Open', 'High', 'Close'])\n",
    "stocks.sample(10)"
   ]
  },
  {
   "cell_type": "markdown",
   "metadata": {},
   "source": [
    "It is a little inconvenient to have the stock name as an index instead of it being a regular column. We will fix that and also change the column names to match the twitter dataset."
   ]
  },
  {
   "cell_type": "code",
   "execution_count": 21,
   "metadata": {},
   "outputs": [],
   "source": [
    "stocks = stocks.reset_index(level=0)"
   ]
  },
  {
   "cell_type": "code",
   "execution_count": 22,
   "metadata": {},
   "outputs": [
    {
     "name": "stdout",
     "output_type": "stream",
     "text": [
      "<class 'pandas.core.frame.DataFrame'>\n",
      "Int64Index: 7548 entries, 8589 to 2393\n",
      "Data columns (total 4 columns):\n",
      "ticker_symbol    7548 non-null object\n",
      "date             7548 non-null datetime64[ns]\n",
      "volume           7548 non-null int64\n",
      "value            7548 non-null float64\n",
      "dtypes: datetime64[ns](1), float64(1), int64(1), object(1)\n",
      "memory usage: 294.8+ KB\n"
     ]
    }
   ],
   "source": [
    "stocks.columns = [\"ticker_symbol\", \"date\", \"volume\", \"value\"]\n",
    "stocks.sample(10)\n",
    "stocks.info()"
   ]
  },
  {
   "cell_type": "markdown",
   "metadata": {},
   "source": [
    " So next up lets take a look at the datatypes and null values for the twitter dataset."
   ]
  },
  {
   "cell_type": "code",
   "execution_count": 23,
   "metadata": {},
   "outputs": [
    {
     "name": "stdout",
     "output_type": "stream",
     "text": [
      "<class 'pandas.core.frame.DataFrame'>\n",
      "Int64Index: 4336445 entries, 0 to 4336444\n",
      "Data columns (total 8 columns):\n",
      "tweet_id         4336445 non-null int64\n",
      "writer           4280526 non-null object\n",
      "body             4336445 non-null object\n",
      "comment_num      4336445 non-null int64\n",
      "retweet_num      4336445 non-null int64\n",
      "like_num         4336445 non-null int64\n",
      "ticker_symbol    4336445 non-null object\n",
      "date             4336445 non-null datetime64[ns]\n",
      "dtypes: datetime64[ns](1), int64(4), object(3)\n",
      "memory usage: 297.8+ MB\n"
     ]
    }
   ],
   "source": [
    "tweets.info(null_counts = True)"
   ]
  },
  {
   "cell_type": "markdown",
   "metadata": {},
   "source": [
    "Everything looks good, except the ticker_symbol which should be a category. Also the writer column has quite a few missing records, but we won't be using it for our model and analysis, so we can discard it altogether."
   ]
  },
  {
   "cell_type": "code",
   "execution_count": 24,
   "metadata": {},
   "outputs": [
    {
     "data": {
      "text/html": [
       "<div>\n",
       "<style scoped>\n",
       "    .dataframe tbody tr th:only-of-type {\n",
       "        vertical-align: middle;\n",
       "    }\n",
       "\n",
       "    .dataframe tbody tr th {\n",
       "        vertical-align: top;\n",
       "    }\n",
       "\n",
       "    .dataframe thead th {\n",
       "        text-align: right;\n",
       "    }\n",
       "</style>\n",
       "<table border=\"1\" class=\"dataframe\">\n",
       "  <thead>\n",
       "    <tr style=\"text-align: right;\">\n",
       "      <th></th>\n",
       "      <th>tweet_id</th>\n",
       "      <th>body</th>\n",
       "      <th>comment_num</th>\n",
       "      <th>retweet_num</th>\n",
       "      <th>like_num</th>\n",
       "      <th>ticker_symbol</th>\n",
       "      <th>date</th>\n",
       "    </tr>\n",
       "  </thead>\n",
       "  <tbody>\n",
       "    <tr>\n",
       "      <th>0</th>\n",
       "      <td>550441509175443456</td>\n",
       "      <td>lx21 made $10,008  on $AAPL -Check it out! htt...</td>\n",
       "      <td>0</td>\n",
       "      <td>0</td>\n",
       "      <td>1</td>\n",
       "      <td>AAPL</td>\n",
       "      <td>2015-01-01 00:00:57</td>\n",
       "    </tr>\n",
       "    <tr>\n",
       "      <th>1</th>\n",
       "      <td>550441672312512512</td>\n",
       "      <td>Insanity of today weirdo massive selling. $aap...</td>\n",
       "      <td>0</td>\n",
       "      <td>0</td>\n",
       "      <td>0</td>\n",
       "      <td>AAPL</td>\n",
       "      <td>2015-01-01 00:01:36</td>\n",
       "    </tr>\n",
       "    <tr>\n",
       "      <th>2</th>\n",
       "      <td>550441732014223360</td>\n",
       "      <td>S&amp;P100 #Stocks Performance $HD $LOW $SBUX $TGT...</td>\n",
       "      <td>0</td>\n",
       "      <td>0</td>\n",
       "      <td>0</td>\n",
       "      <td>AMZN</td>\n",
       "      <td>2015-01-01 00:01:50</td>\n",
       "    </tr>\n",
       "    <tr>\n",
       "      <th>3</th>\n",
       "      <td>550442977802207232</td>\n",
       "      <td>$GM $TSLA: Volkswagen Pushes 2014 Record Recal...</td>\n",
       "      <td>0</td>\n",
       "      <td>0</td>\n",
       "      <td>1</td>\n",
       "      <td>TSLA</td>\n",
       "      <td>2015-01-01 00:06:47</td>\n",
       "    </tr>\n",
       "    <tr>\n",
       "      <th>4</th>\n",
       "      <td>550443807834402816</td>\n",
       "      <td>Swing Trading: Up To 8.91% Return In 14 Days h...</td>\n",
       "      <td>0</td>\n",
       "      <td>0</td>\n",
       "      <td>1</td>\n",
       "      <td>AAPL</td>\n",
       "      <td>2015-01-01 00:10:05</td>\n",
       "    </tr>\n",
       "    <tr>\n",
       "      <th>5</th>\n",
       "      <td>550443807834402816</td>\n",
       "      <td>Swing Trading: Up To 8.91% Return In 14 Days h...</td>\n",
       "      <td>0</td>\n",
       "      <td>0</td>\n",
       "      <td>1</td>\n",
       "      <td>TSLA</td>\n",
       "      <td>2015-01-01 00:10:05</td>\n",
       "    </tr>\n",
       "    <tr>\n",
       "      <th>6</th>\n",
       "      <td>550443808606126081</td>\n",
       "      <td>Swing Trading: Up To 8.91% Return In 14 Days h...</td>\n",
       "      <td>0</td>\n",
       "      <td>0</td>\n",
       "      <td>1</td>\n",
       "      <td>AAPL</td>\n",
       "      <td>2015-01-01 00:10:05</td>\n",
       "    </tr>\n",
       "  </tbody>\n",
       "</table>\n",
       "</div>"
      ],
      "text/plain": [
       "             tweet_id                                               body  \\\n",
       "0  550441509175443456  lx21 made $10,008  on $AAPL -Check it out! htt...   \n",
       "1  550441672312512512  Insanity of today weirdo massive selling. $aap...   \n",
       "2  550441732014223360  S&P100 #Stocks Performance $HD $LOW $SBUX $TGT...   \n",
       "3  550442977802207232  $GM $TSLA: Volkswagen Pushes 2014 Record Recal...   \n",
       "4  550443807834402816  Swing Trading: Up To 8.91% Return In 14 Days h...   \n",
       "5  550443807834402816  Swing Trading: Up To 8.91% Return In 14 Days h...   \n",
       "6  550443808606126081  Swing Trading: Up To 8.91% Return In 14 Days h...   \n",
       "\n",
       "   comment_num  retweet_num  like_num ticker_symbol                date  \n",
       "0            0            0         1          AAPL 2015-01-01 00:00:57  \n",
       "1            0            0         0          AAPL 2015-01-01 00:01:36  \n",
       "2            0            0         0          AMZN 2015-01-01 00:01:50  \n",
       "3            0            0         1          TSLA 2015-01-01 00:06:47  \n",
       "4            0            0         1          AAPL 2015-01-01 00:10:05  \n",
       "5            0            0         1          TSLA 2015-01-01 00:10:05  \n",
       "6            0            0         1          AAPL 2015-01-01 00:10:05  "
      ]
     },
     "execution_count": 24,
     "metadata": {},
     "output_type": "execute_result"
    }
   ],
   "source": [
    "tweets.ticker_symbol = tweets.ticker_symbol.astype('category')\n",
    "tweets = tweets.drop(columns=[\"writer\"])\n",
    "tweets.head(7)"
   ]
  },
  {
   "cell_type": "markdown",
   "metadata": {},
   "source": [
    "As we can see there seem to be a lot of duplicate bodies in our dataset. We want to remove them and this is exactly what the following code does. "
   ]
  },
  {
   "cell_type": "code",
   "execution_count": 25,
   "metadata": {},
   "outputs": [],
   "source": [
    "tweets = tweets.drop_duplicates(subset=[\"body\"])"
   ]
  },
  {
   "cell_type": "markdown",
   "metadata": {},
   "source": [
    "### 3. Text Preparation and Exploration"
   ]
  },
  {
   "cell_type": "markdown",
   "metadata": {},
   "source": [
    "Before we start working with the text, we have to prepare it and take a quick look at some statistics about it. First let's convert all the tweets' bodies into lowercase."
   ]
  },
  {
   "cell_type": "code",
   "execution_count": 26,
   "metadata": {},
   "outputs": [],
   "source": [
    "tweets.body = tweets.body.str.lower()"
   ]
  },
  {
   "cell_type": "markdown",
   "metadata": {},
   "source": [
    "Before we separate the tweets into words, we want to remove any urls from them."
   ]
  },
  {
   "cell_type": "code",
   "execution_count": 27,
   "metadata": {},
   "outputs": [],
   "source": [
    "url_regex = r'https?:\\/\\/(www\\.)?[-a-zA-Z0-9@:%._\\+~#=]{1,256}\\.[a-zA-Z0-9()]{1,6}\\b([-a-zA-Z0-9()@:%_\\+.~#?&//=]*)'\n",
    "def remove_url_from_string(str):\n",
    "    return re.sub(url_regex, '', str)\n",
    "tweets.body = tweets.body.apply(remove_url_from_string)"
   ]
  },
  {
   "cell_type": "markdown",
   "metadata": {},
   "source": [
    "NLTK provides a small corpus of stop words that we will load into a list, based on which we'll later filter them out from the tweets."
   ]
  },
  {
   "cell_type": "code",
   "execution_count": 28,
   "metadata": {},
   "outputs": [],
   "source": [
    "stopwords = nltk.corpus.stopwords.words(\"english\")\n",
    "stopwords.append(\"\")"
   ]
  },
  {
   "cell_type": "markdown",
   "metadata": {},
   "source": [
    "To properly analyze the text for starters we would like to split it into single words and remove all the stopwords from it. Later on we would like to apply some sort of sentiment analysis, which works on whole texts, not lists of words, so we will save the \"tokenized\" version into a new variable, which we can work with."
   ]
  },
  {
   "cell_type": "code",
   "execution_count": 29,
   "metadata": {},
   "outputs": [
    {
     "data": {
      "text/plain": [
       "2171383    [ifs, empowers, service, engineers, via, micro...\n",
       "2998509    [tsla, batteries, better, change, world, forev...\n",
       "946609     [alphabet, c, google, goog, kirkland, new, bui...\n",
       "270854     [goog, family, office, google, schmidt, buys, ...\n",
       "3778579                               [amzn, long, 1931, 53]\n",
       "Name: body, dtype: object"
      ]
     },
     "execution_count": 29,
     "metadata": {},
     "output_type": "execute_result"
    }
   ],
   "source": [
    "def string_into_words(string): \n",
    "    return [w for w in re.split(\"\\W+\", string) if w not in stopwords]\n",
    "\n",
    "tokenized_tweets = tweets.body.apply(string_into_words).copy()\n",
    "tokenized_tweets.sample(5)"
   ]
  },
  {
   "cell_type": "markdown",
   "metadata": {},
   "source": [
    "Now we can look at the frequency distribution of the words (how many times is each word appears in the tweets). Just because the dataset is too large to analyze every observation. To combat this we will take a smaller sample of the data."
   ]
  },
  {
   "cell_type": "code",
   "execution_count": 30,
   "metadata": {},
   "outputs": [
    {
     "data": {
      "text/plain": [
       "1362011    [mobileye, drops, 10, ends, tesla, relationshi...\n",
       "3439937    [50, dma, resistance, today, kiq, vips, ntes, ...\n",
       "2974882    [active, traders, try, one, free, trading, gui...\n",
       "Name: body, dtype: object"
      ]
     },
     "execution_count": 30,
     "metadata": {},
     "output_type": "execute_result"
    }
   ],
   "source": [
    "tweets_sample = tokenized_tweets.sample(10000, random_state=10)\n",
    "tweets_sample.head(3)"
   ]
  },
  {
   "cell_type": "code",
   "execution_count": 31,
   "metadata": {},
   "outputs": [],
   "source": [
    "all_words = tweets_sample.sum()"
   ]
  },
  {
   "cell_type": "code",
   "execution_count": 32,
   "metadata": {},
   "outputs": [],
   "source": [
    "fd = nltk.FreqDist(all_words)"
   ]
  },
  {
   "cell_type": "code",
   "execution_count": 33,
   "metadata": {},
   "outputs": [
    {
     "data": {
      "text/plain": [
       "array([['aapl', '4063'],\n",
       "       ['tsla', '3131'],\n",
       "       ['amzn', '2239'],\n",
       "       ['apple', '1487'],\n",
       "       ['read', '1257'],\n",
       "       ['goog', '1116'],\n",
       "       ['msft', '1059'],\n",
       "       ['googl', '985'],\n",
       "       ['fb', '806'],\n",
       "       ['stock', '708'],\n",
       "       ['tesla', '707'],\n",
       "       ['stocks', '560'],\n",
       "       ['google', '545'],\n",
       "       ['nflx', '536'],\n",
       "       ['microsoft', '510'],\n",
       "       ['new', '497'],\n",
       "       ['inc', '491'],\n",
       "       ['amazon', '486'],\n",
       "       ['spy', '473'],\n",
       "       ['like', '459'],\n",
       "       ['1', '458'],\n",
       "       ['market', '390'],\n",
       "       ['today', '381'],\n",
       "       ['3', '378'],\n",
       "       ['buy', '358'],\n",
       "       ['iphone', '351'],\n",
       "       ['get', '350'],\n",
       "       ['day', '336'],\n",
       "       ['trading', '335'],\n",
       "       ['2', '328']], dtype='<U9')"
      ]
     },
     "execution_count": 33,
     "metadata": {},
     "output_type": "execute_result"
    }
   ],
   "source": [
    "common_words = np.array(fd.most_common(30))\n",
    "common_words"
   ]
  },
  {
   "cell_type": "markdown",
   "metadata": {},
   "source": [
    "We can plot this data with a bar chart."
   ]
  },
  {
   "cell_type": "code",
   "execution_count": 53,
   "metadata": {},
   "outputs": [
    {
     "data": {
      "image/png": "[encoded data removed]",
      "text/plain": [
       "<Figure size 1080x720 with 1 Axes>"
      ]
     },
     "metadata": {
      "needs_background": "light"
     },
     "output_type": "display_data"
    }
   ],
   "source": [
    "common_words = np.flip(common_words, axis=0)\n",
    "bar_words = common_words[:, 0]\n",
    "bar_occu = common_words[:, 1].astype(int)\n",
    "bar_x = [i for i, _ in enumerate(bar_words)]\n",
    "\n",
    "plt.figure(figsize=(15, 10))\n",
    "plt.barh(bar_x, bar_occu, color='green')\n",
    "plt.xlabel(\"# of occurences\")\n",
    "plt.ylabel(\"Words\")\n",
    "plt.title(\"Frequency distribution from a sample of the tweets\")\n",
    "\n",
    "plt.yticks(bar_x, bar_words)\n",
    "\n",
    "plt.show()"
   ]
  },
  {
   "cell_type": "markdown",
   "metadata": {},
   "source": [
    "The first 30 words consist mainly of companies' names and stock ticks as we can expect. But at the bottom there we can see words like \\\"like\\\" and \"buy\". This is very important, because they express some sort of sentiment."
   ]
  },
  {
   "cell_type": "markdown",
   "metadata": {},
   "source": [
    "### 4. Hypotheses"
   ]
  },
  {
   "cell_type": "markdown",
   "metadata": {},
   "source": [
    "There are two main ways that social media could affect the market.\n",
    "   1. The overall **amount of tweets** about a company raises the interest in its stocks, which results into more transactions being made (positions being closed and opened). The metric which tracks how much a stock is being traded is called **\"Trading Volume\"**. We can look for a correlation between the traded volume of a stock and how much people \"talked\" about it the previous day. \n",
    "       * The **null hypothesis** here is: There is *no correlation* between the amount of tweets about a company with the volume of its stock traded.\n",
    "       * And the **alternate hypothesis**: The *is a correlation* between the amount of tweets about a company with the volume of its stock traded.\n",
    "\n",
    "\n",
    "   2. Another important detail is what actually we're the people saying. In other words we would like to know if the general public opinion correlates in some way with the price's fluctuation. And what I mean by public opinion is whether the majority of the statements about a company made *online* are **positive or negative**. We will look at the correlation of the **average sentiment** of all tweets about a company and its **stock price** the following day.\n",
    "       * **Null hypothesis**: There is *no correlation* between the ratio of positive/negative tweets about a company with the price of its stock on the same day.\n",
    "       * And the **alternate hypothesis**: There *is a correlation* between the ratio of positive/negative tweets about a company with the price of its stock on the same day."
   ]
  },
  {
   "cell_type": "markdown",
   "metadata": {},
   "source": [
    "To test the our hypotheses we can use a correlation coefficient. The most common of these are the *Pearson correlation coefficient* and the *Spearman's rank correlation*. The first one is sensitive only to a linear relationship between two variables, which is not what we are looking for. The *Spearman's rank correlation coefficient* however is a lot more robust (sensitive to *non-linear relationships*) than Pearson's. That is why we will use it for this project."
   ]
  },
  {
   "cell_type": "markdown",
   "metadata": {},
   "source": [
    "If the p-value (*p*) of the Spearman correlation falls below our standard threshold (5% or 0.05), we can safely reject the null-hypothesis and conclude that there is a correlation between the variables, which we will be testing."
   ]
  },
  {
   "cell_type": "markdown",
   "metadata": {},
   "source": [
    "### 5. Trading Volume and Amount of tweets"
   ]
  },
  {
   "cell_type": "markdown",
   "metadata": {},
   "source": [
    "To look at the data for the individual stocks we first have to split the tweets dataset into different parts depending on what company they are about. We can create a function which does this for us, because will have to apply again later."
   ]
  },
  {
   "cell_type": "code",
   "execution_count": 35,
   "metadata": {},
   "outputs": [],
   "source": [
    "# Take the tickers which we have by looking at the unique values of the ticker_symbol column\n",
    "tickers = tweets.ticker_symbol.unique().categories.tolist()\n",
    "\n",
    "def split_by_ticker(df: pd.DataFrame):\n",
    "    \"\"\"  \n",
    "    Split the dataframe into a list of dataframes based on the ticker_symbol column\n",
    "    \"\"\"\n",
    "    return [df[df.ticker_symbol == ticker] for ticker in tickers]\n",
    "\n",
    "tweets_by_company = split_by_ticker(tweets)"
   ]
  },
  {
   "cell_type": "markdown",
   "metadata": {},
   "source": [
    "Now we want to group the tweet data based on the date of the tweet."
   ]
  },
  {
   "cell_type": "code",
   "execution_count": 36,
   "metadata": {},
   "outputs": [
    {
     "data": {
      "text/plain": [
       "date\n",
       "2015-01-01 00:00:57    1\n",
       "2015-01-01 00:01:36    1\n",
       "2015-01-01 00:10:05    3\n",
       "2015-01-01 00:10:16    1\n",
       "2015-01-01 00:10:17    3\n",
       "dtype: int64"
      ]
     },
     "execution_count": 36,
     "metadata": {},
     "output_type": "execute_result"
    }
   ],
   "source": [
    "tweets_by_date = [t_by_company.groupby('date').size() for t_by_company in tweets_by_company]\n",
    "tweets_by_date[0].head(5)"
   ]
  },
  {
   "cell_type": "markdown",
   "metadata": {},
   "source": [
    "As we can see if we just group by the date column it also takes the time of day into account. We don't want that. To group only by the day we have to use a pandas Grouper class."
   ]
  },
  {
   "cell_type": "code",
   "execution_count": 37,
   "metadata": {},
   "outputs": [
    {
     "data": {
      "text/plain": [
       "date\n",
       "2015-01-01    280\n",
       "2015-01-02    809\n",
       "2015-01-03    231\n",
       "2015-01-04    270\n",
       "2015-01-05    891\n",
       "Freq: D, dtype: int64"
      ]
     },
     "execution_count": 37,
     "metadata": {},
     "output_type": "execute_result"
    }
   ],
   "source": [
    "# The pandas Grouper class allows us to use a \"freq\" parameter which specifies\n",
    "# the interval by which we would like to group our datetime objects\n",
    "tweets_by_date = [t_by_company.groupby(pd.Grouper(key=\"date\", freq=\"D\")).size() for t_by_company in tweets_by_company]\n",
    "tweets_by_date[0].head(5)"
   ]
  },
  {
   "cell_type": "markdown",
   "metadata": {},
   "source": [
    "This gives us exactly what we want. We know which dataframe corresponds to which company by its index and the \"ticks\" list. Now we want to compare this data to the Volume of the given stock, again grouped by day."
   ]
  },
  {
   "cell_type": "markdown",
   "metadata": {},
   "source": [
    "Here after we split the data by ticker symbol just like we did for the tweets, we can simply remove all unnecessary columns, because the data is already given to us by date."
   ]
  },
  {
   "cell_type": "code",
   "execution_count": 38,
   "metadata": {},
   "outputs": [
    {
     "data": {
      "text/html": [
       "<div>\n",
       "<style scoped>\n",
       "    .dataframe tbody tr th:only-of-type {\n",
       "        vertical-align: middle;\n",
       "    }\n",
       "\n",
       "    .dataframe tbody tr th {\n",
       "        vertical-align: top;\n",
       "    }\n",
       "\n",
       "    .dataframe thead th {\n",
       "        text-align: right;\n",
       "    }\n",
       "</style>\n",
       "<table border=\"1\" class=\"dataframe\">\n",
       "  <thead>\n",
       "    <tr style=\"text-align: right;\">\n",
       "      <th></th>\n",
       "      <th>ticker_symbol</th>\n",
       "      <th>date</th>\n",
       "      <th>volume</th>\n",
       "      <th>value</th>\n",
       "    </tr>\n",
       "  </thead>\n",
       "  <tbody>\n",
       "    <tr>\n",
       "      <th>8589</th>\n",
       "      <td>AAPL</td>\n",
       "      <td>2015-01-02</td>\n",
       "      <td>212818400</td>\n",
       "      <td>27.59000</td>\n",
       "    </tr>\n",
       "    <tr>\n",
       "      <th>8590</th>\n",
       "      <td>AAPL</td>\n",
       "      <td>2015-01-05</td>\n",
       "      <td>257142000</td>\n",
       "      <td>26.81750</td>\n",
       "    </tr>\n",
       "    <tr>\n",
       "      <th>8591</th>\n",
       "      <td>AAPL</td>\n",
       "      <td>2015-01-06</td>\n",
       "      <td>263188400</td>\n",
       "      <td>26.60000</td>\n",
       "    </tr>\n",
       "    <tr>\n",
       "      <th>8592</th>\n",
       "      <td>AAPL</td>\n",
       "      <td>2015-01-07</td>\n",
       "      <td>160423600</td>\n",
       "      <td>26.86875</td>\n",
       "    </tr>\n",
       "    <tr>\n",
       "      <th>8593</th>\n",
       "      <td>AAPL</td>\n",
       "      <td>2015-01-08</td>\n",
       "      <td>237458000</td>\n",
       "      <td>27.64000</td>\n",
       "    </tr>\n",
       "    <tr>\n",
       "      <th>8594</th>\n",
       "      <td>AAPL</td>\n",
       "      <td>2015-01-09</td>\n",
       "      <td>214798000</td>\n",
       "      <td>28.08500</td>\n",
       "    </tr>\n",
       "  </tbody>\n",
       "</table>\n",
       "</div>"
      ],
      "text/plain": [
       "     ticker_symbol       date     volume     value\n",
       "8589          AAPL 2015-01-02  212818400  27.59000\n",
       "8590          AAPL 2015-01-05  257142000  26.81750\n",
       "8591          AAPL 2015-01-06  263188400  26.60000\n",
       "8592          AAPL 2015-01-07  160423600  26.86875\n",
       "8593          AAPL 2015-01-08  237458000  27.64000\n",
       "8594          AAPL 2015-01-09  214798000  28.08500"
      ]
     },
     "execution_count": 38,
     "metadata": {},
     "output_type": "execute_result"
    }
   ],
   "source": [
    "stocks_by_company = split_by_ticker(stocks)\n",
    "stocks_by_company[0].head(6)"
   ]
  },
  {
   "cell_type": "markdown",
   "metadata": {},
   "source": [
    "Let's get a Series (from the volume column with a date index), which we can plot a lot easier."
   ]
  },
  {
   "cell_type": "code",
   "execution_count": 106,
   "metadata": {},
   "outputs": [
    {
     "data": {
      "text/plain": [
       "date\n",
       "2015-01-02    212818400\n",
       "2015-01-05    257142000\n",
       "2015-01-06    263188400\n",
       "2015-01-07    160423600\n",
       "2015-01-08    237458000\n",
       "Name: volume, dtype: int64"
      ]
     },
     "execution_count": 106,
     "metadata": {},
     "output_type": "execute_result"
    }
   ],
   "source": [
    "volume_stocks_by_date = [stock_by_company.set_index(\"date\")[\"volume\"] for stock_by_company in stocks_by_company]\n",
    "volume_stocks_by_date[0].head(5)"
   ]
  },
  {
   "cell_type": "markdown",
   "metadata": {},
   "source": [
    "Now we can plot the data and take a look at it."
   ]
  },
  {
   "cell_type": "code",
   "execution_count": 51,
   "metadata": {},
   "outputs": [
    {
     "data": {
      "image/png": "[encoded data removed]",
      "text/plain": [
       "<Figure size 1080x432 with 1 Axes>"
      ]
     },
     "metadata": {
      "needs_background": "light"
     },
     "output_type": "display_data"
    }
   ],
   "source": [
    "plt.figure(figsize=(15, 6))\n",
    "plt.plot(tweets_by_date[0])\n",
    "plt.title(tickers[0])\n",
    "plt.xlabel(\"Date\")\n",
    "plt.ylabel(\"Amount of tweets\")\n",
    "plt.show()"
   ]
  },
  {
   "cell_type": "markdown",
   "metadata": {},
   "source": [
    "As we can see the data differs a lot from day to day so maybe it would be more useful for us to plot it on a monthly basis."
   ]
  },
  {
   "cell_type": "code",
   "execution_count": 56,
   "metadata": {},
   "outputs": [
    {
     "data": {
      "image/png": "[encoded data removed]",
      "text/plain": [
       "<Figure size 1080x432 with 1 Axes>"
      ]
     },
     "metadata": {
      "needs_background": "light"
     },
     "output_type": "display_data"
    }
   ],
   "source": [
    "# Make the plot wider, so it is easier to read \n",
    "plt.figure(figsize=(15, 6))\n",
    "\n",
    "# Get the mean of every 30 rows in our dataset and plot this instead of the data for every day.\n",
    "tweets_by_month = tweets_by_date[0].rolling(30).mean()\n",
    "plt.plot(tweets_by_month)\n",
    "\n",
    "plt.title(tickers[0])\n",
    "\n",
    "plt.xlabel(\"Date\")\n",
    "plt.ylabel(\"Amount of tweets\")\n",
    "\n",
    "plt.show()"
   ]
  },
  {
   "cell_type": "markdown",
   "metadata": {},
   "source": [
    "Now we can see some trends a lot clearer. It's time to plot the traded volume against the tweet amount."
   ]
  },
  {
   "cell_type": "code",
   "execution_count": 111,
   "metadata": {},
   "outputs": [],
   "source": [
    "# for company_index in range(0, len(tickers)):\n",
    "def plot_tweets(ticker):\n",
    "    \"\"\"\n",
    "    Plot the mean amount of tweets for every 30 days for the given ticker\n",
    "    \"\"\"\n",
    "    company_index = tickers.index(ticker)\n",
    "        \n",
    "    # Create a pyplot figure and add two axis to it, which share the same x coords.\n",
    "    fig = plt.figure(figsize=(16, 8))\n",
    "    ax_tweets = fig.add_subplot(label=\"Tweets\")\n",
    "    ax_stocks = ax_tweets.twinx()\n",
    "    \n",
    "    # Get the mean of every 30 rows in our dataset and plot this instead of the data for every day.\n",
    "    tweets_by_month = tweets_by_date[company_index].rolling(30).mean()\n",
    "    volume_stocks_by_month = volume_stocks_by_date[company_index].rolling(30).mean()\n",
    "    \n",
    "    ax_stocks.plot(volume_stocks_by_month, color=\"Orange\", label=\"Stock Volume\")\n",
    "    ax_tweets.plot(tweets_by_month, label=\"Tweets Amount\")\n",
    "    \n",
    "    ax_tweets.set_title(tickers[company_index])\n",
    "    # Major ticks very 3 months.\n",
    "    fmt_every_three_months = mdates.MonthLocator(interval=3)\n",
    "    ax_tweets.xaxis.set_major_locator(fmt_every_three_months)\n",
    "    \n",
    "    # Format the major ticks to show the month name and year.\n",
    "    ax_tweets.xaxis.set_major_formatter(mdates.DateFormatter('%b %Y'))\n",
    "    \n",
    "    # Minor ticks every month\n",
    "    fmt_month = mdates.MonthLocator()\n",
    "    ax_tweets.xaxis.set_minor_locator(fmt_month)\n",
    "    \n",
    "    ax_tweets.set_xlabel(\"Date\")\n",
    "    ax_tweets.set_ylabel(\"Amount of tweets\")\n",
    "    ax_stocks.set_ylabel(\"Volume of the stock\")\n",
    "    \n",
    "    lines, labels = ax_tweets.get_legend_handles_labels()\n",
    "    lines2, labels2 = ax_stocks.get_legend_handles_labels()\n",
    "    ax_stocks.legend(lines + lines2, labels + labels2, loc=0)\n",
    "    \n",
    "    # Auto format the xaxis labels so that there is enough room for them to be shown\n",
    "    fig.autofmt_xdate()\n",
    "    \n",
    "    plt.show()"
   ]
  },
  {
   "cell_type": "code",
   "execution_count": 166,
   "metadata": {},
   "outputs": [
    {
     "data": {
      "image/png": "[encoded data removed]",
      "text/plain": [
       "<Figure size 1152x576 with 2 Axes>"
      ]
     },
     "metadata": {
      "needs_background": "light"
     },
     "output_type": "display_data"
    }
   ],
   "source": [
    "plot_tweets('AAPL')"
   ]
  },
  {
   "cell_type": "markdown",
   "metadata": {},
   "source": [
    "We can see that there clearly is some correlation between the two variables, especially in the second half of the chart."
   ]
  },
  {
   "cell_type": "markdown",
   "metadata": {},
   "source": [
    "Now we can calculate the ***Spearman's rank correlation coefficient*** using the `scipy` library and it's `stats` module. But first the two series which we will be comparing must have the same dimensions, so we are going to reindex one of them. This will remove all the twitter data about weekends, because we don't have stock market data about them."
   ]
  },
  {
   "cell_type": "code",
   "execution_count": 156,
   "metadata": {},
   "outputs": [
    {
     "name": "stdout",
     "output_type": "stream",
     "text": [
      "AAPL Twitter data length:  1258\n",
      "AAPL Volume stock data length:  1258\n",
      "AAPL Twitter data length after reindexing:  1258\n"
     ]
    }
   ],
   "source": [
    "print(\"AAPL Twitter data length: \", len(tweets_by_date[0]))\n",
    "print(\"AAPL Volume stock data length: \", len(tweets_by_date[0].reindex(volume_stocks_by_date[0].index)))\n",
    "print(\"AAPL Twitter data length after reindexing: \", len(volume_stocks_by_date[0]))\n",
    "\n",
    "tweets_by_date = [t.reindex(s.index) for (t, s) in zip(tweets_by_date, volume_stocks_by_date)]"
   ]
  },
  {
   "cell_type": "code",
   "execution_count": 198,
   "metadata": {},
   "outputs": [
    {
     "name": "stdout",
     "output_type": "stream",
     "text": [
      "Spearman correlation: \n",
      "\n",
      "\tcorrelation coefficient = 0.63380\n",
      "\tp-value = 0.00000\n",
      "\n"
     ]
    }
   ],
   "source": [
    "corr, pval = stat.spearmanr(tweets_by_date[0], volume_stocks_by_date[0], nan_policy=\"omit\")\n",
    "def print_sp_corr(corr, pval):\n",
    "    print(\"Spearman correlation: \\n\\n\\tcorrelation coefficient = {0:.5f}\\n\\tp-value = {1:.5f}\\n\".format(corr, pval))\n",
    "\n",
    "print_sp_corr(corr, pval)"
   ]
  },
  {
   "cell_type": "markdown",
   "metadata": {},
   "source": [
    "As we can see the p-value, which we were using for our test is below 0.05 and actually very close to 0. Let's look at these values for all six different companies."
   ]
  },
  {
   "cell_type": "code",
   "execution_count": 192,
   "metadata": {},
   "outputs": [],
   "source": [
    "def calc_spearman(comp_name):\n",
    "    index = tickers.index(comp_name)\n",
    "    return stat.spearmanr(tweets_by_date[index], volume_stocks_by_date[index], nan_policy=\"omit\")"
   ]
  },
  {
   "cell_type": "code",
   "execution_count": 219,
   "metadata": {},
   "outputs": [
    {
     "name": "stdout",
     "output_type": "stream",
     "text": [
      "AAPL\n",
      "Spearman correlation: \n",
      "\n",
      "\tcorrelation coefficient = 0.63380\n",
      "\tp-value = 0.00000\n",
      "\n",
      "AMZN\n",
      "Spearman correlation: \n",
      "\n",
      "\tcorrelation coefficient = 0.43131\n",
      "\tp-value = 0.00000\n",
      "\n",
      "TSLA\n",
      "Spearman correlation: \n",
      "\n",
      "\tcorrelation coefficient = 0.78763\n",
      "\tp-value = 0.00000\n",
      "\n",
      "GOOG\n",
      "Spearman correlation: \n",
      "\n",
      "\tcorrelation coefficient = 0.35725\n",
      "\tp-value = 0.00000\n",
      "\n",
      "MSFT\n",
      "Spearman correlation: \n",
      "\n",
      "\tcorrelation coefficient = 0.09479\n",
      "\tp-value = 0.00076\n",
      "\n",
      "GOOGL\n",
      "Spearman correlation: \n",
      "\n",
      "\tcorrelation coefficient = 0.45858\n",
      "\tp-value = 0.00000\n",
      "\n"
     ]
    }
   ],
   "source": [
    "correlation_results = []\n",
    "for ticker in tickers:\n",
    "    print(ticker)\n",
    "    corr, pval = calc_spearman(ticker)\n",
    "    print_sp_corr(corr, pval)\n",
    "    correlation_results.append([corr, pval])\n",
    "correlation_results = np.array(correlation_results)"
   ]
  },
  {
   "cell_type": "markdown",
   "metadata": {},
   "source": [
    "To get a clearer view let's graph the results."
   ]
  },
  {
   "cell_type": "code",
   "execution_count": 324,
   "metadata": {},
   "outputs": [],
   "source": [
    "def display_correlation_results(correlation_results):\n",
    "    p_values = correlation_results[:, 1]\n",
    "    correlations = correlation_results[:, 0]\n",
    "\n",
    "    y_axis = np.arange(len(tickers))\n",
    "\n",
    "    fig = plt.figure(figsize=(16, 8))\n",
    "    ax_corr = fig.add_subplot(label=\"Correlation coefficient\")\n",
    "    ax_p = ax_corr.twiny()\n",
    "\n",
    "    # Display both variables in one chart by offsetting the bars' position\n",
    "    ax_corr.barh(y_axis - 0.21, correlations, 0.4, label=\"Correlation coefficient\")\n",
    "    ax_p.barh(y_axis + 0.21, p_values, 0.4, label=\"P-value\", color=\"orange\")\n",
    "\n",
    "    for index, value in enumerate(correlations):\n",
    "        ax_corr.text(value + 0.005, index - 0.21, str(round(value, 3)), color='blue', size=\"medium\", ha=\"left\", va=\"center\")\n",
    "\n",
    "    for index, value in enumerate(p_values):\n",
    "        ax_p.text(p_values.min(), index + 0.21, str(value), color='black', size=\"x-large\", ha=\"left\", va=\"center\")\n",
    "\n",
    "\n",
    "    # Make the scale for the p-value logarithmic, because the values are too small\n",
    "    ax_p.set_xscale('log')\n",
    "\n",
    "    # Set proper chart labels\n",
    "    ax_corr.set_xlabel(\"Company\")\n",
    "    ax_corr.set_ylabel(\"Correlation coefficient\")\n",
    "    ax_p.set_xlabel(\"P-value\")\n",
    "\n",
    "    # Create a legend\n",
    "    lines, labels = ax_corr.get_legend_handles_labels()\n",
    "    lines2, labels2 = ax_p.get_legend_handles_labels()\n",
    "    ax_corr.legend(lines + lines2, labels + labels2, loc=0)\n",
    "\n",
    "    # Set the x axis ticks\n",
    "    plt.yticks(ticks=y_axis, labels=tickers)\n",
    "\n",
    "    plt.show()"
   ]
  },
  {
   "cell_type": "code",
   "execution_count": 325,
   "metadata": {},
   "outputs": [
    {
     "data": {
      "image/png": "[encoded data removed]",
      "text/plain": [
       "<Figure size 1152x576 with 2 Axes>"
      ]
     },
     "metadata": {
      "needs_background": "light"
     },
     "output_type": "display_data"
    }
   ],
   "source": [
    "display_correlation_results(correlation_results)"
   ]
  },
  {
   "cell_type": "markdown",
   "metadata": {},
   "source": [
    "Here we can see that the all the p-values satisfy our criteria (to be less than 0.05). This means that we can reject the null hypothesis and say that the is a positive correlation between the amount of tweets talking about a company on a certain day with the volume of its stock traded.\n",
    "\n",
    "However there is another conclusion which we can make. The correlation depends a lot on which company we are looking at. The AAPL and TSLA stocks have the biggest correlation coefficients, which is hardly a coincidence. Tesla and Apple are maybe the most \"hyped\" publicly traded companies. Regular ordinary people care about their faith."
   ]
  }
 ],
 "metadata": {
  "interpreter": {
   "hash": "a6c8b04f14d242a79d2f2c97ca18fbe5de19a6e318158e3ea606ce00f4b7f1f1"
  },
  "kernelspec": {
   "display_name": "Python 3",
   "language": "python",
   "name": "python3"
  },
  "language_info": {
   "codemirror_mode": {
    "name": "ipython",
    "version": 3
   },
   "file_extension": ".py",
   "mimetype": "text/x-python",
   "name": "python",
   "nbconvert_exporter": "python",
   "pygments_lexer": "ipython3",
   "version": "3.7.3"
  }
 },
 "nbformat": 4,
 "nbformat_minor": 2
}
